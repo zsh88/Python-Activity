{
  "nbformat": 4,
  "nbformat_minor": 0,
  "metadata": {
    "colab": {
      "name": "Chapter8_Software Development.ipynb",
      "provenance": []
    },
    "kernelspec": {
      "name": "python3",
      "display_name": "Python 3"
    }
  },
  "cells": [
    {
      "cell_type": "markdown",
      "metadata": {
        "id": "E1N3EFG9fEmB"
      },
      "source": [
        "# Chapter 8: Software Development"
      ]
    },
    {
      "cell_type": "markdown",
      "metadata": {
        "id": "xeYzn07fzVEc"
      },
      "source": [
        "## Debugging"
      ]
    },
    {
      "cell_type": "code",
      "metadata": {
        "colab": {
          "base_uri": "https://localhost:8080/"
        },
        "id": "dbLo_ByZfHG7",
        "outputId": "30ea6106-5ff1-4490-95d7-139a43b4b208"
      },
      "source": [
        "# magic_operation.py\n",
        "\n",
        "\n",
        "# This is a comment\n",
        "this = \"is the first line to execute\"\n",
        "def secret_sauce(number):\n",
        "    if number <= 10:\n",
        "        return number + 10\n",
        "    else:\n",
        "        return number - 10\n",
        "def magic_operation(x, y):\n",
        "    res = x + y\n",
        "    res *= y\n",
        "    res /= x\n",
        "    res = secret_sauce(res)\n",
        "    return res\n",
        "print(magic_operation(2, 10))"
      ],
      "execution_count": null,
      "outputs": [
        {
          "output_type": "stream",
          "text": [
            "50.0\n"
          ],
          "name": "stdout"
        }
      ]
    },
    {
      "cell_type": "code",
      "metadata": {
        "colab": {
          "base_uri": "https://localhost:8080/"
        },
        "id": "TjfWTDh31Dek",
        "outputId": "0fcc7311-2047-46d0-fdda-badd633c7390"
      },
      "source": [
        "# magic_operation_with_breakpoint.py\n",
        "\n",
        "# This is a comment\n",
        "\n",
        "import pdb; pdb.set_trace()\n",
        "\n",
        "this = \"is the first line to execute\"\n",
        "\n",
        "def secret_sauce(number):\n",
        "    # breakpoint()\n",
        "    if number <= 10:\n",
        "        return number + 10\n",
        "    else:\n",
        "        return number - 10\n",
        "\n",
        "def magic_operation(x, y):\n",
        "    res = x + y\n",
        "    res *= y\n",
        "    res /= x\n",
        "    res = secret_sauce(res)\n",
        "    return res\n",
        "\n",
        "print(magic_operation(2, 10))"
      ],
      "execution_count": null,
      "outputs": [
        {
          "output_type": "stream",
          "text": [
            "--Return--\n",
            "> <ipython-input-1-03ba38721274>(5)<module>()->None\n",
            "-> import pdb; pdb.set_trace()\n",
            "(Pdb) 10\n",
            "10\n",
            "(Pdb) 15\n",
            "15\n",
            "(Pdb) 20\n",
            "20\n",
            "(Pdb) 8\n",
            "8\n",
            "(Pdb) 1\n",
            "1\n",
            "--KeyboardInterrupt--\n",
            "--KeyboardInterrupt--\n",
            "--KeyboardInterrupt--\n"
          ],
          "name": "stdout"
        }
      ]
    },
    {
      "cell_type": "markdown",
      "metadata": {
        "id": "Qgi_N4hp0HcI"
      },
      "source": [
        "* **break filename:linenumber:** This sets a breakpoint in the specified line. It ensures that you will stop the code at that point when other commands are running by continuing the execution. Breakpoints can be set in any file included in the standard library. If we want to set a breakpoint in a file that is part of a module, you can do so by just using its full path within the Python path. For example, to stop the debugger in the parser module, which is part of the HTML package of the standard library, you would perform b html/parser:50 to stop the code on line 50 of the file.\n",
        "\n",
        "* **break function:** You can request to stop the code when a specific function is called. If the function is in the current file, you can pass the function name. If the function is imported from another module, you will have to pass the full function specification, for example, break html.parser. HTMLParser.reset, to stop at the reset function of the HTMLParser class of html.parser.\n",
        "\n",
        "* **break without arguments:** This lists all the current breakpoints that are set in the current state of the program.\n",
        "\n",
        "* **continue:** This continues the execution until a breakpoint is found. This is quite useful when you start a program, set breakpoints in all the lines of code or functions you want to inspect, and then just let it run until it stops at any of those.\n",
        "\n",
        "* **where:** This prints a stack trace with the current line of execution where the debugger stopped. It is useful to know what called this function or to be able to move around the stack.\n",
        "\n",
        "* **down and up:** These two commands allow us to move around in the stack. If we are in a function call, we can use up to move to the caller of the function and inspect the state in that frame, or you can use down to go deeper in the stack after we have moved up.\n",
        "\n",
        "* **list:** This displays 11 lines of code from the point where the execution stopped for the first time to when it is called. Successive calls to list will display the following lines in batches of 11. To start again from where the execution stopped, use list.\n",
        "\n",
        "* **longlist:** This shows the source code of the current function in the current frame that is being executed.\n",
        "\n",
        "* **next:** This executes the line and moves to the following one.\n",
        "\n",
        "* **step:** This executes the current line and stops at the first opportunity within the function being executed. This is useful when you don't want to just execute a function, but we want to step through it.\n",
        "\n",
        "* **p:** This prints the value of an expression. It is useful for checking the content of variables.\n",
        "\n",
        "* **pp:** This allows you to pretty print an expression. It is useful for when we are trying to print long structures.\n",
        "\n",
        "* **run/restart:** This restarts the program keeping all the breakpoints still set. It is useful if you have passed an event you expected to see.\n",
        "\n",
        "Many functions have shortcuts; for example, you can use **b** instead of **break**, **c** or **cont** instead of **continue**, **l** instead of a **list**, **ll** for **longlist**, and so on.\n",
        "\n",
        "There are other functions not covered here, **pdb** comes with a broad **toolbox**. Use **help** to learn about all the different functions and how to use them."
      ]
    },
    {
      "cell_type": "markdown",
      "metadata": {
        "id": "nNsZrU1G7ZXm"
      },
      "source": [
        "## Exercise 112: Debugging a Salary Calculator"
      ]
    },
    {
      "cell_type": "markdown",
      "metadata": {
        "id": "MuimjoSm7dN-"
      },
      "source": [
        "In this exercise, you will use the skills you learned to use pdb to debug an application that is not working as expected.\n",
        "\n",
        "This is a salary calculator. Our company is using this to calculate the salary increase that will be given to our employees year after year, and a manager has reported that she is getting a 20% raise when the rulebook seems to suggest that she should be getting a 30% raise.\n",
        "\n",
        "You are just told that the manager's name is Rose, and you will find that the code for the salary raise calculation is the following:"
      ]
    },
    {
      "cell_type": "code",
      "metadata": {
        "colab": {
          "base_uri": "https://localhost:8080/"
        },
        "id": "FG6O1Rmw5P1l",
        "outputId": "df6607d2-6b43-4693-eac4-fc8ee2060725"
      },
      "source": [
        "\"\"\"Adjusts the salary rise of an employ\"\"\"\n",
        "\n",
        "def _manager_adjust(salary, rise):\n",
        "    if rise < 0.10:\n",
        "        # We need to keep managers happy.\n",
        "        return 0.10\n",
        "\n",
        "    if salary >= 1_000_000:\n",
        "        # They are making enough already.\n",
        "        return rise - 0.10\n",
        "\n",
        "\n",
        "def calculate_new_salary(salary, promised_pct, is_manager, is_good_year):\n",
        "    rise = promised_pct\n",
        "\n",
        "    # remove 10% if it was a bad year\n",
        "    if not is_good_year:\n",
        "        rise -= 0.1\n",
        "    else:\n",
        "        pass\n",
        "\n",
        "    # managers have a special adjust\n",
        "    if is_manager:\n",
        "        rise = _manager_adjust(salary, rise)\n",
        "\n",
        "    # Extra bonus for people with high rises\n",
        "    if rise >= 0.20:\n",
        "        rise = rise + 0.10\n",
        "\n",
        "    salary_increase = salary * rise\n",
        "    return int(salary + salary_increase)\n",
        "\n",
        "\n",
        "rose_salary = calculate_new_salary(1_000_000, 0.30, True, True)\n",
        "print(\"Rose's salary will be:\", rose_salary)\n",
        "\n",
        "rose_salary = calculate_new_salary(1_000_000, 0.30, True, True)\n",
        "print(\"Rose's salary will be:\", rose_salary)"
      ],
      "execution_count": null,
      "outputs": [
        {
          "output_type": "stream",
          "text": [
            "Rose's salary will be: 1200000\n"
          ],
          "name": "stdout"
        }
      ]
    },
    {
      "cell_type": "markdown",
      "metadata": {
        "id": "cIIJkhMn136U"
      },
      "source": [
        "## Activity 22: Debugging Sample Python Code for an Application\n",
        "\n"
      ]
    },
    {
      "cell_type": "markdown",
      "metadata": {
        "id": "RmZt7VCtSqhp"
      },
      "source": [
        "### Before Debugging"
      ]
    },
    {
      "cell_type": "code",
      "metadata": {
        "id": "uk0pUxYrSo32"
      },
      "source": [
        "DEFAULT_INITIAL_BASKET = [\"orange\", \"apple\"]\n",
        "\n",
        "def create_picnic_basket(healthy, hungry, initial_basket=DEFAULT_INITIAL_BASKET):\n",
        "    basket = initial_basket\n",
        "    if healthy:\n",
        "        basket.append(\"strawberry\")\n",
        "    else:\n",
        "        basket.append(\"jam\")\n",
        "\n",
        "    if hungry:\n",
        "        basket.append(\"sandwich\")\n",
        "    return basket\n",
        "\n",
        "# Reproducer\n",
        "print(\"First basket:\", create_picnic_basket(True, False))\n",
        "print(\"Second basket:\", create_picnic_basket(False, True, [\"tea\"]))\n",
        "print(\"Third basket:\", create_picnic_basket(True, True))"
      ],
      "execution_count": null,
      "outputs": []
    },
    {
      "cell_type": "markdown",
      "metadata": {
        "id": "1LpLcK0jSw6D"
      },
      "source": [
        "### After Debugging"
      ]
    },
    {
      "cell_type": "code",
      "metadata": {
        "id": "ZAcehRpq3M_G"
      },
      "source": [
        "def create_picnic_basket(healthy, hungry, initial_basket = None):\n",
        "    basket = initial_basket\n",
        "    if basket is None:\n",
        "      basket = [\"orange\", \"apple\"]\n",
        "    if healthy:\n",
        "        basket.append(\"strawberry\")\n",
        "    else:\n",
        "        basket.append(\"jam\")\n",
        "\n",
        "    if hungry:\n",
        "        basket.append(\"sandwich\")\n",
        "    return basket\n",
        "\n",
        "# Reproducer\n",
        "# print(\"First basket:\", create_picnic_basket(True, False))\n",
        "# print(\"Second basket:\", create_picnic_basket(False, True, [\"tea\"]))\n",
        "# print(\"Third basket:\", create_picnic_basket(True, True))"
      ],
      "execution_count": null,
      "outputs": []
    },
    {
      "cell_type": "code",
      "metadata": {
        "colab": {
          "base_uri": "https://localhost:8080/"
        },
        "id": "QoDLxPq144NU",
        "outputId": "563edc22-f7ba-4612-acf5-7f5b8594e3db"
      },
      "source": [
        "print(\"First basket:\", create_picnic_basket(True, False))"
      ],
      "execution_count": null,
      "outputs": [
        {
          "output_type": "stream",
          "text": [
            "First basket: ['orange', 'apple', 'strawberry']\n"
          ],
          "name": "stdout"
        }
      ]
    },
    {
      "cell_type": "code",
      "metadata": {
        "colab": {
          "base_uri": "https://localhost:8080/"
        },
        "id": "asVpExsS45si",
        "outputId": "be3e966e-8976-4b39-c521-7bfa0b53b909"
      },
      "source": [
        "print(\"Second basket:\", create_picnic_basket(False, True, [\"tea\"]))"
      ],
      "execution_count": null,
      "outputs": [
        {
          "output_type": "stream",
          "text": [
            "Second basket: ['tea', 'jam', 'sandwich']\n"
          ],
          "name": "stdout"
        }
      ]
    },
    {
      "cell_type": "code",
      "metadata": {
        "colab": {
          "base_uri": "https://localhost:8080/"
        },
        "id": "AsfkKdfs49C-",
        "outputId": "3348672a-1959-41c2-e19e-b7566c9434d0"
      },
      "source": [
        "print(\"Third basket:\", create_picnic_basket(True, True))"
      ],
      "execution_count": null,
      "outputs": [
        {
          "output_type": "stream",
          "text": [
            "Third basket: ['orange', 'apple', 'strawberry', 'sandwich']\n"
          ],
          "name": "stdout"
        }
      ]
    },
    {
      "cell_type": "markdown",
      "metadata": {
        "id": "9Bdecha14zA_"
      },
      "source": [
        "## Automated Testing\n",
        "\n",
        "### Writing Tests in Python with Unit Testing\n",
        "\n",
        "The Python standard library comes with a module, **unittest**, to write test scenarios and validate your code. Usually, when you are creating tests, we create a file for the test to validate the source code of another file. In that file, you can create a class that inherits from **unittest.TestCase** and has method names that contain the word test to be run on execution. You can record expectations through functions such as **assertEquals** and assertTrue, which are part of the base class, and you can, therefore, access them."
      ]
    },
    {
      "cell_type": "markdown",
      "metadata": {
        "id": "t9chxj2056Cb"
      },
      "source": [
        "## Exercise 113: Checking Sample Code with Unit Testing\n",
        "\n",
        "In this exercise, you will write and run tests for a function that checks whether a number is divisible by another. This will help you to validate the implementation and potentially find any existing bugs:"
      ]
    },
    {
      "cell_type": "markdown",
      "metadata": {
        "id": "aj4lYLvF6Mn9"
      },
      "source": [
        "1. Create a function, **is_divisible**, which checks whether a number is divisible by another. Save this function in a file named **sample_code**. This function is also provided in the sample_code.py file. The file just has a single function that checks whether a number is divisible by another:\n"
      ]
    },
    {
      "cell_type": "code",
      "metadata": {
        "id": "vXL-bKUG4_tE"
      },
      "source": [
        "def is_divisible(x, y):\n",
        "    if x % y == 0:\n",
        "        return True\n",
        "    else:\n",
        "        return False"
      ],
      "execution_count": null,
      "outputs": []
    },
    {
      "cell_type": "markdown",
      "metadata": {
        "id": "aI5R_mxHAb0v"
      },
      "source": [
        "2. Create a test file that will include the test cases for our function. Then, add the skeleton for a test case:"
      ]
    },
    {
      "cell_type": "code",
      "metadata": {
        "id": "0tp1biHG58tX"
      },
      "source": [
        "import unittest\n",
        "from sample_code import is_divisible\n",
        "class TestIsDivisible(unittest.TestCase):\n",
        "    def test_divisible_numbers(self):\n",
        "        pass\n",
        "if __name__ == '__main__':\n",
        "    unittest.main()"
      ],
      "execution_count": null,
      "outputs": []
    },
    {
      "cell_type": "markdown",
      "metadata": {
        "id": "rvLRbci1AjhH"
      },
      "source": [
        "This code imports the function to test, **is_divisible**, and the **unittest** module. It then creates the common boilerplate to start writing tests: a class that inherits from **unittest. TestCase** and two final lines that allow us to run the code and execute the tests.\n",
        "\n",
        "3. Now, write the test code:\n"
      ]
    },
    {
      "cell_type": "code",
      "metadata": {
        "id": "p_0VbdFoA6Bt"
      },
      "source": [
        "def test_divisible_numbers(self):\n",
        "       self.assertTrue(is_divisible(10, 2))\n",
        "       self.assertTrue(is_divisible(10, 10))\n",
        "       self.assertTrue(is_divisible(1000, 1))\n",
        "   def test_not_divisible_numbers(self):\n",
        "       self.assertFalse(is_divisible(5, 3))\n",
        "       self.assertFalse(is_divisible(5, 6))\n",
        "       self.assertFalse(is_divisible(10, 3))"
      ],
      "execution_count": null,
      "outputs": []
    },
    {
      "cell_type": "markdown",
      "metadata": {
        "id": "KSXR2kd5BA7b"
      },
      "source": [
        "You now write the code for Your tests by using the **self.assertX** methods. There are different kinds of methods for different kinds of asserts. For example, **self.assertEqual** will check whether the two arguments are equal or fail otherwise. You will use **self.assertTrue** and **self.assertFalse**. With this, you can create the preceding tests.\n",
        "\n",
        "4. Run the test:\n"
      ]
    },
    {
      "cell_type": "code",
      "metadata": {
        "id": "dWYxAEuiBQ_2"
      },
      "source": [
        "python3.7 test_unittest.py  -v"
      ],
      "execution_count": null,
      "outputs": []
    },
    {
      "cell_type": "markdown",
      "metadata": {
        "id": "ZfZSxkWnBYyv"
      },
      "source": [
        "Run the test by executing it with a Python interpreter. By using -v, you get extra information about the test names as the tests are running. You should get the following output:\n",
        "\n",
        "5. Now, add more complex tests:\n"
      ]
    },
    {
      "cell_type": "code",
      "metadata": {
        "id": "aqTOmIJrBa1x"
      },
      "source": [
        " def test_dividing_by_0(self):\n",
        "        with self.assertRaises(ZeroDivisionError):\n",
        "            is_divisible(1, 0)"
      ],
      "execution_count": null,
      "outputs": []
    },
    {
      "cell_type": "markdown",
      "metadata": {
        "id": "l31mt5fZBi4p"
      },
      "source": [
        "By adding a test when you pass 0, you want to check whether it will raise an exception. The assertRaises context manager will validate that the function raises the exception passed in within the context. So, there you go: you have a test suite with the standard library unittest module."
      ]
    },
    {
      "cell_type": "markdown",
      "metadata": {
        "id": "KwhjxdpFBl_k"
      },
      "source": [
        "Unit testing is a great tool for writing automated tests, but the community seems to generally prefer to use a third-party tool named **Pytest**. **Pytest** allows the user to write tests by just having plain functions in their function and by using Python assert.\n",
        "\n",
        "This means that rather than using **self.assertEquals(a, b)**, you can just do **assert a == b**. Additionally, pytest comes with some enhancements, such as capturing output, modular fixtures, or user-defined plugins. If you plan to develop any test suite that is bigger than a few tests, consider checking for pytest.\n"
      ]
    },
    {
      "cell_type": "code",
      "metadata": {
        "id": "ynu7XFoUBlUK"
      },
      "source": [
        ""
      ],
      "execution_count": null,
      "outputs": []
    }
  ]
}