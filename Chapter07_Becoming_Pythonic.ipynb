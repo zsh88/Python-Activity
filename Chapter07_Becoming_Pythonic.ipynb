{
  "nbformat": 4,
  "nbformat_minor": 0,
  "metadata": {
    "kernelspec": {
      "display_name": "Python 3",
      "language": "python",
      "name": "python3"
    },
    "language_info": {
      "codemirror_mode": {
        "name": "ipython",
        "version": 3
      },
      "file_extension": ".py",
      "mimetype": "text/x-python",
      "name": "python",
      "nbconvert_exporter": "python",
      "pygments_lexer": "ipython3",
      "version": "3.8.3"
    },
    "colab": {
      "name": "Chapter07_Becoming Pythonic.ipynb",
      "provenance": []
    }
  },
  "cells": [
    {
      "cell_type": "markdown",
      "metadata": {
        "id": "taZ0uAdC9_5P"
      },
      "source": [
        "# Chapter07: Becoming Pythonic"
      ]
    },
    {
      "cell_type": "markdown",
      "metadata": {
        "id": "ai84UBOg9_5e"
      },
      "source": [
        "## Exercise 99: Introducing List Comprehensions"
      ]
    },
    {
      "cell_type": "markdown",
      "metadata": {
        "id": "-UUyDDkW9_5g"
      },
      "source": [
        "1. Open a Jupyter notebook and type in the following code:"
      ]
    },
    {
      "cell_type": "code",
      "metadata": {
        "id": "4Ft9A1Wy9_5j",
        "outputId": "6233a68b-15bd-4eee-dbda-c7e17383779b"
      },
      "source": [
        "cubes = []\n",
        "for x in [1,2,3,4,5]:\n",
        "    cubes.append(x**3)\n",
        "print(cubes)"
      ],
      "execution_count": null,
      "outputs": [
        {
          "output_type": "stream",
          "text": [
            "[1, 8, 27, 64, 125]\n"
          ],
          "name": "stdout"
        }
      ]
    },
    {
      "cell_type": "markdown",
      "metadata": {
        "id": "2F3GCYmW9_51"
      },
      "source": [
        "Understanding this code involves keeping track of the state of the cube's variable, which starts as an empty list, and of the x variable, which is used as a cursor to keep track of the program's position in the list. This is all irrelevant to the task at hand, which is to list the cubes of each of these numbers. It will be better – more Pythonic, even – to remove all the irrelevant details. Luckily, list comprehensions allow us to do that."
      ]
    },
    {
      "cell_type": "markdown",
      "metadata": {
        "id": "FcrNpLLT9_54"
      },
      "source": [
        "2. Now write the following code, which replaces the previous loop with a list comprehension:"
      ]
    },
    {
      "cell_type": "code",
      "metadata": {
        "id": "3H8P2RZU9_5-",
        "outputId": "e7c25740-6ce0-4c4b-87c1-1bd481bdea48"
      },
      "source": [
        "cubes = [x**3 for x in [1,2,3,4,5]]\n",
        "print(cubes)"
      ],
      "execution_count": null,
      "outputs": [
        {
          "output_type": "stream",
          "text": [
            "[1, 8, 27, 64, 125]\n"
          ],
          "name": "stdout"
        }
      ]
    },
    {
      "cell_type": "markdown",
      "metadata": {
        "id": "gqTpl-Fh9_6I"
      },
      "source": [
        "This says, \"For each member in the [1,2,3,4,5] list, call it x, calculate the x**3 expression, and put that in the list cubes.\" Instead of using the [1, 2, 3, 4, 5] list as input, you can use any other iterable as well; for example, a range."
      ]
    },
    {
      "cell_type": "markdown",
      "metadata": {
        "id": "8-m2OzBg9_6L"
      },
      "source": [
        "3. Now you can make this example even simpler by writing the following:"
      ]
    },
    {
      "cell_type": "code",
      "metadata": {
        "id": "K_qli5la9_6N",
        "outputId": "12e90a7f-6e76-41ec-c2c1-b3282f8bf3b3"
      },
      "source": [
        "cubes = [x**3 for x in range(1,6)]\n",
        "print(cubes)"
      ],
      "execution_count": null,
      "outputs": [
        {
          "output_type": "stream",
          "text": [
            "[1, 8, 27, 64, 125]\n"
          ],
          "name": "stdout"
        }
      ]
    },
    {
      "cell_type": "markdown",
      "metadata": {
        "id": "pNkIROlX9_6Z"
      },
      "source": [
        "Now the code is as short and succinct as it can be. Rather than telling you the recipe that the computer follows to build a list of the cubes of the numbers 1, 2, 3, 4, and 5, it tells you that it calculates the cube of x for every x starting from 1 and smaller than 6. This, then, is the essence of Pythonic coding: reducing the gap between what you say and what you mean when you tell the computer what it should do. A list comprehension can also filter its inputs when building a list. To do this, you add an if expression to the end of the comprehension, where the expression can be any test of an input value that returns True or False. This is useful when you want to transform some of the values in a list while ignoring others. As an example, you could build a photo gallery of social media posts by making a list of thumbnail images from photos found in each post, but only when the posts are pictures, not text status updates."
      ]
    },
    {
      "cell_type": "markdown",
      "metadata": {
        "id": "6qxAK9-j9_6b"
      },
      "source": [
        "4. You want to get Python to shout the names of the Monty Python cast, but only those whose name begins with \"T\". Enter the following Python code into a notebook:"
      ]
    },
    {
      "cell_type": "code",
      "metadata": {
        "id": "BCqIp8rU9_6d"
      },
      "source": [
        "names = [\"Graham Chapman\", \"John Cleese\", \"Terry Gilliam\", \"Eric Idle\", \"Terry Jones\"]"
      ],
      "execution_count": null,
      "outputs": []
    },
    {
      "cell_type": "markdown",
      "metadata": {
        "id": "GNIdABfw9_6n"
      },
      "source": [
        "5. Those are the names you are going to use. Enter this list comprehension to filter only those that start with \"T\" and operate on them:"
      ]
    },
    {
      "cell_type": "code",
      "metadata": {
        "id": "X5S5znl-9_6o",
        "outputId": "7af8f138-e5da-4fd0-bb3e-0d0016d00661"
      },
      "source": [
        "print([name.upper() for name in names if name.startswith(\"T\")])"
      ],
      "execution_count": null,
      "outputs": [
        {
          "output_type": "stream",
          "text": [
            "['TERRY GILLIAM', 'TERRY JONES']\n"
          ],
          "name": "stdout"
        }
      ]
    },
    {
      "cell_type": "markdown",
      "metadata": {
        "id": "kI9Slvdt9_60"
      },
      "source": [
        "## Exercise 100: Using Multiple Input Lists"
      ]
    },
    {
      "cell_type": "markdown",
      "metadata": {
        "id": "8S02C-5x9_62"
      },
      "source": [
        "To show how this works, in this exercise, you will be multiplying the elements of two lists together. The Spam Café in Monty Python's Flying Circus (refer to the preceding note) famously served a narrow range of foodstuffs mostly centered around a processed meat product. You will use ingredients from its menu to explore multiple-list comprehension:"
      ]
    },
    {
      "cell_type": "markdown",
      "metadata": {
        "id": "zq7-r3SJ9_64"
      },
      "source": [
        "1. Enter this code into a Jupyter notebook:"
      ]
    },
    {
      "cell_type": "code",
      "metadata": {
        "id": "eRJGMAeb9_68",
        "outputId": "8f68235a-b497-4056-ece6-8836ee535f72"
      },
      "source": [
        "print([x*y for x in ['spam', 'eggs', 'chips'] for y in [1,2,3]])"
      ],
      "execution_count": null,
      "outputs": [
        {
          "output_type": "stream",
          "text": [
            "['spam', 'spamspam', 'spamspamspam', 'eggs', 'eggseggs', 'eggseggseggs', 'chips', 'chipschips', 'chipschipschips']\n"
          ],
          "name": "stdout"
        }
      ]
    },
    {
      "cell_type": "markdown",
      "metadata": {
        "id": "wqbeeCoF9_7G"
      },
      "source": [
        "Inspecting the result shows that the collections are iterated in a nested fashion, with the rightmost collection on the inside of the nest and the leftmost on the outside. Here, if x is set to spam, then x*y is calculated with y being equal to each of the values of 1, 2, and then 3 before x is set to eggs, and so on."
      ]
    },
    {
      "cell_type": "markdown",
      "metadata": {
        "id": "KzLlwV0f9_7H"
      },
      "source": [
        "2. Reverse the order of the lists:"
      ]
    },
    {
      "cell_type": "code",
      "metadata": {
        "id": "PK--OVSy9_7K",
        "outputId": "3cd3ae07-4c10-4770-8fde-9454ce13d035"
      },
      "source": [
        "print([x*y for x in [1,2,3] for y in ['spam', 'eggs', 'chips']])"
      ],
      "execution_count": null,
      "outputs": [
        {
          "output_type": "stream",
          "text": [
            "['spam', 'eggs', 'chips', 'spamspam', 'eggseggs', 'chipschips', 'spamspamspam', 'eggseggseggs', 'chipschipschips']\n"
          ],
          "name": "stdout"
        }
      ]
    },
    {
      "cell_type": "markdown",
      "metadata": {
        "id": "QEa2tVy99_7W"
      },
      "source": [
        "Swapping the order of the lists changes the order of the results in the comprehension. Now, x is initially set to 1, then y to each of spam, eggs, and chips, before x is set to 2, and so on. While the result of anyone multiplication does not depend on its order (for instance, the results of 'spam'*2 and 2*'spam' are the same, namely, spamspam), the fact that the lists are iterated in a different order means that the same results are computed in a different sequence."
      ]
    },
    {
      "cell_type": "markdown",
      "metadata": {
        "id": "9enqxsVf9_7X"
      },
      "source": [
        "For instance, the same list could be iterated multiple times in a list comprehension — the lists for x and y do not have to be different:"
      ]
    },
    {
      "cell_type": "code",
      "metadata": {
        "id": "f0nVETLQ9_7Z",
        "outputId": "65682b23-8cd0-4506-8ee0-af34bfa0a5d3"
      },
      "source": [
        "numbers = [1,2,3]\n",
        "print([x**y for x in numbers for y in numbers])"
      ],
      "execution_count": null,
      "outputs": [
        {
          "output_type": "stream",
          "text": [
            "[1, 1, 1, 2, 4, 8, 3, 9, 27]\n"
          ],
          "name": "stdout"
        }
      ]
    },
    {
      "cell_type": "markdown",
      "metadata": {
        "id": "6_rgoC-49_7j"
      },
      "source": [
        "In the following activity, we will be creating fixtures for a chess tournament among four players. We will be using list comprehension and filters to find the best fixture.\n",
        "\n",
        "\n"
      ]
    },
    {
      "cell_type": "markdown",
      "metadata": {
        "id": "0fABu9FN9_7l"
      },
      "source": [
        "## Activity 18: Building a Chess Tournament"
      ]
    },
    {
      "cell_type": "markdown",
      "metadata": {
        "id": "JNmuC48F9_7n"
      },
      "source": [
        "In this activity, you will use a list comprehension to create the fixtures for a chess tournament. Fixtures are strings of the form \"player 1 versus player 2.\" Because there is a slight advantage to playing as white, you also want to generate the \"player 2 versus player 1\" fixture so that the tournament is fair. But you do not want people playing against themselves, so you should also filter out fixtures such as \"player 1 versus player 1.\""
      ]
    },
    {
      "cell_type": "code",
      "metadata": {
        "id": "4taE-PhK9_7p",
        "colab": {
          "base_uri": "https://localhost:8080/"
        },
        "outputId": "028f5a38-9bf8-4b10-efef-279af64b0dd7"
      },
      "source": [
        "players = [\"Magnus Carlsen\", \"Fabiano Caruana\", \"Yifan Hou\", \"Wenjun Ju\"]\n",
        "\n",
        "fixture = [f\"{p1} vs. {p2}\" for p1 in players for p2 in players if p1 != p2]\n",
        "print(fixture)\n"
      ],
      "execution_count": null,
      "outputs": [
        {
          "output_type": "stream",
          "text": [
            "['Magnus Carlsen vs. Fabiano Caruana', 'Magnus Carlsen vs. Yifan Hou', 'Magnus Carlsen vs. Wenjun Ju', 'Fabiano Caruana vs. Magnus Carlsen', 'Fabiano Caruana vs. Yifan Hou', 'Fabiano Caruana vs. Wenjun Ju', 'Yifan Hou vs. Magnus Carlsen', 'Yifan Hou vs. Fabiano Caruana', 'Yifan Hou vs. Wenjun Ju', 'Wenjun Ju vs. Magnus Carlsen', 'Wenjun Ju vs. Fabiano Caruana', 'Wenjun Ju vs. Yifan Hou']\n"
          ],
          "name": "stdout"
        }
      ]
    },
    {
      "cell_type": "markdown",
      "metadata": {
        "id": "gfTOOZ9q9_71"
      },
      "source": [
        "## Exercise 101: Using Set Comprehensions"
      ]
    },
    {
      "cell_type": "markdown",
      "metadata": {
        "id": "KijoMhxy9_72"
      },
      "source": [
        "The difference between a list and a set is that the elements in a list have an order, and those in a set do not. This means that a set cannot contain duplicate entries: an object is either in a set or not.\n",
        "\n",
        "In this exercise, you will be changing a set comprehension into a set:\n",
        "\n",
        "1. Enter the following comprehension code into a notebook to create a list:"
      ]
    },
    {
      "cell_type": "code",
      "metadata": {
        "id": "wH81mmJF9_75",
        "colab": {
          "base_uri": "https://localhost:8080/"
        },
        "outputId": "308dd477-29cf-445f-81d8-d18db6b035a3"
      },
      "source": [
        "print([a + b for a in [0,1,2,3] for b in [4,3,2,1]])"
      ],
      "execution_count": null,
      "outputs": [
        {
          "output_type": "stream",
          "text": [
            "[4, 3, 2, 1, 5, 4, 3, 2, 6, 5, 4, 3, 7, 6, 5, 4]\n"
          ],
          "name": "stdout"
        }
      ]
    },
    {
      "cell_type": "markdown",
      "metadata": {
        "id": "1_acjY2d9_8E"
      },
      "source": [
        "2. Now change the result into a set. Change the outer square brackets in the comprehension to curly braces:"
      ]
    },
    {
      "cell_type": "code",
      "metadata": {
        "id": "RkCUyiWA9_8G",
        "colab": {
          "base_uri": "https://localhost:8080/"
        },
        "outputId": "ffdd2e43-a03e-4ba2-ee86-20f9531699be"
      },
      "source": [
        "print({a+b for a in [0,1,2,3] for b in [4,3,2,1]})"
      ],
      "execution_count": null,
      "outputs": [
        {
          "output_type": "stream",
          "text": [
            "{1, 2, 3, 4, 5, 6, 7}\n"
          ],
          "name": "stdout"
        }
      ]
    },
    {
      "cell_type": "markdown",
      "metadata": {
        "id": "kPJ4S2SZ9_8c"
      },
      "source": [
        "Notice that the set created in step 2 is much shorter than the list created in step 1. The reason for this is that the set does not contain duplicate entries – try counting how many times the number 4 appears in each collection. It's in the list four times (because 0 + 4 = 4, 1 + 3 = 4, 2 + 2 = 4, and 3 + 1 = 4), but sets don't retain duplicates, so there's only one instance of the number 4 in the set. If you just removed the duplicates from the list produced in step 1, you'd have a list of [4, 3, 2, 1, 5, 6, 7]. Sets don't preserve the order of their elements either, so the numbers appear in a different order in the set created in step 2. The fact that the numbers in the set appear in numerical order is due to the implementation of the set type in Python."
      ]
    },
    {
      "cell_type": "markdown",
      "metadata": {
        "id": "GOlKiitI9_8d"
      },
      "source": [
        "## Exercise 102: Using Dictionary Comprehensions"
      ]
    },
    {
      "cell_type": "markdown",
      "metadata": {
        "id": "OMF86nT69_8f"
      },
      "source": [
        "Curly-brace comprehension can also be used to create a dictionary. The expression on the left-hand side of the for keyword in the comprehension should contain a key value pair. You write the expression that will generate the dictionary keys to the left of the colon and the expression that will generate the values to the right. Note that a key can only appear once in a dictionary.\n",
        "\n",
        "In this exercise, you will create a lookup dictionary of the lengths of the names in a list and print the length of each name:\n",
        "\n",
        "1. Enter this list of names of Monty Python stars in a notebook:"
      ]
    },
    {
      "cell_type": "code",
      "metadata": {
        "id": "BKM5f5LM9_8h"
      },
      "source": [
        "names = [\"Eric\", \"Graham\", \"Terry\", \"John\", \"Terry\"]"
      ],
      "execution_count": null,
      "outputs": []
    },
    {
      "cell_type": "markdown",
      "metadata": {
        "id": "04-3c42K9_82"
      },
      "source": [
        "2. Use a comprehension to create a lookup dictionary of the lengths of the names:"
      ]
    },
    {
      "cell_type": "code",
      "metadata": {
        "id": "JZbkDG7l9_84",
        "outputId": "fc5e8c11-24ce-41fa-da7a-329a210afbd4"
      },
      "source": [
        "print({k:len(k) for k in [\"Eric\", \"Graham\", \"Terry\", \"John\", \"Terry\"]})\n"
      ],
      "execution_count": null,
      "outputs": [
        {
          "output_type": "stream",
          "text": [
            "{'Eric': 4, 'Graham': 6, 'Terry': 5, 'John': 4}\n"
          ],
          "name": "stdout"
        }
      ]
    },
    {
      "cell_type": "markdown",
      "metadata": {
        "id": "DhtMVcP29_9A"
      },
      "source": [
        "Notice that the entry for Terry only appears once, because dictionaries cannot contain duplicate keys. You have created an index of the length of each name, keyed by name. An index like this could be useful in a game, where it could work out how to layout the score table for each player without repeatedly having to recalculate the length of each player's name."
      ]
    },
    {
      "cell_type": "markdown",
      "metadata": {
        "id": "wQqxxgmZ9_9D"
      },
      "source": [
        "## Activity 19: Building a Scorecard Using Dictionary Comprehensions and Multiple Lists\n"
      ]
    },
    {
      "cell_type": "markdown",
      "metadata": {
        "id": "y-uwzj2x9_9E"
      },
      "source": [
        "You are the backend developer for a renowned college. The management has asked you to build a demo scorecard for their students based on the marks they have achieved in their exams.\n",
        "\n",
        "Your goal in this activity is to use dictionary comprehension and lists in Python to build a demo scorecard for four students in the college."
      ]
    },
    {
      "cell_type": "code",
      "metadata": {
        "id": "uWbUAP5V9_9G"
      },
      "source": [
        "students = [\"Vivean\", \"Racheal\", \"Tom\", \"Adrian\"]\n",
        "\n",
        "points = [70, 82, 80, 79]"
      ],
      "execution_count": null,
      "outputs": []
    },
    {
      "cell_type": "code",
      "metadata": {
        "id": "-444LUPk9_9O"
      },
      "source": [
        "scores = {students[i]:points[i] for i in range(4)}"
      ],
      "execution_count": null,
      "outputs": []
    },
    {
      "cell_type": "code",
      "metadata": {
        "id": "JB5Y7JDs9_9X",
        "outputId": "65e4e9ce-96bd-4110-a095-1711e035c758"
      },
      "source": [
        "print(scores)"
      ],
      "execution_count": null,
      "outputs": [
        {
          "output_type": "stream",
          "text": [
            "{'Vivean': 70, 'Racheal': 82, 'Tom': 80, 'Adrian': 79}\n"
          ],
          "name": "stdout"
        }
      ]
    },
    {
      "cell_type": "markdown",
      "metadata": {
        "id": "CvLgByMn9_9g"
      },
      "source": [
        "## Exercise 103: Adopting a Default Dict"
      ]
    },
    {
      "cell_type": "markdown",
      "metadata": {
        "id": "f8NSPKwE9_9j"
      },
      "source": [
        "In this exercise, you will be using a regular dictionary that raises a KeyError when you try to access a missing key:"
      ]
    },
    {
      "cell_type": "markdown",
      "metadata": {
        "id": "SjOjj5cg9_9k"
      },
      "source": [
        "1. Create a dictionary for john:\n"
      ]
    },
    {
      "cell_type": "code",
      "metadata": {
        "id": "LI_wRmEq9_9m"
      },
      "source": [
        "john = { 'first_name': 'John', 'surname': 'Cleese' }"
      ],
      "execution_count": null,
      "outputs": []
    },
    {
      "cell_type": "markdown",
      "metadata": {
        "id": "UDt_98Ke9_9u"
      },
      "source": [
        "Attemmpt to use a middle_name key that was not defined in the dictionary:\n"
      ]
    },
    {
      "cell_type": "code",
      "metadata": {
        "id": "GEZ-HPke9_9v",
        "outputId": "8a40c050-6685-4863-8a3e-e076e69e1cda"
      },
      "source": [
        "john['middle_name']\n"
      ],
      "execution_count": null,
      "outputs": [
        {
          "output_type": "error",
          "ename": "KeyError",
          "evalue": "'middle_name'",
          "traceback": [
            "\u001b[1;31m---------------------------------------------------------------------------\u001b[0m",
            "\u001b[1;31mKeyError\u001b[0m                                  Traceback (most recent call last)",
            "\u001b[1;32m<ipython-input-22-8005b4591b0e>\u001b[0m in \u001b[0;36m<module>\u001b[1;34m\u001b[0m\n\u001b[1;32m----> 1\u001b[1;33m \u001b[0mjohn\u001b[0m\u001b[1;33m[\u001b[0m\u001b[1;34m'middle_name'\u001b[0m\u001b[1;33m]\u001b[0m\u001b[1;33m\u001b[0m\u001b[1;33m\u001b[0m\u001b[0m\n\u001b[0m",
            "\u001b[1;31mKeyError\u001b[0m: 'middle_name'"
          ]
        }
      ]
    },
    {
      "cell_type": "markdown",
      "metadata": {
        "id": "BeQX99Ac9_94"
      },
      "source": [
        "2. Now, import the defaultdict from collections and wrap the dictionary in a defaultdict:"
      ]
    },
    {
      "cell_type": "code",
      "metadata": {
        "id": "VSs2dF5J9_96",
        "outputId": "7600615b-c58d-4338-9e13-62730cf579c5"
      },
      "source": [
        "from collections import defaultdict\n",
        "\n",
        "safe_john = defaultdict(str, john)\n"
      ],
      "execution_count": null,
      "outputs": [
        {
          "output_type": "stream",
          "text": [
            "\n"
          ],
          "name": "stdout"
        }
      ]
    },
    {
      "cell_type": "markdown",
      "metadata": {
        "id": "WfHu4ArY9_-G"
      },
      "source": [
        "The first argument is the type constructor for a string, so missing keys will appear to have the empty string as their value.\n"
      ]
    },
    {
      "cell_type": "markdown",
      "metadata": {
        "id": "fWxh-m6D9_-I"
      },
      "source": [
        "3. Attempt to use a key that was not defined via the wrapped dictionary:\n"
      ]
    },
    {
      "cell_type": "code",
      "metadata": {
        "id": "Rzamropr9_-K",
        "outputId": "c27a5e68-27b0-4d0a-959e-afd2f3ce2566"
      },
      "source": [
        "print(safe_john['middle_name'])"
      ],
      "execution_count": null,
      "outputs": [
        {
          "output_type": "stream",
          "text": [
            "\n"
          ],
          "name": "stdout"
        }
      ]
    },
    {
      "cell_type": "markdown",
      "metadata": {
        "id": "d9LOCUXB9_-T"
      },
      "source": [
        "No exception is triggered at this stage; instead, an empty string is returned. The first argument to the constructor of defaultdict, called default_factory, can be any callable (that is, function-like) object. You can use this to compute a value based on the key or return a default value that is relevant to your domain."
      ]
    },
    {
      "cell_type": "markdown",
      "metadata": {
        "id": "EbpaYRWP9_-U"
      },
      "source": [
        "4. Create a defaultdict that uses lambda as its default_factory. default_factory is a function that returns the default value for the missing keys."
      ]
    },
    {
      "cell_type": "code",
      "metadata": {
        "id": "-U6QSO4K9_-W"
      },
      "source": [
        "from collections import defaultdict\n",
        "courses = defaultdict(lambda: 'No!')\n",
        "courses['Java'] = 'This is Java'"
      ],
      "execution_count": null,
      "outputs": []
    },
    {
      "cell_type": "markdown",
      "metadata": {
        "id": "Q4AKMnR49_-f"
      },
      "source": [
        "This dictionary will return the value from the lambda on any unknown key.\n"
      ]
    },
    {
      "cell_type": "markdown",
      "metadata": {
        "id": "1oecikGr9_-h"
      },
      "source": [
        "5. Access the value at an unknown key in this new dictionary:\n"
      ]
    },
    {
      "cell_type": "code",
      "metadata": {
        "id": "rrW9Thyq9_-k",
        "outputId": "0ac69123-3788-4260-93c7-33ca0d7b940f"
      },
      "source": [
        "print(courses['Python'])\n",
        "'No!'"
      ],
      "execution_count": null,
      "outputs": [
        {
          "output_type": "stream",
          "text": [
            "No!\n"
          ],
          "name": "stdout"
        },
        {
          "output_type": "execute_result",
          "data": {
            "text/plain": [
              "'No!'"
            ]
          },
          "metadata": {
            "tags": []
          },
          "execution_count": 30
        }
      ]
    },
    {
      "cell_type": "markdown",
      "metadata": {
        "id": "MTdHwAED9_-s"
      },
      "source": [
        "6. Access the value at a known key in this new dictionary:\n"
      ]
    },
    {
      "cell_type": "code",
      "metadata": {
        "id": "b5hd2K-79_-u",
        "outputId": "46dcd489-abc7-4e71-c5d5-1c013431b49a"
      },
      "source": [
        "print(courses['Java'])\n"
      ],
      "execution_count": null,
      "outputs": [
        {
          "output_type": "stream",
          "text": [
            "This is Java\n"
          ],
          "name": "stdout"
        }
      ]
    },
    {
      "cell_type": "markdown",
      "metadata": {
        "id": "SNAl_jUg9_-2"
      },
      "source": [
        "The benefit of the default dictionary is that in situations where you know it is likely that expected keys will be missing from a dictionary, you can work with default values and not have to sprinkle your code with exception-handling blocks. This is another example of Pythonicity: if what you mean is \"use the value for the \"foo\" key, but if that doesn't exist, then use \"bar\" as the value,\" then you should write that, rather than \"use the value for the \"foo\" key, but if you get an exception and the exception is KeyError, then use \"bar\" as the value.\"\n",
        "\n",
        "Default dicts are great for working with untrusted input, such as a file chosen by the user or an object received over the network. A network service shouldn't expect any input it gets from a client to be well formatted. If it treats the data, it receives in a request as a JSON object. It should be ready for the data to not be in JSON format. If the data is really JSON, the program should not expect all of the keys defined by the API to have been supplied by the client. The default dict gives you a really concise way to work with such under-specified data."
      ]
    },
    {
      "cell_type": "markdown",
      "metadata": {
        "id": "Q2iS_mr79_-4"
      },
      "source": [
        "## Exercise 104: The Simplest Iterator"
      ]
    },
    {
      "cell_type": "markdown",
      "metadata": {
        "id": "_Bj92kxp9_-8"
      },
      "source": [
        "The easiest way to provide an iterator for your class is to use one from another object. If you are designing a class that controls access to its own collection, then it might be a good idea to let programmers iterate over your object using the collection's iterator. In this case, just have __iter__() return the appropriate iterator.\n",
        "\n",
        "In this exercise, you will be coding an Interrogator who asks awkward questions to people on a quest. It takes a list of questions in its constructor. You will write this program that prints these questions as follows:"
      ]
    },
    {
      "cell_type": "markdown",
      "metadata": {
        "id": "OAHGBvvY9_-9"
      },
      "source": [
        "1. Enter the constructor into a notebook:\n"
      ]
    },
    {
      "cell_type": "code",
      "metadata": {
        "id": "ZjtpP-Ym9_-_"
      },
      "source": [
        "class Interrogator:\n",
        "    def __init__(self, questions):\n",
        "        self.questions = questions"
      ],
      "execution_count": null,
      "outputs": []
    },
    {
      "cell_type": "markdown",
      "metadata": {
        "id": "SUBbn_L89__I"
      },
      "source": [
        "Using an Interrogator in a loop probably means asking each of its questions in sequence. The easiest iterator that can achieve this is the iterator for the collection of questions. Therefore to implement the __iter__() method to return that object."
      ]
    },
    {
      "cell_type": "markdown",
      "metadata": {
        "id": "ytl1H5TG9__K"
      },
      "source": [
        "2. Add the __iter__() method:\n"
      ]
    },
    {
      "cell_type": "code",
      "metadata": {
        "id": "W8fhhCgs9__M"
      },
      "source": [
        "class Interrogator:\n",
        "    def __init__(self, questions):\n",
        "        self.questions = questions\n",
        "    def __iter__(self):\n",
        "        return self.questions.__iter__()"
      ],
      "execution_count": null,
      "outputs": []
    },
    {
      "cell_type": "markdown",
      "metadata": {
        "id": "oFLZcpjI9__U"
      },
      "source": [
        "Now you can create a list of questions, give them to an Interrogator, and use that object in a loop.\n"
      ]
    },
    {
      "cell_type": "markdown",
      "metadata": {
        "id": "D1fUjiuX9__V"
      },
      "source": [
        "3. Create a list of questions:\n"
      ]
    },
    {
      "cell_type": "code",
      "metadata": {
        "id": "6F3YKmdF9__Y"
      },
      "source": [
        "questions = [\"What is your name?\", \"What is your quest?\", \"What is the average airspeed velocity of an unladen swallow?\"]"
      ],
      "execution_count": null,
      "outputs": []
    },
    {
      "cell_type": "markdown",
      "metadata": {
        "id": "tWmcUfTD9__h"
      },
      "source": [
        "4. Create an Interrogator:\n"
      ]
    },
    {
      "cell_type": "code",
      "metadata": {
        "id": "MkkZ5oZ49__n"
      },
      "source": [
        "awkward_person = Interrogator(questions)\n"
      ],
      "execution_count": null,
      "outputs": []
    },
    {
      "cell_type": "markdown",
      "metadata": {
        "id": "4QLKdXLq9__z"
      },
      "source": [
        "5. Now use the Interrogator in a for loop:\n"
      ]
    },
    {
      "cell_type": "code",
      "metadata": {
        "id": "CwdD3lYZ9__1",
        "outputId": "1e0ec0b8-499c-4ef0-b46a-50cc5fba974c"
      },
      "source": [
        "for question in awkward_person:\n",
        "    print(question)"
      ],
      "execution_count": null,
      "outputs": [
        {
          "output_type": "stream",
          "text": [
            "What is your name?\n",
            "What is your quest?\n",
            "What is the average airspeed velocity of an unladen swallow?\n"
          ],
          "name": "stdout"
        }
      ]
    },
    {
      "cell_type": "markdown",
      "metadata": {
        "id": "8yljcPFZ9__-"
      },
      "source": [
        "## Exercise 105: A Custom Iterator"
      ]
    },
    {
      "cell_type": "markdown",
      "metadata": {
        "id": "ApI1CPMn-AAA"
      },
      "source": [
        "In this exercise, you'll implement a classical-era algorithm called the Sieve of Eratosthenes. To find prime numbers between 2 and an upper bound value, n, first, list all of the numbers in that range. Now, 2 is a prime, so return that. Then, remove 2 from the list, and all multiples of 2, and return the new lowest number (which will be 3). Continue until there are no more numbers left in the collection. Every number that gets returned using this method is a successively higher prime. It works because any number you find in the collection to return did not get removed at an earlier step, so has no lower prime factors other than itself.\n",
        "\n",
        "First, build the architecture of the class. Its constructor needs to take the upper bound value and generate the list of possible primes. The object can be its own iterator, so its __iter__() method will return itself:\n",
        "\n"
      ]
    },
    {
      "cell_type": "markdown",
      "metadata": {
        "id": "C0BH-Pb7-AAB"
      },
      "source": [
        "1. Define the PrimesBelow class and its initializer:\n"
      ]
    },
    {
      "cell_type": "code",
      "metadata": {
        "id": "LVZ7i8-m-AAC"
      },
      "source": [
        "class PrimesBelow:\n",
        "    def __init__(self, bound):\n",
        "        self.candidate_numbers = list(range(2,bound))"
      ],
      "execution_count": null,
      "outputs": []
    },
    {
      "cell_type": "markdown",
      "metadata": {
        "id": "V8bnYyn2-AAO"
      },
      "source": [
        "2. Implement the __iter__() method to return itself:\n"
      ]
    },
    {
      "cell_type": "code",
      "metadata": {
        "id": "aOQTni68-AAP"
      },
      "source": [
        "class PrimesBelow:\n",
        "    def __init__(self, bound):\n",
        "        self.candidate_numbers = list(range(2,bound))\n",
        "    def __iter__(self):\n",
        "         return self"
      ],
      "execution_count": null,
      "outputs": []
    },
    {
      "cell_type": "markdown",
      "metadata": {
        "id": "cOl80wSd-AAb"
      },
      "source": [
        "The main body of the algorithm is in the __next__() method. With each iteration, it finds the next lowest prime. If there isn't one, it raises StopIteration. If there is one, it sieves that prime number and its multiples from the collection and then returns the prime number."
      ]
    },
    {
      "cell_type": "markdown",
      "metadata": {
        "id": "cDRkXPTF-AAf"
      },
      "source": [
        "3. Define the __next__() method and the exit condition. If there are no remaining numbers in the collection, then the iteration can stop:"
      ]
    },
    {
      "cell_type": "code",
      "metadata": {
        "id": "M6FX_eBL-AAg"
      },
      "source": [
        " class PrimesBelow:\n",
        "    def __init__(self, bound):\n",
        "        self.candidate_numbers = list(range(2,bound))\n",
        "    def __iter__(self):\n",
        "         return self\n",
        "    def __next__(self):\n",
        "        if len(self.candidate_numbers) == 0:\n",
        "            raise StopIteration"
      ],
      "execution_count": null,
      "outputs": []
    },
    {
      "cell_type": "markdown",
      "metadata": {
        "id": "ab92AYqS-AAo"
      },
      "source": [
        "4. Complete the implementation of __next__() by selecting the lowest number in the collection as the value for next_prime and removing any multiples of that number before returning the new prime:"
      ]
    },
    {
      "cell_type": "code",
      "metadata": {
        "id": "zMATM5uH-AAx"
      },
      "source": [
        "class PrimesBelow:\n",
        "    def __init__(self, bound):\n",
        "        self.candidate_numbers = list(range(2,bound))\n",
        "    def __iter__(self):\n",
        "      return self\n",
        "    def __next__(self):\n",
        "      if len(self.candidate_numbers) == 0:\n",
        "        raise StopIteration\n",
        "      next_prime = self.candidate_numbers[0]\n",
        "      self.candidate_numbers = [x for x in self.candidate_numbers if x % next_prime != 0]\n",
        "      return next_prime\n",
        "  "
      ],
      "execution_count": null,
      "outputs": []
    },
    {
      "cell_type": "markdown",
      "metadata": {
        "id": "AxTHHnXb-ABA"
      },
      "source": [
        "5. Use an instance of this class to find all the prime numbers below 100:\n"
      ]
    },
    {
      "cell_type": "code",
      "metadata": {
        "id": "YizYTr8D-ABB",
        "colab": {
          "base_uri": "https://localhost:8080/"
        },
        "outputId": "28ab0d7e-71eb-4e17-c16b-3e074a592488"
      },
      "source": [
        "primes_to_a_hundred = [prime for prime in PrimesBelow(100)]\n",
        "print(primes_to_a_hundred)"
      ],
      "execution_count": null,
      "outputs": [
        {
          "output_type": "stream",
          "text": [
            "[2, 3, 5, 7, 11, 13, 17, 19, 23, 29, 31, 37, 41, 43, 47, 53, 59, 61, 67, 71, 73, 79, 83, 89, 97]\n"
          ],
          "name": "stdout"
        }
      ]
    },
    {
      "cell_type": "markdown",
      "metadata": {
        "id": "wv90UPWpAJCB"
      },
      "source": [
        "## Exercise 106: Controlling the Iteration\n",
        "\n",
        "\n"
      ]
    },
    {
      "cell_type": "markdown",
      "metadata": {
        "id": "Hfe65aBeAOUA"
      },
      "source": [
        "You do not have to use an iterator in a loop or comprehension. You can use the iter() function to get its argument's iterator object, and then pass that to the next() function to return successive values from the iterator. These functions call through to the __iter__() and __next__() methods, respectively. You can use them to add custom behavior to an iteration or to gain more control over the iteration.\n",
        "\n",
        "In this exercise, you will print the prime numbers below 5. An error should be raised when the object runs out of prime numbers. To do this, you will use the PrimesBelow class created in the previous exercise:\n",
        "\n",
        "1. Get the iterator for a **PrimesBelow** instance. **PrimesBelow** is the class you created in Exercise 105, A Custom Iterator, so if you still have the notebook you created for that exercise, you can enter this code in a cell at the end of that notebook:"
      ]
    },
    {
      "cell_type": "code",
      "metadata": {
        "id": "tkWYotkZ-ABO"
      },
      "source": [
        "class PrimesBelow:\n",
        "    def __init__(self, bound):\n",
        "        self.candidate_numbers = list(range(2,bound))\n",
        "    def __iter__(self):\n",
        "        return self\n",
        "    def __next__(self):\n",
        "        if len(self.candidate_numbers) == 0:\n",
        "            raise StopIteration\n",
        "        next_prime = self.candidate_numbers[0]\n",
        "        self.candidate_numbers = [x for x in self.candidate_numbers if x % next_prime != 0]\n",
        "        return next_prime\n",
        "primes_under_five = iter(PrimesBelow(5))"
      ],
      "execution_count": null,
      "outputs": []
    },
    {
      "cell_type": "markdown",
      "metadata": {
        "id": "irUnEQU6BK8D"
      },
      "source": [
        "2. Repeatedly use next() with this object to generate successive prime numbers:\n"
      ]
    },
    {
      "cell_type": "code",
      "metadata": {
        "id": "p8paz2FtBNHn",
        "colab": {
          "base_uri": "https://localhost:8080/"
        },
        "outputId": "07bb195c-134d-490f-a275-48e32b226eb4"
      },
      "source": [
        "next(primes_under_five)"
      ],
      "execution_count": null,
      "outputs": [
        {
          "output_type": "execute_result",
          "data": {
            "text/plain": [
              "3"
            ]
          },
          "metadata": {
            "tags": []
          },
          "execution_count": 3
        }
      ]
    },
    {
      "cell_type": "markdown",
      "metadata": {
        "id": "2ix_Nv2FBhLy"
      },
      "source": [
        "3. When the object runs out of prime numbers, the subsequent use of next() raises the StopIteration error:\n"
      ]
    },
    {
      "cell_type": "code",
      "metadata": {
        "id": "x_s7T4pdBqsn",
        "colab": {
          "base_uri": "https://localhost:8080/",
          "height": 282
        },
        "outputId": "49e241fe-fc16-4f21-972e-9ee4383be227"
      },
      "source": [
        "next(primes_under_five)"
      ],
      "execution_count": null,
      "outputs": [
        {
          "output_type": "error",
          "ename": "StopIteration",
          "evalue": "ignored",
          "traceback": [
            "\u001b[0;31m---------------------------------------------------------------------------\u001b[0m",
            "\u001b[0;31mStopIteration\u001b[0m                             Traceback (most recent call last)",
            "\u001b[0;32m<ipython-input-4-34b9cc1f910c>\u001b[0m in \u001b[0;36m<module>\u001b[0;34m()\u001b[0m\n\u001b[0;32m----> 1\u001b[0;31m \u001b[0mnext\u001b[0m\u001b[0;34m(\u001b[0m\u001b[0mprimes_under_five\u001b[0m\u001b[0;34m)\u001b[0m\u001b[0;34m\u001b[0m\u001b[0;34m\u001b[0m\u001b[0m\n\u001b[0m",
            "\u001b[0;32m<ipython-input-1-9b8e4e4c29a0>\u001b[0m in \u001b[0;36m__next__\u001b[0;34m(self)\u001b[0m\n\u001b[1;32m      6\u001b[0m     \u001b[0;32mdef\u001b[0m \u001b[0m__next__\u001b[0m\u001b[0;34m(\u001b[0m\u001b[0mself\u001b[0m\u001b[0;34m)\u001b[0m\u001b[0;34m:\u001b[0m\u001b[0;34m\u001b[0m\u001b[0;34m\u001b[0m\u001b[0m\n\u001b[1;32m      7\u001b[0m         \u001b[0;32mif\u001b[0m \u001b[0mlen\u001b[0m\u001b[0;34m(\u001b[0m\u001b[0mself\u001b[0m\u001b[0;34m.\u001b[0m\u001b[0mcandidate_numbers\u001b[0m\u001b[0;34m)\u001b[0m \u001b[0;34m==\u001b[0m \u001b[0;36m0\u001b[0m\u001b[0;34m:\u001b[0m\u001b[0;34m\u001b[0m\u001b[0;34m\u001b[0m\u001b[0m\n\u001b[0;32m----> 8\u001b[0;31m             \u001b[0;32mraise\u001b[0m \u001b[0mStopIteration\u001b[0m\u001b[0;34m\u001b[0m\u001b[0;34m\u001b[0m\u001b[0m\n\u001b[0m\u001b[1;32m      9\u001b[0m         \u001b[0mnext_prime\u001b[0m \u001b[0;34m=\u001b[0m \u001b[0mself\u001b[0m\u001b[0;34m.\u001b[0m\u001b[0mcandidate_numbers\u001b[0m\u001b[0;34m[\u001b[0m\u001b[0;36m0\u001b[0m\u001b[0;34m]\u001b[0m\u001b[0;34m\u001b[0m\u001b[0;34m\u001b[0m\u001b[0m\n\u001b[1;32m     10\u001b[0m         \u001b[0mself\u001b[0m\u001b[0;34m.\u001b[0m\u001b[0mcandidate_numbers\u001b[0m \u001b[0;34m=\u001b[0m \u001b[0;34m[\u001b[0m\u001b[0mx\u001b[0m \u001b[0;32mfor\u001b[0m \u001b[0mx\u001b[0m \u001b[0;32min\u001b[0m \u001b[0mself\u001b[0m\u001b[0;34m.\u001b[0m\u001b[0mcandidate_numbers\u001b[0m \u001b[0;32mif\u001b[0m \u001b[0mx\u001b[0m \u001b[0;34m%\u001b[0m \u001b[0mnext_prime\u001b[0m \u001b[0;34m!=\u001b[0m \u001b[0;36m0\u001b[0m\u001b[0;34m]\u001b[0m\u001b[0;34m\u001b[0m\u001b[0;34m\u001b[0m\u001b[0m\n",
            "\u001b[0;31mStopIteration\u001b[0m: "
          ]
        }
      ]
    },
    {
      "cell_type": "markdown",
      "metadata": {
        "id": "-RI2AAv4B_Ev"
      },
      "source": [
        "Being able to step through an iteration manually is incredibly useful in programs that are driven by a sequence of inputs, including a command interpreter. You can treat the input stream as an iteration over a list of strings, where each string represents a command. Call next() to get the next command, work out what to do, and then execute it. Then, print the result, and go back to next() to await the subsequent command. When StopIteration is raised, the user has no more commands for your program, and it can exit."
      ]
    },
    {
      "cell_type": "markdown",
      "metadata": {
        "id": "jWvRpfqjC38f"
      },
      "source": [
        "## Exercise 107: Using Infinite Sequences and takewhile\n"
      ]
    },
    {
      "cell_type": "markdown",
      "metadata": {
        "id": "bzeCAKM9D0O0"
      },
      "source": [
        "An alternative algorithm to the Sieve of Eratosthenes for generating prime numbers is to test each number in sequence – to see whether it has any divisors other than itself. This algorithm uses a lot more time than the Sieve in return for a lot less space.\n",
        "\n",
        "In this exercise, you will be implementing a better algorithm that uses less space than the Sieve for generating prime numbers:\n",
        "\n",
        "1. Enter this iterator algorithm into a notebook:"
      ]
    },
    {
      "cell_type": "code",
      "metadata": {
        "id": "I85vNxdLDmpl"
      },
      "source": [
        "class Primes:\n",
        "    def __init__(self):\n",
        "        self.current = 2\n",
        "        \n",
        "    def __iter__(self):\n",
        "        return self\n",
        "     \n",
        "    def __next__(self):\n",
        "        while True:\n",
        "            current = self.current\n",
        "            square_root = int(current ** 0.5)\n",
        "            is_prime = True\n",
        "            if square_root >= 2:\n",
        "                for i in range(2, square_root + 1):\n",
        "                    if current % i == 0:\n",
        "                        is_prime = False\n",
        "                        break\n",
        "            self.current += 1\n",
        "            if is_prime:\n",
        "                return current"
      ],
      "execution_count": null,
      "outputs": []
    },
    {
      "cell_type": "markdown",
      "metadata": {
        "id": "-AfkzkbkEudg"
      },
      "source": [
        "2. Enter the following code to get a list of primes that are lower than 100:\n"
      ]
    },
    {
      "cell_type": "code",
      "metadata": {
        "id": "phEFlPbVEzBd",
        "colab": {
          "base_uri": "https://localhost:8080/",
          "height": 306
        },
        "outputId": "2528ec5d-2d7d-4765-c6ab-016467520697"
      },
      "source": [
        "[p for p in Primes() if p < 100]\n"
      ],
      "execution_count": null,
      "outputs": [
        {
          "output_type": "error",
          "ename": "KeyboardInterrupt",
          "evalue": "ignored",
          "traceback": [
            "\u001b[0;31m---------------------------------------------------------------------------\u001b[0m",
            "\u001b[0;31mKeyboardInterrupt\u001b[0m                         Traceback (most recent call last)",
            "\u001b[0;32m<ipython-input-7-afd3c871a33d>\u001b[0m in \u001b[0;36m<module>\u001b[0;34m()\u001b[0m\n\u001b[0;32m----> 1\u001b[0;31m \u001b[0;34m[\u001b[0m\u001b[0mp\u001b[0m \u001b[0;32mfor\u001b[0m \u001b[0mp\u001b[0m \u001b[0;32min\u001b[0m \u001b[0mPrimes\u001b[0m\u001b[0;34m(\u001b[0m\u001b[0;34m)\u001b[0m \u001b[0;32mif\u001b[0m \u001b[0mp\u001b[0m \u001b[0;34m<\u001b[0m \u001b[0;36m100\u001b[0m\u001b[0;34m]\u001b[0m\u001b[0;34m\u001b[0m\u001b[0;34m\u001b[0m\u001b[0m\n\u001b[0m",
            "\u001b[0;32m<ipython-input-7-afd3c871a33d>\u001b[0m in \u001b[0;36m<listcomp>\u001b[0;34m(.0)\u001b[0m\n\u001b[0;32m----> 1\u001b[0;31m \u001b[0;34m[\u001b[0m\u001b[0mp\u001b[0m \u001b[0;32mfor\u001b[0m \u001b[0mp\u001b[0m \u001b[0;32min\u001b[0m \u001b[0mPrimes\u001b[0m\u001b[0;34m(\u001b[0m\u001b[0;34m)\u001b[0m \u001b[0;32mif\u001b[0m \u001b[0mp\u001b[0m \u001b[0;34m<\u001b[0m \u001b[0;36m100\u001b[0m\u001b[0;34m]\u001b[0m\u001b[0;34m\u001b[0m\u001b[0;34m\u001b[0m\u001b[0m\n\u001b[0m",
            "\u001b[0;32m<ipython-input-6-3a1f96a9b5c7>\u001b[0m in \u001b[0;36m__next__\u001b[0;34m(self)\u001b[0m\n\u001b[1;32m     13\u001b[0m             \u001b[0;32mif\u001b[0m \u001b[0msquare_root\u001b[0m \u001b[0;34m>=\u001b[0m \u001b[0;36m2\u001b[0m\u001b[0;34m:\u001b[0m\u001b[0;34m\u001b[0m\u001b[0;34m\u001b[0m\u001b[0m\n\u001b[1;32m     14\u001b[0m                 \u001b[0;32mfor\u001b[0m \u001b[0mi\u001b[0m \u001b[0;32min\u001b[0m \u001b[0mrange\u001b[0m\u001b[0;34m(\u001b[0m\u001b[0;36m2\u001b[0m\u001b[0;34m,\u001b[0m \u001b[0msquare_root\u001b[0m \u001b[0;34m+\u001b[0m \u001b[0;36m1\u001b[0m\u001b[0;34m)\u001b[0m\u001b[0;34m:\u001b[0m\u001b[0;34m\u001b[0m\u001b[0;34m\u001b[0m\u001b[0m\n\u001b[0;32m---> 15\u001b[0;31m                     \u001b[0;32mif\u001b[0m \u001b[0mcurrent\u001b[0m \u001b[0;34m%\u001b[0m \u001b[0mi\u001b[0m \u001b[0;34m==\u001b[0m \u001b[0;36m0\u001b[0m\u001b[0;34m:\u001b[0m\u001b[0;34m\u001b[0m\u001b[0;34m\u001b[0m\u001b[0m\n\u001b[0m\u001b[1;32m     16\u001b[0m                         \u001b[0mis_prime\u001b[0m \u001b[0;34m=\u001b[0m \u001b[0;32mFalse\u001b[0m\u001b[0;34m\u001b[0m\u001b[0;34m\u001b[0m\u001b[0m\n\u001b[1;32m     17\u001b[0m                         \u001b[0;32mbreak\u001b[0m\u001b[0;34m\u001b[0m\u001b[0;34m\u001b[0m\u001b[0m\n",
            "\u001b[0;31mKeyboardInterrupt\u001b[0m: "
          ]
        }
      ]
    },
    {
      "cell_type": "markdown",
      "metadata": {
        "id": "6sXfBMHiFLVq"
      },
      "source": [
        "Because the iterator never raises StopIteration, this program will never finish. You'll have to force it to exit. This is because of the fact this list comprehension is equivalent to"
      ]
    },
    {
      "cell_type": "code",
      "metadata": {
        "id": "hgz47Iv5E6R9"
      },
      "source": [
        "myList = []\n",
        "for p in Primes():\n",
        "    if p < 100:\n",
        "        myList.append(p)"
      ],
      "execution_count": null,
      "outputs": []
    },
    {
      "cell_type": "markdown",
      "metadata": {
        "id": "byZjLH1oFRz-"
      },
      "source": [
        "As we know that Primes() will iterate till infinity and therefore this loop will keep on executing and will never stop. Therefore the list comprehension will never stop till user interrupts.\n",
        "3. Click on the Stop button in the Jupyter notebook. You should get the following output:\n"
      ]
    },
    {
      "cell_type": "markdown",
      "metadata": {
        "id": "H3Str3a4FtZO"
      },
      "source": [
        "To work with this iterator, itertools provides the takewhile() function, which wraps the iterator in another iterator. You also supply takewhile() with a Boolean function, and its iteration will take values from the supplied iterator until the function returns False, at which time it raises StopIteration and stops. This makes it possible to find the prime numbers below 100 from the infinite sequence entered previously.\n",
        "\n",
        "4. Use takewhile() to turn the infinite sequence into a finite one:\n"
      ]
    },
    {
      "cell_type": "code",
      "metadata": {
        "id": "pkeeJnG3Fqpi",
        "colab": {
          "base_uri": "https://localhost:8080/"
        },
        "outputId": "06011a7d-83af-43e5-a5c2-9cf5e4117b7a"
      },
      "source": [
        "import itertools\n",
        "print([p for p in itertools.takewhile(lambda x: x<100, Primes())])"
      ],
      "execution_count": null,
      "outputs": [
        {
          "output_type": "stream",
          "text": [
            "[2, 3, 5, 7, 11, 13, 17, 19, 23, 29, 31, 37, 41, 43, 47, 53, 59, 61, 67, 71, 73, 79, 83, 89, 97]\n"
          ],
          "name": "stdout"
        }
      ]
    },
    {
      "cell_type": "markdown",
      "metadata": {
        "id": "6HPV_-opGOBy"
      },
      "source": [
        "Surprisingly, it's also useful to be able to turn a finite sequence into an infinite one.\n",
        "\n",
        "\n"
      ]
    },
    {
      "cell_type": "markdown",
      "metadata": {
        "id": "Hp_39zq7G-51"
      },
      "source": [
        "## Exercise 108: Turning a Finite Sequence into an Infinite One, and Back Again\n",
        "\n"
      ]
    },
    {
      "cell_type": "markdown",
      "metadata": {
        "id": "3HY4TyzAHI9L"
      },
      "source": [
        "In this exercise, consider a turn-based game, such as chess. The person playing white makes the first move. Then, the person playing black takes their turn. Then white. Then black. Then white, black, white, and so on until the game ends. If you had an infinite list of white, black, white, black, white, and so on, then you could always look at the next element to decide whose turn it is:\n",
        "\n",
        "1. Enter the list of players into a notebook:"
      ]
    },
    {
      "cell_type": "code",
      "metadata": {
        "id": "5v4f17LoHGZG"
      },
      "source": [
        "import itertools\n",
        "players = ['White', 'Black']"
      ],
      "execution_count": null,
      "outputs": []
    },
    {
      "cell_type": "markdown",
      "metadata": {
        "id": "xzCEknLJHevQ"
      },
      "source": [
        "2. Use the **itertools** function **cycle** to generate an infinite sequence of turns:\n"
      ]
    },
    {
      "cell_type": "code",
      "metadata": {
        "id": "kneFY_nyHaiD"
      },
      "source": [
        "turns = itertools.cycle(players)\n"
      ],
      "execution_count": null,
      "outputs": []
    },
    {
      "cell_type": "markdown",
      "metadata": {
        "id": "mQhZ6WHLH4SW"
      },
      "source": [
        "To demonstrate that this has the expected behavior, you'll want to turn it back into a finite sequence so that you can view the first few members of the turns iterator. You can use **takewhile()** for that, and, here, combine it with the **count()** function from itertools, which produces an infinite sequence of numbers.\n",
        "3. List the players who take the first 10 turns in a chess game:"
      ]
    },
    {
      "cell_type": "code",
      "metadata": {
        "id": "aIT5Cf-sHxjV",
        "colab": {
          "base_uri": "https://localhost:8080/"
        },
        "outputId": "ce0c9757-a372-428e-a771-4e2aa1f685fe"
      },
      "source": [
        "countdown = itertools.count(10, -1)\n",
        "print([turn for turn in itertools.takewhile(lambda x:next(countdown)>0, turns)])"
      ],
      "execution_count": null,
      "outputs": [
        {
          "output_type": "stream",
          "text": [
            "['White', 'Black', 'White', 'Black', 'White', 'Black', 'White', 'Black', 'White', 'Black']\n"
          ],
          "name": "stdout"
        }
      ]
    },
    {
      "cell_type": "markdown",
      "metadata": {
        "id": "QQiMFZepI8_6"
      },
      "source": [
        "This is the \"round-robin\" algorithm for allocating actions (in this case, making a chess move) to resources (in this case, the players), and has many more applications than board games. A simple way to do load balancing between multiple servers in a web service or database application is to build an infinite sequence of the available servers and choose one in turn for each incoming request."
      ]
    },
    {
      "cell_type": "markdown",
      "metadata": {
        "id": "7zlGogNhynTZ"
      },
      "source": [
        "## Exercise 109: Generating a Sieve"
      ]
    },
    {
      "cell_type": "markdown",
      "metadata": {
        "id": "_OGJyaqXy1QN"
      },
      "source": [
        "In this exercise, you will be rewriting the Sieve of Eratosthenes as a generator function and comparing it with the result of the iterator version:\n",
        "\n",
        "1. Rewrite the Sieve of Eratosthenes as a generator function that yields its values:"
      ]
    },
    {
      "cell_type": "code",
      "metadata": {
        "id": "e5gS7KvxIzdl"
      },
      "source": [
        "def primes_below(bound):\n",
        "    candidates = list(range(2,bound))\n",
        "    while(len(candidates) > 0):\n",
        "        yield candidates[0]\n",
        "        candidates = [c for c in candidates if c % candidates[0] != 0]"
      ],
      "execution_count": null,
      "outputs": []
    },
    {
      "cell_type": "markdown",
      "metadata": {
        "id": "cHgtwgGO0Ho-"
      },
      "source": [
        "2. Confirm that the result is the same as the iterator version:\n"
      ]
    },
    {
      "cell_type": "code",
      "metadata": {
        "id": "YrEsQom2z9CM",
        "colab": {
          "base_uri": "https://localhost:8080/"
        },
        "outputId": "9cdde494-f0cd-4e0c-b4dd-548a43481b5d"
      },
      "source": [
        "print([prime for prime in primes_below(100)])"
      ],
      "execution_count": null,
      "outputs": [
        {
          "output_type": "stream",
          "text": [
            "[2, 3, 5, 7, 11, 13, 17, 19, 23, 29, 31, 37, 41, 43, 47, 53, 59, 61, 67, 71, 73, 79, 83, 89, 97]\n"
          ],
          "name": "stdout"
        }
      ]
    },
    {
      "cell_type": "markdown",
      "metadata": {
        "id": "tfWrKtAS1VYI"
      },
      "source": [
        "That's really all there is to generators — they're just a different way of expressing an iterator. They do, however, communicate a different design intention; namely, that the flow of control is going to pass back and forth between the generator and its caller.\n",
        "\n",
        "The answer to Why does Python provide both the iterator and the generator? is found at the end of Exercise 109, Generating a Sieve. They do the same thing, but they expose different design intentions. The PEP in which generators were introduced contains more, in the \"motivations\" and \"Q&A\" sections, for students who would like to dig deeper."
      ]
    },
    {
      "cell_type": "markdown",
      "metadata": {
        "id": "87OZtlU71tT0"
      },
      "source": [
        "## Activity 20: Using Random Numbers to Find the Value of Pi\n",
        "\n"
      ]
    },
    {
      "cell_type": "markdown",
      "metadata": {
        "id": "BddOjGdu3E8l"
      },
      "source": [
        "he Monte Carlo method is a technique that is used for approximating a numerical solution using random numbers. Named after the famous casino, chance is at the core of Monte Carlo methods. They use random sampling to obtain information about a function that will be difficult to calculate deterministically. Monte Carlo methods are frequently used in scientific computation to explore probability distributions, and in other fields including quantum physics and computational biology. They're also used in economics to explore the behavior of financial instruments under different market conditions. There are many applications for the Monte Carlo principle.\n",
        "\n",
        "In this activity, you'll use a Monte Carlo method to find an approximate value for π. Here's how it works: two random numbers, (x,y), somewhere between (0,0) and (1,1), represent a random point in a square positioned at (0,0) with sides of length 1:\n",
        "\n",
        "Using Pythagoras' Theorem, if the value of $$\\sqrt{x^2 + y^2}$$ is less than 1, then the point is also in the top-right corner of a circle centered at (0,0) with a radius of 1:\n",
        "\n",
        "\n",
        "\n",
        "Generate lots of points, count how many are within the circle segment, and divide the number of points within the circle by the total number of points generated. This gives you an approximation of the area of the circle segment, which should be π/4. Multiply by 4, and you have an approximate value of π. Data scientists often use this technique to find the area under more complex curves that represent probability distributions.\n",
        "\n"
      ]
    },
    {
      "cell_type": "markdown",
      "metadata": {
        "id": "qSBvouAJ3phX"
      },
      "source": [
        "Write a generator to yield successive estimates of π. The steps are as follows:\n",
        "\n",
        "1. Define your generator function.\n",
        "2. Set the total number of points, and the number within the circle segment, to 0.\n",
        "3. Do the following substeps 10,000 times: Generate two numbers between 0 and 1, using Python's random.random() function. Add 1 to the total number of points. Use math.sqrt() to find out how far the point represented by the numbers is from (0,0). If the distance is less than 1; add 1 to the number of points within the circle. Calculate your estimate for π: 4 * (points within the circle) / (total points generated). If you have generated a multiple of 1,000 points, yield the approximate value for π. If you have generated 10,000 points, return the value.\n",
        "4. Inspect the successive estimates of π and check how close they are to the true value (math.pi). Note that because this activity uses random numbers, you may not get the exact results shown here:"
      ]
    },
    {
      "cell_type": "code",
      "metadata": {
        "id": "HnlSmrzc0N7i",
        "colab": {
          "base_uri": "https://localhost:8080/"
        },
        "outputId": "84ceb7c4-e881-478e-9446-37c9c596b0ae"
      },
      "source": [
        "#You will need the math and random libraries to complete this activity\n",
        "import math\n",
        "import random\n",
        "random.seed(0)\n",
        "\n",
        "def approximate_pi():    #Define the approximate_pi function\n",
        "    total_points = 0        #Set the counters to zero\n",
        "    within_circle = 0\n",
        "    for i in range (10001):   #Calculate the approximation multiple times\n",
        "        x = random.random()  #Here, x and y are random numbers between 0 and 1, which, together, represent a point in the unit square\n",
        "        y = random.random()\n",
        "        total_points += 1\n",
        "        distance = math.sqrt(x**2+y**2)   #Use Pythagoras' Theorem to work out the distance between the point and the origin, (0,0)\n",
        "        if distance < 1:     # If the distance is less than 1, then this point is both inside the square and inside a circle of radius 1, centered on the origin.\n",
        "            within_circle += 1\n",
        "  #Yield a result every 1,000 points. There's no reason why this couldn't yield a result after each point, but the early estimates will be very imprecise, so let's assume that users want to draw a large sample of random values\n",
        "        if total_points % 1000 == 0:\n",
        "  #The ratio of points within the circle to total points generated should be approximately π/4 because the points are uniformly distributed across the square. Only some of the points are both in the square and the circle, and the ratio of areas between the circle segment and the square is π/4.\n",
        "            pi_estimate = 4 * within_circle / total_points\n",
        "            if total_points == 10000:\n",
        "#After 10000 points are generated, return the estimate to complete the iteration. Using what you have learned about itertools in this chapter, you could turn this generator into an infinite sequence if you want to\n",
        "                return pi_estimate\n",
        "            else:\n",
        "                yield pi_estimate  #Yield successive approximations to π\n",
        " #Use the generator to find estimates for the value of π. Additionally, use a list comprehension to find the errors: the difference between the estimated version and the \"actual\" value in Python's math module (\"actual\" is in scare quotes because it too is only an approximate value). Approximate values are used because Python cannot be exactly expressed in the computer's number system without using infinite memory:\n",
        "estimates = [estimate for estimate in approximate_pi()]\n",
        "errors = [estimate - math.pi for estimate in estimates]\n",
        "#Finally, print out our values and the errors to see how the generator performs\n",
        "print(estimates)\n",
        "print(errors)"
      ],
      "execution_count": null,
      "outputs": [
        {
          "output_type": "stream",
          "text": [
            "[3.128, 3.136, 3.1253333333333333, 3.137, 3.1448, 3.1486666666666667, 3.149714285714286, 3.144, 3.1413333333333333]\n",
            "[-0.013592653589793002, -0.005592653589792995, -0.01625932025645982, -0.004592653589793105, 0.003207346410206924, 0.007074013076873609, 0.008121632124492795, 0.002407346410207012, -0.00025932025645980517]\n"
          ],
          "name": "stdout"
        }
      ]
    },
    {
      "cell_type": "markdown",
      "metadata": {
        "id": "NPReqNTvkgRo"
      },
      "source": [
        "## Exercise 110: Matching Text with Regular Expressions\n",
        "\n",
        "In this exercise, you'll use the Python re module to find instances of repeated letters in a string.\n",
        "\n",
        "The regex you will use is (\\w)\\\\1+\".\"(\\w) searches for a single character from a word (that is, any letter or the underscore character, _) and stores that in a numbered sub-expression, \\1. Then, \\\\1+ uses a quantifier to find one or more occurrences of the same character. The steps for using this regex are as follows:\n",
        "\n",
        "1. Import the re module:"
      ]
    },
    {
      "cell_type": "code",
      "metadata": {
        "id": "jtf6AEEgX0Lx"
      },
      "source": [
        "import re"
      ],
      "execution_count": 1,
      "outputs": []
    },
    {
      "cell_type": "markdown",
      "metadata": {
        "id": "bPbqPL7qX68K"
      },
      "source": [
        "2. Define the string that you will search for, and the pattern by which to search:"
      ]
    },
    {
      "cell_type": "code",
      "metadata": {
        "id": "FFsjPZ3vX4BZ"
      },
      "source": [
        "title = \"And now for something completely different\"\n",
        "pattern = \"(\\w)\\\\1+\""
      ],
      "execution_count": 2,
      "outputs": []
    },
    {
      "cell_type": "markdown",
      "metadata": {
        "id": "ZkNI0sc3YeGF"
      },
      "source": [
        "3. Search for the pattern and print the result:"
      ]
    },
    {
      "cell_type": "code",
      "metadata": {
        "colab": {
          "base_uri": "https://localhost:8080/"
        },
        "id": "inX9qFvyZBdI",
        "outputId": "1d13f8da-e585-4a2e-be93-5778017668e8"
      },
      "source": [
        "print(re.search(pattern, title))"
      ],
      "execution_count": 3,
      "outputs": [
        {
          "output_type": "stream",
          "text": [
            "<_sre.SRE_Match object; span=(35, 37), match='ff'>\n"
          ],
          "name": "stdout"
        }
      ]
    },
    {
      "cell_type": "markdown",
      "metadata": {
        "id": "AXjVK_ATZXqE"
      },
      "source": [
        "The re.search() function finds matches anywhere in the string: if it doesn't find any matches, it will return None. If you were only interested in whether the beginning of the string matched the pattern, you could use re.match(). Similarly, modifying the search pattern to start with the beginning-of-line marker (^) achieves the same aim as re.search(\"^(\\w)\\\\1+\", title)."
      ]
    },
    {
      "cell_type": "markdown",
      "metadata": {
        "id": "cgnUz88RZs10"
      },
      "source": [
        "## Exercise 111: Using Regular Expressions to Replace Text\n",
        "\n",
        "In this exercise, you'll use a regular expression to replace occurrences of a pattern in a string with a different pattern. The steps are as follows:\n",
        "\n",
        "1. Define the text to search:"
      ]
    },
    {
      "cell_type": "code",
      "metadata": {
        "id": "ZNxWo-MXZEbL"
      },
      "source": [
        "import re\n",
        "description = \"The Norwegian Blue is a wonderful parrot. This parrot is notable for its exquisite plumage.\""
      ],
      "execution_count": 4,
      "outputs": []
    },
    {
      "cell_type": "markdown",
      "metadata": {
        "id": "dEpbQa9FaB2q"
      },
      "source": [
        "2. Define the pattern to search for, and its replacement:\n"
      ]
    },
    {
      "cell_type": "code",
      "metadata": {
        "id": "eRElfGPWaBCR"
      },
      "source": [
        "pattern = \"(parrot)\"\n",
        "replacement = \"ex-\\\\1\""
      ],
      "execution_count": 5,
      "outputs": []
    },
    {
      "cell_type": "markdown",
      "metadata": {
        "id": "-7la_wKMaMcC"
      },
      "source": [
        "3. Substitute the replacement for the search pattern, using the re.sub() function:\n"
      ]
    },
    {
      "cell_type": "code",
      "metadata": {
        "colab": {
          "base_uri": "https://localhost:8080/"
        },
        "id": "oC03wWV0aLHo",
        "outputId": "7141682b-46a8-414d-a9f2-5c5d5f3573d1"
      },
      "source": [
        "print(re.sub(pattern, replacement, description))\n"
      ],
      "execution_count": 6,
      "outputs": [
        {
          "output_type": "stream",
          "text": [
            "The Norwegian Blue is a wonderful ex-parrot. This ex-parrot is notable for its exquisite plumage.\n"
          ],
          "name": "stdout"
        }
      ]
    },
    {
      "cell_type": "markdown",
      "metadata": {
        "id": "v18xJZ1Tah19"
      },
      "source": [
        "The replacement refers to the capture group, \"\\1\", which is the first expression in the search pattern to be surrounded by parentheses. In this case, the capture group is the whole word parrot. This lets you refer to the word parrot in the replacement without having to type it out again."
      ]
    },
    {
      "cell_type": "markdown",
      "metadata": {
        "id": "remOgOt6ap8o"
      },
      "source": [
        "## Activity 21: Regular Expressions\n",
        "\n"
      ]
    },
    {
      "cell_type": "markdown",
      "metadata": {
        "id": "-G1weVJPa7OI"
      },
      "source": [
        "At your online retail company, your manager has had an idea for a promotion. There is a whole load of old \"The X-Files\" DVDs in the warehouse, and she has decided to give one away for free to any customer whose name contains the letter x.\n",
        "\n",
        "In this activity, you will be using Python's re module to find winning customers. The x could be capitalized if it's their initial, or lower case if it's in the middle of their name, so use the regular expression [Xx] to search for both cases:"
      ]
    },
    {
      "cell_type": "markdown",
      "metadata": {
        "id": "pZhB_u8za87P"
      },
      "source": [
        "1. Create a list of customer names. The customers are Xander Harris, Jennifer Smith, Timothy Jones, Amy Alexandrescu, Peter Price, and Weifung Xu.\n",
        "\n",
        "2. Create a list comprehension using the list of names. Use the comprehension to filter only names where a search for the [Xx] regex is successful.\n",
        "\n",
        "3. Print the list of matching names. The result should look like this:\n",
        "['Xander Harris', 'Amy Alexandrescu', 'Weifung Xu']"
      ]
    },
    {
      "cell_type": "code",
      "metadata": {
        "colab": {
          "base_uri": "https://localhost:8080/"
        },
        "id": "oE4YZ7HVaUu7",
        "outputId": "6f5eea17-9bf9-4f8b-b833-955afb0629f7"
      },
      "source": [
        "import re\n",
        "names = [\"Xander Harris\", \"Jennifer Smith\", \"Timothy Jones\", \"Amy Alexandrescu\", \"Peter Price\", \"Weifung Xu\"]   #Create List of name\n",
        "\n",
        "#Using the list comprehension syntax from this chapter makes finding the winners as easy as a single line of Python:\n",
        "winners = [name for name in names if re.search(\"[Xx]\", name)]\n",
        "\n",
        "#Print Winner\n",
        "print(winners)\n"
      ],
      "execution_count": 7,
      "outputs": [
        {
          "output_type": "stream",
          "text": [
            "['Xander Harris', 'Amy Alexandrescu', 'Weifung Xu']\n"
          ],
          "name": "stdout"
        }
      ]
    },
    {
      "cell_type": "markdown",
      "metadata": {
        "id": "mSuhZRsKdBX3"
      },
      "source": [
        "## Summary"
      ]
    },
    {
      "cell_type": "markdown",
      "metadata": {
        "id": "5qaIXUxNdDRk"
      },
      "source": [
        "In this chapter, you've learned how even though there is often more than one way to do something in Python, there is often a \"Pythonic\" way. The Pythonic way is succinct and easy to understand, leaving out boilerplate code and extraneous information to focus on the task at hand. Comprehensions are a Pythonic tool for manipulating collections, including lists, sets, and dictionaries. Comprehensions are powered by iterators, which can be written as classes or as generator functions that yield the iterated values. The Python library includes useful functions for working with iterators, including infinite sequences expressed as iterators.\n",
        "\n",
        "In the next chapter, you'll move past the details of the Python language and into how to work as a professional Python programmer. You'll see how to debug your Python code, write unit tests, and document, package, and share your Python code with other coders."
      ]
    },
    {
      "cell_type": "code",
      "metadata": {
        "id": "8vmgC37EdCrE"
      },
      "source": [
        ""
      ],
      "execution_count": null,
      "outputs": []
    }
  ]
}