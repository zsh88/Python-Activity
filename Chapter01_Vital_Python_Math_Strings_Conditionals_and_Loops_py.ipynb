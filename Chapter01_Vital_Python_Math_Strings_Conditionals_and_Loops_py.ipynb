{
  "nbformat": 4,
  "nbformat_minor": 0,
  "metadata": {
    "kernelspec": {
      "display_name": "Python 3",
      "language": "python",
      "name": "python3"
    },
    "language_info": {
      "codemirror_mode": {
        "name": "ipython",
        "version": 3
      },
      "file_extension": ".py",
      "mimetype": "text/x-python",
      "name": "python",
      "nbconvert_exporter": "python",
      "pygments_lexer": "ipython3",
      "version": "3.7.4"
    },
    "colab": {
      "name": "Chapter01_Vital Python_Math-Strings-Conditionals-and-Loops.py.ipynb",
      "provenance": []
    }
  },
  "cells": [
    {
      "cell_type": "markdown",
      "metadata": {
        "id": "oWtpwWxN7OAQ"
      },
      "source": [
        "# 1. Vital Python: Math, Strings, Conditionals, and Loops"
      ]
    },
    {
      "cell_type": "code",
      "metadata": {
        "id": "TxO1vSxQ7OAf",
        "outputId": "203d4b60-0d0c-479d-e806-b52dd9a24101",
        "colab": {
          "base_uri": "https://localhost:8080/"
        }
      },
      "source": [
        "9 /4 "
      ],
      "execution_count": 1,
      "outputs": [
        {
          "output_type": "execute_result",
          "data": {
            "text/plain": [
              "2.25"
            ]
          },
          "metadata": {
            "tags": []
          },
          "execution_count": 1
        }
      ]
    },
    {
      "cell_type": "code",
      "metadata": {
        "id": "lS6FaSGW7OAw"
      },
      "source": [
        "15 + 7"
      ],
      "execution_count": null,
      "outputs": []
    },
    {
      "cell_type": "code",
      "metadata": {
        "id": "5sUfY9d_7OA7"
      },
      "source": [
        "160 - 12"
      ],
      "execution_count": null,
      "outputs": []
    },
    {
      "cell_type": "code",
      "metadata": {
        "id": "KUKIwuPw7OBH"
      },
      "source": [
        "12 * 3"
      ],
      "execution_count": null,
      "outputs": []
    },
    {
      "cell_type": "code",
      "metadata": {
        "id": "F91CNmSP7OBR"
      },
      "source": [
        "12 / 6"
      ],
      "execution_count": null,
      "outputs": []
    },
    {
      "cell_type": "code",
      "metadata": {
        "id": "gVeu-dsg7OBi"
      },
      "source": [
        "2 ** 2"
      ],
      "execution_count": null,
      "outputs": []
    },
    {
      "cell_type": "code",
      "metadata": {
        "id": "NOVOd7dg7OBr"
      },
      "source": [
        "2 ** 5"
      ],
      "execution_count": null,
      "outputs": []
    },
    {
      "cell_type": "code",
      "metadata": {
        "id": "HOnK31ry7OB4"
      },
      "source": [
        "12 % 5"
      ],
      "execution_count": null,
      "outputs": []
    },
    {
      "cell_type": "code",
      "metadata": {
        "id": "4E146khj7OCF"
      },
      "source": [
        "12 // 6"
      ],
      "execution_count": null,
      "outputs": []
    },
    {
      "cell_type": "code",
      "metadata": {
        "id": "Ft8ZG-1Q7OCN"
      },
      "source": [
        "(100 - 5 ** 3) / 5"
      ],
      "execution_count": null,
      "outputs": []
    },
    {
      "cell_type": "code",
      "metadata": {
        "id": "xcNszCnY7OCY"
      },
      "source": [
        "6 + 15 % 4"
      ],
      "execution_count": null,
      "outputs": []
    },
    {
      "cell_type": "code",
      "metadata": {
        "id": "unCtXhkw7OCg"
      },
      "source": [
        "2 ** 2 + 24 // 4"
      ],
      "execution_count": null,
      "outputs": []
    },
    {
      "cell_type": "markdown",
      "metadata": {
        "id": "nTgAQqsf7OCq"
      },
      "source": [
        "1.Begin by explicitly determining the type of 6 using the following code:"
      ]
    },
    {
      "cell_type": "code",
      "metadata": {
        "id": "tVZ0pQYQ7OCr"
      },
      "source": [
        "type(6)"
      ],
      "execution_count": null,
      "outputs": []
    },
    {
      "cell_type": "markdown",
      "metadata": {
        "id": "MAgMI9YB7OC6"
      },
      "source": [
        "2. Now, enter type(6.0) in the next cell of your notebook:"
      ]
    },
    {
      "cell_type": "code",
      "metadata": {
        "id": "nhtDRnwA7OC7"
      },
      "source": [
        "type(6.0)"
      ],
      "execution_count": null,
      "outputs": []
    },
    {
      "cell_type": "markdown",
      "metadata": {
        "id": "6rZdHIx17ODG"
      },
      "source": [
        "3. Now, add 5 to 3.14. Infer the type of their sum:"
      ]
    },
    {
      "cell_type": "code",
      "metadata": {
        "id": "IZ3O2NQY7ODI"
      },
      "source": [
        "5 + 3.14"
      ],
      "execution_count": null,
      "outputs": []
    },
    {
      "cell_type": "markdown",
      "metadata": {
        "id": "gdKYy-rZ7ODS"
      },
      "source": [
        "4. Now, convert 7.999999999 to an int:"
      ]
    },
    {
      "cell_type": "code",
      "metadata": {
        "id": "fcOnhYAS7ODV"
      },
      "source": [
        "int(7.999999999)"
      ],
      "execution_count": null,
      "outputs": []
    },
    {
      "cell_type": "markdown",
      "metadata": {
        "id": "DFX2yBU_7ODe"
      },
      "source": [
        "5. Convert 6 to a float:"
      ]
    },
    {
      "cell_type": "code",
      "metadata": {
        "id": "wW1cIC1k7ODf"
      },
      "source": [
        "float(6)"
      ],
      "execution_count": null,
      "outputs": []
    },
    {
      "cell_type": "markdown",
      "metadata": {
        "id": "XUazA38b7ODt"
      },
      "source": [
        "## Complex Number Types"
      ]
    },
    {
      "cell_type": "markdown",
      "metadata": {
        "id": "UFd7nsgI7ODv"
      },
      "source": [
        "Divide 2 + 3j by 1 - 5j, enclosing both operations within parentheses:"
      ]
    },
    {
      "cell_type": "code",
      "metadata": {
        "id": "l_khB2bK7ODw"
      },
      "source": [
        "(2 + 3j) / (1 - 5j)"
      ],
      "execution_count": null,
      "outputs": []
    },
    {
      "cell_type": "markdown",
      "metadata": {
        "id": "mJ1kiEAZ7OD7"
      },
      "source": [
        "## Assigning Variables"
      ]
    },
    {
      "cell_type": "markdown",
      "metadata": {
        "id": "_Hi8RzTj7OD9"
      },
      "source": [
        "1. Set x as equal to the number 2:"
      ]
    },
    {
      "cell_type": "code",
      "metadata": {
        "id": "VTNPhzfo7OD_"
      },
      "source": [
        "x = 2"
      ],
      "execution_count": null,
      "outputs": []
    },
    {
      "cell_type": "markdown",
      "metadata": {
        "id": "x8PBP6Pi7OEH"
      },
      "source": [
        "2. Add 1 to the variable x:"
      ]
    },
    {
      "cell_type": "code",
      "metadata": {
        "id": "VvySTeBT7OEK"
      },
      "source": [
        "x + 1"
      ],
      "execution_count": null,
      "outputs": []
    },
    {
      "cell_type": "code",
      "metadata": {
        "id": "y-HeeEn17OET"
      },
      "source": [
        "x = 3.0\n",
        "x + 1"
      ],
      "execution_count": null,
      "outputs": []
    },
    {
      "cell_type": "markdown",
      "metadata": {
        "id": "Z5nudUDA7OEb"
      },
      "source": [
        "## Assigning Values to Variables"
      ]
    },
    {
      "cell_type": "code",
      "metadata": {
        "id": "YfZBpTYW7OEd"
      },
      "source": [
        "x = 14"
      ],
      "execution_count": null,
      "outputs": []
    },
    {
      "cell_type": "code",
      "metadata": {
        "id": "7N-ZAHuq7OEq"
      },
      "source": [
        "x += 1"
      ],
      "execution_count": null,
      "outputs": []
    },
    {
      "cell_type": "code",
      "metadata": {
        "id": "gsaEdbkM7OEy"
      },
      "source": [
        "x = (x / 5) ** 2 "
      ],
      "execution_count": null,
      "outputs": []
    },
    {
      "cell_type": "code",
      "metadata": {
        "id": "Vkt7V9Dc7OE8"
      },
      "source": [
        "print(x)"
      ],
      "execution_count": null,
      "outputs": []
    },
    {
      "cell_type": "markdown",
      "metadata": {
        "id": "UkYsYf_e7OFF"
      },
      "source": [
        "## Variable Names"
      ]
    },
    {
      "cell_type": "code",
      "metadata": {
        "id": "Rx4Z6Jlo7OFG"
      },
      "source": [
        "import keyword\n",
        "print(keyword.kwlist)"
      ],
      "execution_count": null,
      "outputs": []
    },
    {
      "cell_type": "code",
      "metadata": {
        "id": "hCWrgEh17OFW"
      },
      "source": [
        "1st_number = 1"
      ],
      "execution_count": null,
      "outputs": []
    },
    {
      "cell_type": "code",
      "metadata": {
        "id": "SXAqo18U7OFd"
      },
      "source": [
        "first_number = 1"
      ],
      "execution_count": null,
      "outputs": []
    },
    {
      "cell_type": "code",
      "metadata": {
        "id": "ApWsqRgd7OFl"
      },
      "source": [
        "my_$ = 1000.00"
      ],
      "execution_count": null,
      "outputs": []
    },
    {
      "cell_type": "markdown",
      "metadata": {
        "id": "SyAQy9xU7OFz"
      },
      "source": [
        "## Multiple Variables"
      ]
    },
    {
      "cell_type": "markdown",
      "metadata": {
        "id": "-g673-Kn7OF0"
      },
      "source": [
        "1. Assign 5 to x and 2 to y:"
      ]
    },
    {
      "cell_type": "code",
      "metadata": {
        "id": "h5FoOa2x7OF1"
      },
      "source": [
        "x = 5\n",
        "y = 2"
      ],
      "execution_count": null,
      "outputs": []
    },
    {
      "cell_type": "markdown",
      "metadata": {
        "id": "jjFjkpg77OF8"
      },
      "source": [
        "2. Add x to x and subtract y to the second power:"
      ]
    },
    {
      "cell_type": "code",
      "metadata": {
        "id": "fwanjjVX7OF-"
      },
      "source": [
        "x + x - y ** 2"
      ],
      "execution_count": null,
      "outputs": []
    },
    {
      "cell_type": "markdown",
      "metadata": {
        "id": "eEq4A0R67OGG"
      },
      "source": [
        "3. Assign 8 to x and 5 to y in one line:"
      ]
    },
    {
      "cell_type": "code",
      "metadata": {
        "id": "zf2CafzK7OGI"
      },
      "source": [
        "x, y = 8, 5"
      ],
      "execution_count": null,
      "outputs": []
    },
    {
      "cell_type": "markdown",
      "metadata": {
        "id": "yzKdoaJr7OGR"
      },
      "source": [
        "4. Find the integer division of x and y:"
      ]
    },
    {
      "cell_type": "code",
      "metadata": {
        "id": "s9ntj2QV7OGU"
      },
      "source": [
        "x // y"
      ],
      "execution_count": null,
      "outputs": []
    },
    {
      "cell_type": "markdown",
      "metadata": {
        "id": "uz2w30Ve7OGa"
      },
      "source": [
        "## Comments"
      ]
    },
    {
      "cell_type": "code",
      "metadata": {
        "id": "WHtNlutB7OGc"
      },
      "source": [
        "# This is a comment"
      ],
      "execution_count": null,
      "outputs": []
    },
    {
      "cell_type": "code",
      "metadata": {
        "id": "NL-JN_9K7OGl"
      },
      "source": [
        "# Set the variable pi equal to 3.14\n",
        "pi = 3.14 "
      ],
      "execution_count": null,
      "outputs": []
    },
    {
      "cell_type": "code",
      "metadata": {
        "id": "H5HHk50x7OGs"
      },
      "source": [
        "pi = 3.14     # Set the variable pi equal to 3.14"
      ],
      "execution_count": null,
      "outputs": []
    },
    {
      "cell_type": "markdown",
      "metadata": {
        "id": "3Nz1Ebda7OG0"
      },
      "source": [
        "## Docstrings"
      ]
    },
    {
      "cell_type": "code",
      "metadata": {
        "id": "w0OCNVH47OG1"
      },
      "source": [
        "\"\"\"\n",
        "This document will explore why comments are particularly useful \n",
        "when writing and reading code.\n",
        "\"\"\""
      ],
      "execution_count": null,
      "outputs": []
    },
    {
      "cell_type": "markdown",
      "metadata": {
        "id": "V4Tu_Zos7OG8"
      },
      "source": [
        "### Finding a Solution Using the Pythagorean Theorem in Python"
      ]
    },
    {
      "cell_type": "code",
      "metadata": {
        "id": "OGtaLTBY7OG9"
      },
      "source": [
        "\"\"\"\n",
        "In this activity, you need to assign numbers to the x, y, and z variables, square the variables and add them together, \n",
        "and take the square root to obtain the distance, while providing comments along the way and a docstring to introduce \n",
        "the sequence of steps.\n",
        "\n",
        "\"\"\"\n",
        "import math \n",
        "\n",
        "x, y, z = 2, 3, 4\n",
        "\n",
        "m = (x ** 2) + (y ** 2) + (z ** 2) \n",
        "\n",
        "print(math.sqrt(m))\n"
      ],
      "execution_count": null,
      "outputs": []
    },
    {
      "cell_type": "markdown",
      "metadata": {
        "id": "g5aH2D_n7OHR"
      },
      "source": [
        "### Strings: Concatenation, Methods, and input()"
      ]
    },
    {
      "cell_type": "code",
      "metadata": {
        "id": "rY6SjDx57OHU"
      },
      "source": [
        "bookstore = 'City Lights'"
      ],
      "execution_count": null,
      "outputs": []
    },
    {
      "cell_type": "code",
      "metadata": {
        "id": "wYRITmav7OHl"
      },
      "source": [
        "bookstore = 'City Lights\""
      ],
      "execution_count": null,
      "outputs": []
    },
    {
      "cell_type": "code",
      "metadata": {
        "id": "0OKMHRKT7OH8"
      },
      "source": [
        "bookstore = \"Moe's\""
      ],
      "execution_count": null,
      "outputs": []
    },
    {
      "cell_type": "code",
      "metadata": {
        "id": "9Ai9g9fC7OIQ"
      },
      "source": [
        "bookstore = 'Moe's'"
      ],
      "execution_count": null,
      "outputs": []
    },
    {
      "cell_type": "markdown",
      "metadata": {
        "id": "jp9A9Lal7OIr"
      },
      "source": [
        "## Displaying Strings"
      ]
    },
    {
      "cell_type": "code",
      "metadata": {
        "id": "WUSvb9a07OIs"
      },
      "source": [
        "greeting = 'Hello'\n",
        "print(greeting)"
      ],
      "execution_count": null,
      "outputs": []
    },
    {
      "cell_type": "markdown",
      "metadata": {
        "id": "BxzyG4fJ7OIy"
      },
      "source": [
        "## String Operations and Concatenation"
      ]
    },
    {
      "cell_type": "code",
      "metadata": {
        "id": "Fh46UOzj7OI1"
      },
      "source": [
        "spanish_greeting = 'Hola'\n",
        "print(spanish_greeting + 'Senor.')"
      ],
      "execution_count": null,
      "outputs": []
    },
    {
      "cell_type": "markdown",
      "metadata": {
        "id": "mDOkHgP47OI8"
      },
      "source": [
        "3. Now, combine spanish_greeting with 'Senor.' using the + operator, but this time, include a space:\n"
      ]
    },
    {
      "cell_type": "code",
      "metadata": {
        "id": "GEW75Q_67OI9"
      },
      "source": [
        "spanish_greeting = 'Hola '\n",
        "print(spanish_greeting + 'Senor.')"
      ],
      "execution_count": null,
      "outputs": []
    },
    {
      "cell_type": "markdown",
      "metadata": {
        "id": "WfAeF8AR7OJR"
      },
      "source": [
        "Display the greeting 5 times using the * multiplication operator:\n"
      ]
    },
    {
      "cell_type": "code",
      "metadata": {
        "id": "IPrbF7Rx7OJW"
      },
      "source": [
        "greeting = 'Hello'\n",
        "print(greeting * 5)"
      ],
      "execution_count": null,
      "outputs": []
    },
    {
      "cell_type": "markdown",
      "metadata": {
        "id": "gGOlGH3H7OJs"
      },
      "source": [
        "## String Interpolation"
      ]
    },
    {
      "cell_type": "code",
      "metadata": {
        "id": "t_DFWQXC7OJt"
      },
      "source": [
        "italian_greeting = 'Ciao'\n",
        "print('Should we greet people with', italian_greeting, 'in North Beach?')"
      ],
      "execution_count": null,
      "outputs": []
    },
    {
      "cell_type": "code",
      "metadata": {
        "id": "3ltxbw667OJ6"
      },
      "source": [
        "owner = 'Lawrence Ferlinghetti'\n",
        "age = 100\n",
        "print('The founder of City Lights Bookstore, {}, is now {} years old.'.format(owner, age))"
      ],
      "execution_count": null,
      "outputs": []
    },
    {
      "cell_type": "code",
      "metadata": {
        "id": "BbN6o0Kg7OKb"
      },
      "source": [
        "len(italian_greeting)"
      ],
      "execution_count": null,
      "outputs": []
    },
    {
      "cell_type": "markdown",
      "metadata": {
        "id": "SpZQ5-ke7OKu"
      },
      "source": [
        "## String Methods"
      ]
    },
    {
      "cell_type": "code",
      "metadata": {
        "id": "5IyO50uW7OKv"
      },
      "source": [
        "name = 'Corey'"
      ],
      "execution_count": null,
      "outputs": []
    },
    {
      "cell_type": "code",
      "metadata": {
        "id": "6Ri8BH4g7OLA"
      },
      "source": [
        "name.lower()"
      ],
      "execution_count": null,
      "outputs": []
    },
    {
      "cell_type": "code",
      "metadata": {
        "id": "G1nL5esI7OLF"
      },
      "source": [
        "name.capitalize()"
      ],
      "execution_count": null,
      "outputs": []
    },
    {
      "cell_type": "code",
      "metadata": {
        "id": "oQZo3UlF7OLN"
      },
      "source": [
        "name.upper()"
      ],
      "execution_count": null,
      "outputs": []
    },
    {
      "cell_type": "code",
      "metadata": {
        "id": "H9NR54fZ7OLR"
      },
      "source": [
        "name.count('')"
      ],
      "execution_count": null,
      "outputs": []
    },
    {
      "cell_type": "markdown",
      "metadata": {
        "id": "xDW5Odgh7OLe"
      },
      "source": [
        "## Types and Casting"
      ]
    },
    {
      "cell_type": "code",
      "metadata": {
        "id": "q049n-lF7OLg"
      },
      "source": [
        "type('5')"
      ],
      "execution_count": null,
      "outputs": []
    },
    {
      "cell_type": "code",
      "metadata": {
        "id": "bSuUw-Gc7OL1"
      },
      "source": [
        "'5' + '7'"
      ],
      "execution_count": null,
      "outputs": []
    },
    {
      "cell_type": "code",
      "metadata": {
        "id": "n-Ea3rAw7OME"
      },
      "source": [
        "int('5')"
      ],
      "execution_count": null,
      "outputs": []
    },
    {
      "cell_type": "code",
      "metadata": {
        "id": "1Lh2szGU7OMR"
      },
      "source": [
        "int('5') + int('7')"
      ],
      "execution_count": null,
      "outputs": []
    },
    {
      "cell_type": "markdown",
      "metadata": {
        "id": "uLWpFVEz7OMm"
      },
      "source": [
        "## The input() Function"
      ]
    },
    {
      "cell_type": "code",
      "metadata": {
        "id": "gMd8La0z7OMv"
      },
      "source": [
        "# Choose a question to ask\n",
        "print('What is your name?')"
      ],
      "execution_count": null,
      "outputs": []
    },
    {
      "cell_type": "code",
      "metadata": {
        "id": "Pd6CGZUU7OM_"
      },
      "source": [
        "name = input()"
      ],
      "execution_count": null,
      "outputs": []
    },
    {
      "cell_type": "code",
      "metadata": {
        "id": "DvDsCReQ7ONI"
      },
      "source": [
        "print('Hello, ' + name + '.')"
      ],
      "execution_count": null,
      "outputs": []
    },
    {
      "cell_type": "code",
      "metadata": {
        "id": "y1S4ShVY7ONM"
      },
      "source": [
        "name = input('What is your name?')"
      ],
      "execution_count": null,
      "outputs": []
    },
    {
      "cell_type": "code",
      "metadata": {
        "id": "13KCGH6N7ONY"
      },
      "source": [
        "print('Hello, ' + name + '.')"
      ],
      "execution_count": null,
      "outputs": []
    },
    {
      "cell_type": "markdown",
      "metadata": {
        "id": "Qrsq74FE7ONd"
      },
      "source": [
        "## Activity 3: Using the input() Function to Rate Your Day"
      ]
    },
    {
      "cell_type": "code",
      "metadata": {
        "id": "t1xQ2ujE7ONe"
      },
      "source": [
        "#Please input your Day rate Between 1 t0 10.\n",
        "\n",
        "name = input(\"Please Enter your name :\")"
      ],
      "execution_count": null,
      "outputs": []
    },
    {
      "cell_type": "code",
      "metadata": {
        "id": "PlY-eoJs7ONx"
      },
      "source": [
        "rate = input(\"Please, Enter your rating between 1 - 10: \")"
      ],
      "execution_count": null,
      "outputs": []
    },
    {
      "cell_type": "code",
      "metadata": {
        "id": "qRueNFqH7ON8"
      },
      "source": [
        "print(\"Hello \" + name, \"your day rating is \" + rate)"
      ],
      "execution_count": null,
      "outputs": []
    },
    {
      "cell_type": "code",
      "metadata": {
        "id": "XgTNh9Ap7OOL"
      },
      "source": [
        "# Choose a question to ask\n",
        "\n",
        "print('How would you rate your day on a scale of 1 to 10?')"
      ],
      "execution_count": null,
      "outputs": []
    },
    {
      "cell_type": "code",
      "metadata": {
        "id": "bPtNKJG57OOO"
      },
      "source": [
        "# Set a variable equal to input()\n",
        "\n",
        "day_rating = input()"
      ],
      "execution_count": null,
      "outputs": []
    },
    {
      "cell_type": "code",
      "metadata": {
        "id": "_8yQADN27OOX"
      },
      "source": [
        "# Select an appropriate output.\n",
        "\n",
        "print('You feel like a ' + day_rating + ' today. Thanks for letting me know')"
      ],
      "execution_count": null,
      "outputs": []
    },
    {
      "cell_type": "markdown",
      "metadata": {
        "id": "9JlmaRZF7OOb"
      },
      "source": [
        "## String Indexing and Slicing"
      ]
    },
    {
      "cell_type": "markdown",
      "metadata": {
        "id": "xgbf5JBY7OOc"
      },
      "source": [
        "### Indexing"
      ]
    },
    {
      "cell_type": "code",
      "metadata": {
        "id": "xwO-g4G47OOd"
      },
      "source": [
        "destination = 'San Francisco'"
      ],
      "execution_count": null,
      "outputs": []
    },
    {
      "cell_type": "markdown",
      "metadata": {
        "id": "LGm2tQBL7OOh"
      },
      "source": [
        "Note: We always start at 0 when indexing."
      ]
    },
    {
      "cell_type": "code",
      "metadata": {
        "id": "ogA9cfhk7OOk"
      },
      "source": [
        "destination[0]"
      ],
      "execution_count": null,
      "outputs": []
    },
    {
      "cell_type": "code",
      "metadata": {
        "id": "ObByTnrU7OOo"
      },
      "source": [
        "destination[1]"
      ],
      "execution_count": null,
      "outputs": []
    },
    {
      "cell_type": "markdown",
      "metadata": {
        "id": "-oy2WnGD7OO6"
      },
      "source": [
        "Note: Negative numbers start at the end of the string. (It makes sense to start with -1 since -0 is the same as 0.)"
      ]
    },
    {
      "cell_type": "code",
      "metadata": {
        "id": "Aq7YI5Md7OO7"
      },
      "source": [
        "destination[-1]"
      ],
      "execution_count": null,
      "outputs": []
    },
    {
      "cell_type": "code",
      "metadata": {
        "id": "WRYIanbI7OPA"
      },
      "source": [
        "destination[-2]"
      ],
      "execution_count": null,
      "outputs": []
    },
    {
      "cell_type": "code",
      "metadata": {
        "id": "CQlft2DR7OPH"
      },
      "source": [
        "bridge = 'Golden Gate'\n",
        "bridge[6]"
      ],
      "execution_count": null,
      "outputs": []
    },
    {
      "cell_type": "markdown",
      "metadata": {
        "id": "FzA2kqcS7OPL"
      },
      "source": [
        "### Slicing"
      ]
    },
    {
      "cell_type": "code",
      "metadata": {
        "id": "iIubsFDA7OPM"
      },
      "source": [
        "destination[4:11]"
      ],
      "execution_count": null,
      "outputs": []
    },
    {
      "cell_type": "code",
      "metadata": {
        "id": "80uR5_0c7OPe"
      },
      "source": [
        "destination[0:3]"
      ],
      "execution_count": null,
      "outputs": []
    },
    {
      "cell_type": "code",
      "metadata": {
        "id": "5y1b90eu7OP6"
      },
      "source": [
        "destination[:8]"
      ],
      "execution_count": null,
      "outputs": []
    },
    {
      "cell_type": "code",
      "metadata": {
        "id": "uVQLW_Lv7OP-"
      },
      "source": [
        "destination[-3:]"
      ],
      "execution_count": null,
      "outputs": []
    },
    {
      "cell_type": "markdown",
      "metadata": {
        "id": "UQMAgRH37OQM"
      },
      "source": [
        "## Booleans"
      ]
    },
    {
      "cell_type": "markdown",
      "metadata": {
        "id": "1QCgqoGE7OQM"
      },
      "source": [
        "In Python, a Boolean class object is represented by the bool keyword and has a value of True or False.\n",
        "\n",
        "Note: Boolean values must be capitalized in Python."
      ]
    },
    {
      "cell_type": "code",
      "metadata": {
        "id": "xTnn4nSk7OQN"
      },
      "source": [
        "over_18 = True\n",
        "type(over_18)"
      ],
      "execution_count": null,
      "outputs": []
    },
    {
      "cell_type": "code",
      "metadata": {
        "id": "_LJr6D-07OQQ"
      },
      "source": [
        "over_21 = False\n",
        "type(over_21)"
      ],
      "execution_count": null,
      "outputs": []
    },
    {
      "cell_type": "markdown",
      "metadata": {
        "id": "Pu3vGfoS7OQV"
      },
      "source": [
        "## Logical Operators"
      ]
    },
    {
      "cell_type": "code",
      "metadata": {
        "id": "mtyoMAFh7OQW"
      },
      "source": [
        "over_18, over_21 = True, False"
      ],
      "execution_count": null,
      "outputs": []
    },
    {
      "cell_type": "code",
      "metadata": {
        "id": "hBuSo8lP7OQa"
      },
      "source": [
        "over_18 and over_21"
      ],
      "execution_count": null,
      "outputs": []
    },
    {
      "cell_type": "code",
      "metadata": {
        "id": "NORSHtFa7OQg"
      },
      "source": [
        "over_18 or over_21"
      ],
      "execution_count": null,
      "outputs": []
    },
    {
      "cell_type": "code",
      "metadata": {
        "id": "aMtcLZ0q7OQw"
      },
      "source": [
        "not over_18"
      ],
      "execution_count": null,
      "outputs": []
    },
    {
      "cell_type": "code",
      "metadata": {
        "id": "DqmR2Htj7OQ6"
      },
      "source": [
        "not over_21 or (over_21 or over_18)"
      ],
      "execution_count": null,
      "outputs": []
    },
    {
      "cell_type": "markdown",
      "metadata": {
        "id": "fRzvCnaw7OQ_"
      },
      "source": [
        "## Comparison Operators"
      ]
    },
    {
      "cell_type": "markdown",
      "metadata": {
        "id": "vOfT7qVT7ORA"
      },
      "source": [
        "Note: The = and == symbols are often confused. The = symbol is an assignment operator. So, x = 3 assigns the integer 3 to the x variable. The operator == makes a comparison between the two entities. Thus x == 3 checks to see whether x is equivalent to 3. The result of x == 3 will be True or False depending on the value of x."
      ]
    },
    {
      "cell_type": "code",
      "metadata": {
        "id": "WFak_f2D7ORA"
      },
      "source": [
        "age = 20\n",
        "age < 13"
      ],
      "execution_count": null,
      "outputs": []
    },
    {
      "cell_type": "code",
      "metadata": {
        "id": "CybzmmyJ7ORF"
      },
      "source": [
        "age >= 20 and age <= 21"
      ],
      "execution_count": null,
      "outputs": []
    },
    {
      "cell_type": "code",
      "metadata": {
        "id": "tuYM4B9W7ORM"
      },
      "source": [
        "age != 21"
      ],
      "execution_count": null,
      "outputs": []
    },
    {
      "cell_type": "code",
      "metadata": {
        "id": "6GD7kJE_7ORP"
      },
      "source": [
        "age == 19"
      ],
      "execution_count": null,
      "outputs": []
    },
    {
      "cell_type": "code",
      "metadata": {
        "id": "ljEMMlVV7ORY"
      },
      "source": [
        "6 == 6.0"
      ],
      "execution_count": null,
      "outputs": []
    },
    {
      "cell_type": "code",
      "metadata": {
        "id": "iiPKrW-s7ORb"
      },
      "source": [
        "6 == '6'"
      ],
      "execution_count": null,
      "outputs": []
    },
    {
      "cell_type": "code",
      "metadata": {
        "id": "0uavakmt7ORx"
      },
      "source": [
        "(age >= 20 and age < 30) or (age >= 30 and age < 40)"
      ],
      "execution_count": null,
      "outputs": []
    },
    {
      "cell_type": "code",
      "metadata": {
        "id": "qzSMjYWA7OR2"
      },
      "source": [
        "(20 <= age < 30) or (30 <= age < 40)"
      ],
      "execution_count": null,
      "outputs": []
    },
    {
      "cell_type": "markdown",
      "metadata": {
        "id": "43_kQ0Mc7OR7"
      },
      "source": [
        "## Comparing Strings"
      ]
    },
    {
      "cell_type": "code",
      "metadata": {
        "id": "cUC8JuLF7OR7"
      },
      "source": [
        "'a' < 'c'"
      ],
      "execution_count": null,
      "outputs": []
    },
    {
      "cell_type": "code",
      "metadata": {
        "id": "QdszFs-L7OR_"
      },
      "source": [
        "'New York' > 'San Francisco'"
      ],
      "execution_count": null,
      "outputs": []
    },
    {
      "cell_type": "markdown",
      "metadata": {
        "id": "8O3RRS917OSE"
      },
      "source": [
        "## Conditionals"
      ]
    },
    {
      "cell_type": "markdown",
      "metadata": {
        "id": "2pHFdL8c7OSF"
      },
      "source": [
        "### The if Syntax"
      ]
    },
    {
      "cell_type": "code",
      "metadata": {
        "id": "0M8UE5Wl7OSG"
      },
      "source": [
        "age = 16\n",
        "if age < 18:\n",
        "    print('You aren\\'t old enough to vote.')"
      ],
      "execution_count": null,
      "outputs": []
    },
    {
      "cell_type": "markdown",
      "metadata": {
        "id": "2iuRS7Ha7OSN"
      },
      "source": [
        "### Indentation"
      ]
    },
    {
      "cell_type": "markdown",
      "metadata": {
        "id": "S23dpDHr7OSO"
      },
      "source": [
        "One potential drawback is that dozens of tabs may draw text offscreen, but this is rare in practice, and can usually be avoided with elegant code. Other concerns, such as indenting or unindenting multiple lines, may be handled via shortcuts. Select all of the text and press Tab to indent. Select all of the text and press Shift + Tab to unindent.\n",
        "\n",
        "Note: Indentation is unique to Python. This may result in strong opinions on both sides. In practice, indentation has been shown to be very effective, and developers used to other languages will appreciate its advantages in time."
      ]
    },
    {
      "cell_type": "markdown",
      "metadata": {
        "id": "NWu9QWsV7OSQ"
      },
      "source": [
        "### The if"
      ]
    },
    {
      "cell_type": "code",
      "metadata": {
        "id": "dXmEDtO87OSR"
      },
      "source": [
        "age = 20\n",
        "if age >= 18 and age < 21:\n",
        "   print('At least you can vote.')\n",
        "   print('Poker will have to wait.')"
      ],
      "execution_count": null,
      "outputs": []
    },
    {
      "cell_type": "code",
      "metadata": {
        "id": "ojrlbfPe7OSZ"
      },
      "source": [
        "if age >= 18:\n",
        "  print('You can vote.')\n",
        "  if age >= 21:\n",
        "    print('You can play poker.')"
      ],
      "execution_count": null,
      "outputs": []
    },
    {
      "cell_type": "markdown",
      "metadata": {
        "id": "zKZaNKu47OSd"
      },
      "source": [
        "### if else"
      ]
    },
    {
      "cell_type": "code",
      "metadata": {
        "id": "hugx1p2u7OSd"
      },
      "source": [
        "age = 20\n",
        "if age < 18:\n",
        "  print('You aren\\'t old enough to vote.')\n",
        "else:\n",
        "  print('Welcome to our voting program.')"
      ],
      "execution_count": null,
      "outputs": []
    },
    {
      "cell_type": "code",
      "metadata": {
        "id": "45uQ-wkI7OSh"
      },
      "source": [
        "if age >= 18:\n",
        "  print('Welcome to our voting program.')\n",
        "else:\n",
        "  print('You aren\\'t old enough to vote.')"
      ],
      "execution_count": null,
      "outputs": []
    },
    {
      "cell_type": "markdown",
      "metadata": {
        "id": "vs7qzx-j7OSn"
      },
      "source": [
        "### The elif Statement"
      ]
    },
    {
      "cell_type": "code",
      "metadata": {
        "id": "QUVjx7n77OSn"
      },
      "source": [
        "if age <= 10:\n",
        "  print('Listen, learn, and have fun.')\n",
        "elif age<= 19:\n",
        "  print('Go fearlessly forward.')\n",
        "elif age <= 29:\n",
        "  print('Seize the day.')\n",
        "elif age <= 39:\n",
        "  print('Go for what you want.')\n",
        "elif age <= 59:\n",
        "  print('Stay physically fit and healthy.')\n",
        "else:\n",
        "  print('Each day is magical.')"
      ],
      "execution_count": null,
      "outputs": []
    },
    {
      "cell_type": "markdown",
      "metadata": {
        "id": "vUhvlF5B7OS0"
      },
      "source": [
        "## Loops"
      ]
    },
    {
      "cell_type": "markdown",
      "metadata": {
        "id": "y_zvhRa67OS0"
      },
      "source": [
        "### The while Loops"
      ]
    },
    {
      "cell_type": "code",
      "metadata": {
        "id": "e9_BfSdv7OS1"
      },
      "source": [
        "i = 1\n",
        "while i <= 10:\n",
        "  print(i)\n",
        "  i += 1"
      ],
      "execution_count": null,
      "outputs": []
    },
    {
      "cell_type": "markdown",
      "metadata": {
        "id": "qCMD_3J37OTA"
      },
      "source": [
        "Note: You will get stuck in infinite loops. It happens to everyone. At some point, you will forget to add the increment, and you will be stuck in an infinite loop. In Jupyter Notebooks, just restart the kernel."
      ]
    },
    {
      "cell_type": "markdown",
      "metadata": {
        "id": "_irWrS5b7OTB"
      },
      "source": [
        "### An Infinite Loop"
      ]
    },
    {
      "cell_type": "code",
      "metadata": {
        "id": "KRw-O9q97OTC",
        "outputId": "10f6bb3a-5115-4581-dc5f-e7d134ac3163"
      },
      "source": [
        "x = 5\n",
        "while x<= 20:\n",
        "    print(x)\n",
        "    x += 5"
      ],
      "execution_count": null,
      "outputs": [
        {
          "output_type": "stream",
          "text": [
            "5\n",
            "10\n",
            "15\n",
            "20\n"
          ],
          "name": "stdout"
        }
      ]
    },
    {
      "cell_type": "markdown",
      "metadata": {
        "id": "6j0RVbDk7OTa"
      },
      "source": [
        "### break"
      ]
    },
    {
      "cell_type": "code",
      "metadata": {
        "id": "wVJ1L9v37OTb"
      },
      "source": [
        "# Find first number greater than 100 and divisible by 17.\n",
        "x = 100\n",
        "while x > 100:\n",
        "  x += 1\n",
        "  if x % 17 == 0:\n",
        "    print('', x, 'is the first number greater than 100 that is divisible by 17.')\n",
        "    break"
      ],
      "execution_count": null,
      "outputs": []
    },
    {
      "cell_type": "markdown",
      "metadata": {
        "id": "lk0xoEi07OTi"
      },
      "source": [
        "## Activity 4: Finding the Least Common Multiple (LCM)"
      ]
    },
    {
      "cell_type": "code",
      "metadata": {
        "id": "Sdcc_tWP7OTi",
        "outputId": "550dba52-7520-47ee-e4a1-0919225dc16b"
      },
      "source": [
        "# Find the Least Common Multiple of Two Divisors\n",
        "counting = True\n",
        "first_divisor = 24\n",
        "second_divisor = 36\n",
        "i = 1\n",
        "while counting:\n",
        "    if i % first_divisor == 0 and i % second_divisor == 0:\n",
        "        print('The Least Common Multiple of', first_divisor, 'and', second_divisor, 'is', i, '.')\n",
        "        break\n",
        "    i += 1\n",
        "        "
      ],
      "execution_count": null,
      "outputs": [
        {
          "output_type": "stream",
          "text": [
            "The Least Common Multiple of 24 and 36 is 72 .\n"
          ],
          "name": "stdout"
        }
      ]
    },
    {
      "cell_type": "markdown",
      "metadata": {
        "id": "XPBhSwrR7OTn"
      },
      "source": [
        "## Eval"
      ]
    },
    {
      "cell_type": "code",
      "metadata": {
        "id": "utVZs0BO7OTn",
        "outputId": "949c8b7b-c4b3-4d22-f6dd-e9aa862d9ea1"
      },
      "source": [
        "# Evaluating value of 12+3\n",
        "eval('12 + 3')"
      ],
      "execution_count": null,
      "outputs": [
        {
          "output_type": "execute_result",
          "data": {
            "text/plain": [
              "15"
            ]
          },
          "metadata": {
            "tags": []
          },
          "execution_count": 4
        }
      ]
    },
    {
      "cell_type": "markdown",
      "metadata": {
        "id": "zRbiCygd7OTr"
      },
      "source": [
        "## Exercise 18: Calculating Perfect Squares"
      ]
    },
    {
      "cell_type": "code",
      "metadata": {
        "id": "Ej8H1qPl7OTr",
        "outputId": "09b55c13-0116-4f49-f7aa-4df764e1fec1"
      },
      "source": [
        "print('Enter a number to see if it\\'s a perfect square.') #1. prompt the user to enter a  number and it is a perfect square.\n",
        "number = input()      #2. set variable equal to input."
      ],
      "execution_count": null,
      "outputs": [
        {
          "output_type": "stream",
          "text": [
            "Enter a number to see if it's a perfect square.\n",
            "45\n"
          ],
          "name": "stdout"
        }
      ]
    },
    {
      "cell_type": "code",
      "metadata": {
        "id": "PJbRUeqN7OTv",
        "outputId": "ec9e979b-d9cc-4473-a90f-4a410b0001ab"
      },
      "source": [
        "number = abs(int(number))    #3. Ensure inpute is a positive whole number  \n",
        "i = -1     #4. choose iterator variable.\n",
        "square = False         # 5. Initialize a Boolean to check for a perfect square\n",
        "while i <= number**(0.5): #6. Initialize a while loop from -1 to the square root of the number\n",
        "    i += 1  # 7 . increment 1 by 1 \n",
        "    if i*i == number: #8. Check the square root of the number\n",
        "        square = True # 9. Indicate that we have a perfect square\n",
        "        break #10. break out of the loop\n",
        "if square: #11. If the number is square, print out the result\n",
        "    print('The square root of', number, 'is', i, '.')\n",
        "else: #12. If the number is not a square, print out this result\n",
        "    print('', number, 'is not a perfect square.')"
      ],
      "execution_count": null,
      "outputs": [
        {
          "output_type": "stream",
          "text": [
            " 45 is not a perfect square.\n"
          ],
          "name": "stdout"
        }
      ]
    },
    {
      "cell_type": "markdown",
      "metadata": {
        "id": "fZBYMFgy7OTz"
      },
      "source": [
        "## Exercise 19: Real Estate Offer"
      ]
    },
    {
      "cell_type": "code",
      "metadata": {
        "id": "dX_lR1a07OT-",
        "outputId": "db2e9ce5-51db-429f-eaf7-d1e4151825a6"
      },
      "source": [
        "print('A one bedroom in the Bay Area is listed at $599,000')\n",
        "print('Enter your first offer on the house.')"
      ],
      "execution_count": null,
      "outputs": [
        {
          "output_type": "stream",
          "text": [
            "A one bedroom in the Bay Area is listed at $599,000\n",
            "Enter your first offer on the house.\n"
          ],
          "name": "stdout"
        }
      ]
    },
    {
      "cell_type": "code",
      "metadata": {
        "id": "NpZ1y4M77OUD",
        "outputId": "6957810f-70ec-4349-971f-835fa930f787"
      },
      "source": [
        "offer = abs(int(input()))"
      ],
      "execution_count": null,
      "outputs": [
        {
          "output_type": "stream",
          "text": [
            "500000\n"
          ],
          "name": "stdout"
        }
      ]
    },
    {
      "cell_type": "code",
      "metadata": {
        "id": "gBbIfBNf7OUI",
        "outputId": "fe7ed095-9460-4b1f-982c-5caaf2727fe4"
      },
      "source": [
        "print('Enter your best offer on the house.')"
      ],
      "execution_count": null,
      "outputs": [
        {
          "output_type": "stream",
          "text": [
            "Enter your best offer on the house.\n"
          ],
          "name": "stdout"
        }
      ]
    },
    {
      "cell_type": "code",
      "metadata": {
        "id": "Gi5tO8LO7OUN",
        "outputId": "9b9944fd-3db3-4644-8e1a-f080f23563c3"
      },
      "source": [
        "best = abs(int(input()))"
      ],
      "execution_count": null,
      "outputs": [
        {
          "output_type": "stream",
          "text": [
            "600000\n"
          ],
          "name": "stdout"
        }
      ]
    },
    {
      "cell_type": "code",
      "metadata": {
        "id": "NsLxoMJI7OUR",
        "outputId": "7d29ece2-747d-414f-8349-6451e709c42a"
      },
      "source": [
        "print('How much more do you want to offer each time?')"
      ],
      "execution_count": null,
      "outputs": [
        {
          "output_type": "stream",
          "text": [
            "How much more do you want to offer each time?\n"
          ],
          "name": "stdout"
        }
      ]
    },
    {
      "cell_type": "code",
      "metadata": {
        "id": "A1URA5L87OUY",
        "outputId": "e1379ada-c825-4e2a-f68f-51d50ad5f531"
      },
      "source": [
        "increment = abs(int(input()))"
      ],
      "execution_count": null,
      "outputs": [
        {
          "output_type": "stream",
          "text": [
            "40000\n"
          ],
          "name": "stdout"
        }
      ]
    },
    {
      "cell_type": "code",
      "metadata": {
        "id": "U_vbf3nX7OUe",
        "outputId": "27f7d9bb-13fe-47ab-8036-94fd4c1365e8"
      },
      "source": [
        "offer_accepted = False\n",
        "while offer <= best:\n",
        "    if offer >= 650000:\n",
        "        offer_accepted = True\n",
        "        print('Your offer of', offer, 'has been accepted!')\n",
        "        break\n",
        "    print('We\\'re sorry, you\\'re offer of', offer, 'has not been accepted.' )\n",
        "    offer += increment"
      ],
      "execution_count": null,
      "outputs": [
        {
          "output_type": "stream",
          "text": [
            "We're sorry, you're offer of 500000 has not been accepted.\n",
            "We're sorry, you're offer of 540000 has not been accepted.\n",
            "We're sorry, you're offer of 580000 has not been accepted.\n"
          ],
          "name": "stdout"
        }
      ]
    },
    {
      "cell_type": "markdown",
      "metadata": {
        "id": "XiKc3quZ7OUm"
      },
      "source": [
        "### The For Loop"
      ]
    },
    {
      "cell_type": "markdown",
      "metadata": {
        "id": "-RylXrcP7OUn"
      },
      "source": [
        "## Exercise 20: Using for Loops"
      ]
    },
    {
      "cell_type": "code",
      "metadata": {
        "id": "CWEVqgPj7OUn",
        "outputId": "3ef7d63d-d5dc-4888-e404-060f791e13ca"
      },
      "source": [
        "for i in 'Portland':\n",
        "  print(i)"
      ],
      "execution_count": null,
      "outputs": [
        {
          "output_type": "stream",
          "text": [
            "P\n",
            "o\n",
            "r\n",
            "t\n",
            "l\n",
            "a\n",
            "n\n",
            "d\n"
          ],
          "name": "stdout"
        }
      ]
    },
    {
      "cell_type": "code",
      "metadata": {
        "id": "MxYGeUkm7OUs",
        "outputId": "2fc7e9d5-f449-480f-9470-1ad22d613900"
      },
      "source": [
        "for i in range(1,10):\n",
        "  print(i)"
      ],
      "execution_count": null,
      "outputs": [
        {
          "output_type": "stream",
          "text": [
            "1\n",
            "2\n",
            "3\n",
            "4\n",
            "5\n",
            "6\n",
            "7\n",
            "8\n",
            "9\n"
          ],
          "name": "stdout"
        }
      ]
    },
    {
      "cell_type": "code",
      "metadata": {
        "id": "vFo2dBiL7OUw",
        "outputId": "cee011a4-4256-497a-f5ab-97077ea6f29d"
      },
      "source": [
        "for i in range(10):\n",
        "  print(i)"
      ],
      "execution_count": null,
      "outputs": [
        {
          "output_type": "stream",
          "text": [
            "0\n",
            "1\n",
            "2\n",
            "3\n",
            "4\n",
            "5\n",
            "6\n",
            "7\n",
            "8\n",
            "9\n"
          ],
          "name": "stdout"
        }
      ]
    },
    {
      "cell_type": "code",
      "metadata": {
        "id": "RjZv_4oL7OU9",
        "outputId": "023fb1d0-d4fb-4b3b-b672-ecfe8181ef99"
      },
      "source": [
        "for i in range(1, 11, 2):\n",
        "  print(i)"
      ],
      "execution_count": null,
      "outputs": [
        {
          "output_type": "stream",
          "text": [
            "1\n",
            "3\n",
            "5\n",
            "7\n",
            "9\n"
          ],
          "name": "stdout"
        }
      ]
    },
    {
      "cell_type": "code",
      "metadata": {
        "id": "vk-k9jjR7OVS",
        "outputId": "65c17403-aa89-462c-8875-6b7be0305ebf"
      },
      "source": [
        "for i in range(3, 0, -1):\n",
        "    print(i)"
      ],
      "execution_count": null,
      "outputs": [
        {
          "output_type": "stream",
          "text": [
            "3\n",
            "2\n",
            "1\n"
          ],
          "name": "stdout"
        }
      ]
    },
    {
      "cell_type": "code",
      "metadata": {
        "id": "hXCJ7yum7OVW",
        "outputId": "38ae38b8-63ca-435e-a33c-2815734ab257"
      },
      "source": [
        "name = 'Corey'\n",
        "for j in range(3):\n",
        "    for i in name:\n",
        "        print(i)"
      ],
      "execution_count": null,
      "outputs": [
        {
          "output_type": "stream",
          "text": [
            "C\n",
            "o\n",
            "r\n",
            "e\n",
            "y\n",
            "C\n",
            "o\n",
            "r\n",
            "e\n",
            "y\n",
            "C\n",
            "o\n",
            "r\n",
            "e\n",
            "y\n"
          ],
          "name": "stdout"
        }
      ]
    },
    {
      "cell_type": "markdown",
      "metadata": {
        "id": "lRU2gK9p7OV0"
      },
      "source": [
        "### The continue Keyword"
      ]
    },
    {
      "cell_type": "code",
      "metadata": {
        "id": "BgdGy16n7OV0",
        "outputId": "42253a8a-ac50-41d4-fd01-ea4c47a17ba2"
      },
      "source": [
        "for num in range(10,100):\n",
        "    if num % 2 == 0:\n",
        "        continue\n",
        "    if num % 3 == 0:\n",
        "        continue\n",
        "    if num % 5 == 0:\n",
        "        continue\n",
        "    if num % 7 == 0:\n",
        "        continue\n",
        "    print(num)"
      ],
      "execution_count": null,
      "outputs": [
        {
          "output_type": "stream",
          "text": [
            "11\n",
            "13\n",
            "17\n",
            "19\n",
            "23\n",
            "29\n",
            "31\n",
            "37\n",
            "41\n",
            "43\n",
            "47\n",
            "53\n",
            "59\n",
            "61\n",
            "67\n",
            "71\n",
            "73\n",
            "79\n",
            "83\n",
            "89\n",
            "97\n"
          ],
          "name": "stdout"
        }
      ]
    },
    {
      "cell_type": "markdown",
      "metadata": {
        "id": "e9h37K217OV7"
      },
      "source": [
        "## Activity 5: Building Conversational Bots Using Python"
      ]
    },
    {
      "cell_type": "code",
      "metadata": {
        "id": "Ew4kCWkm7OV_",
        "outputId": "ff4685ad-8911-4057-854e-1148729f65b5"
      },
      "source": [
        "print('What is your name?') "
      ],
      "execution_count": null,
      "outputs": [
        {
          "output_type": "stream",
          "text": [
            "What is your name?\n"
          ],
          "name": "stdout"
        }
      ]
    },
    {
      "cell_type": "code",
      "metadata": {
        "id": "dqGDfxvg7OWG",
        "outputId": "d907da12-3cf6-4734-9a14-84d6a9bd1cbe"
      },
      "source": [
        "name = input() \n",
        "print('Fascinating.', name, 'is my name too.') "
      ],
      "execution_count": null,
      "outputs": [
        {
          "output_type": "stream",
          "text": [
            "Zeinab\n",
            "Fascinating. Zeinab is my name too.\n"
          ],
          "name": "stdout"
        }
      ]
    },
    {
      "cell_type": "code",
      "metadata": {
        "id": "EScwUZ5S7OWK",
        "outputId": "89c91dcd-e33f-4d5d-8da2-1a071591b6de"
      },
      "source": [
        "print('Have you thought about black holes today?')"
      ],
      "execution_count": null,
      "outputs": [
        {
          "output_type": "stream",
          "text": [
            "Have you thought about black holes today?\n"
          ],
          "name": "stdout"
        }
      ]
    },
    {
      "cell_type": "code",
      "metadata": {
        "id": "GRTuJONh7OWa",
        "outputId": "10c800ff-87d0-466c-f6a9-feeb74365e57"
      },
      "source": [
        "yes_no = input() \n",
        "print('I am so glad you said', yes_no, '. I was thinking the same thing.')"
      ],
      "execution_count": null,
      "outputs": [
        {
          "output_type": "stream",
          "text": [
            "Yes\n",
            "I am so glad you said Yes . I was thinking the same thing.\n"
          ],
          "name": "stdout"
        }
      ]
    },
    {
      "cell_type": "code",
      "metadata": {
        "id": "8-3D05hG7OWi",
        "outputId": "45b65235-5bab-4b34-8d65-1c7ebd16f864"
      },
      "source": [
        "print('We\\'re kindred spirits,', name, '. Talk later.')"
      ],
      "execution_count": null,
      "outputs": [
        {
          "output_type": "stream",
          "text": [
            "We're kindred spirits, Zeinab . Talk later.\n"
          ],
          "name": "stdout"
        }
      ]
    },
    {
      "cell_type": "code",
      "metadata": {
        "id": "DnomcaS87OWn",
        "outputId": "d1ce0110-2280-4859-9f46-f01c12c439c7"
      },
      "source": [
        "print('How intelligent are you? 0 is very dumb. And 10 is a genius') \n",
        "smarts = input()\n",
        "smarts = int(smarts)\n",
        "if smarts <= 3:\n",
        "    print('I don\\'t believe you.')\n",
        "    print('How bad of a day are you having? 0 is the worst, and 10 is the best.')\n",
        "    day = input()\n",
        "    day = int(day)\n",
        "    if day <= 5:\n",
        "        print('If I was human, I would give you a hug.')\n",
        "    else:\n",
        "        print('Maybe I should try your approach.')\n",
        "        hours = input()\n",
        "        hours = int(hours)\n",
        "        if hours <= 4:\n",
        "            print('That\\'s the problem.')\n",
        "        else:\n",
        "            print('And I thought it was only me.')\n",
        "elif smarts <= 8:\n",
        "    print('Are you human by chance? Wait. Don\\'t answer that.')\n",
        "    print('How human are you? 0 is not at all and 10 is human all the way.')\n",
        "    human = input()\n",
        "    human = int(human)\n",
        "    if human <= 5:\n",
        "        print('I knew it.')\n",
        "    else:\n",
        "        print('I think this courtship is over.')\n",
        "else:\n",
        "    print('I see... How many operating systems do you run?')\n",
        "    os = input()\n",
        "    os = int(os)\n",
        "    if os <= 2:\n",
        "        print('Good thing you\\'re taking this course.')\n",
        "    else:\n",
        "        print('What is this? A competition?')"
      ],
      "execution_count": null,
      "outputs": [
        {
          "output_type": "stream",
          "text": [
            "How intelligent are you? 0 is very dumb. And 10 is a genius\n",
            "7\n",
            "Are you human by chance? Wait. Don't answer that.\n",
            "How human are you? 0 is not at all and 10 is human all the way.\n",
            "8\n",
            "I think this courtship is over.\n"
          ],
          "name": "stdout"
        }
      ]
    },
    {
      "cell_type": "code",
      "metadata": {
        "id": "De4DFCNX7OXH",
        "outputId": "8bfab57c-4404-44c2-aecc-9ff5a1f1aa91"
      },
      "source": [
        "a, b, c = 15, 4, 2\n",
        "\n",
        "a% (b * c)"
      ],
      "execution_count": null,
      "outputs": [
        {
          "output_type": "execute_result",
          "data": {
            "text/plain": [
              "7"
            ]
          },
          "metadata": {
            "tags": []
          },
          "execution_count": 1
        }
      ]
    },
    {
      "cell_type": "code",
      "metadata": {
        "id": "VQj8r8p37OXL",
        "outputId": "350628fe-0de6-4b4c-d8a3-1817285ad28a"
      },
      "source": [
        "10 - 8 % 3"
      ],
      "execution_count": null,
      "outputs": [
        {
          "output_type": "execute_result",
          "data": {
            "text/plain": [
              "8"
            ]
          },
          "metadata": {
            "tags": []
          },
          "execution_count": 8
        }
      ]
    },
    {
      "cell_type": "code",
      "metadata": {
        "id": "MBliHqJf7OXO",
        "outputId": "5a26de02-507a-4941-cf6a-b18e55679a9e"
      },
      "source": [
        "x, y = 1, 2\n",
        "if (x + y) == 2:\n",
        "    print('a')\n",
        "if (y - (x == 1)) == 2:\n",
        "    print('b')\n",
        "elif (y - x) == 1:\n",
        "    print('c')\n",
        "else:\n",
        "    print('d')"
      ],
      "execution_count": null,
      "outputs": [
        {
          "output_type": "stream",
          "text": [
            "c\n"
          ],
          "name": "stdout"
        }
      ]
    },
    {
      "cell_type": "code",
      "metadata": {
        "id": "9RxwN3bY7OXS",
        "outputId": "2543bd17-93e1-4719-e814-003043ff9faa"
      },
      "source": [
        "my_name = 'Bert'\n",
        "my_name.replace('ert', 'ERT') == my_name.upper()"
      ],
      "execution_count": null,
      "outputs": [
        {
          "output_type": "execute_result",
          "data": {
            "text/plain": [
              "True"
            ]
          },
          "metadata": {
            "tags": []
          },
          "execution_count": 9
        }
      ]
    },
    {
      "cell_type": "code",
      "metadata": {
        "id": "JFL9AE067OXt",
        "outputId": "356fcd3b-c355-4e5d-f0c7-c89f55d556de"
      },
      "source": [
        "for i in ['a', 'b', 'c']:\n",
        "    if (i  != 'a') and (i != 'c'):\n",
        "        print(i)"
      ],
      "execution_count": null,
      "outputs": [
        {
          "output_type": "stream",
          "text": [
            "b\n"
          ],
          "name": "stdout"
        }
      ]
    },
    {
      "cell_type": "code",
      "metadata": {
        "id": "pkbeD_jF7OX0",
        "outputId": "c8a656a4-1c31-458d-f6ee-9297197a4ca7"
      },
      "source": [
        "string1 = \"String1\"\n",
        "print(string1)\n",
        "string2 = \"String2\"\n",
        "string2"
      ],
      "execution_count": null,
      "outputs": [
        {
          "output_type": "stream",
          "text": [
            "String1\n"
          ],
          "name": "stdout"
        },
        {
          "output_type": "execute_result",
          "data": {
            "text/plain": [
              "'String2'"
            ]
          },
          "metadata": {
            "tags": []
          },
          "execution_count": 11
        }
      ]
    },
    {
      "cell_type": "code",
      "metadata": {
        "id": "oyHhDggs7OX3",
        "outputId": "78f34590-05a8-4505-edcd-77d73484312e"
      },
      "source": [
        "i = 1\n",
        "while i > 0:\n",
        "    print(i)\n",
        "    i -= 1"
      ],
      "execution_count": null,
      "outputs": [
        {
          "output_type": "stream",
          "text": [
            "1\n"
          ],
          "name": "stdout"
        }
      ]
    },
    {
      "cell_type": "code",
      "metadata": {
        "id": "pf8VxZfe7OX8",
        "outputId": "708da51f-56be-4e84-eda7-d055878b940f"
      },
      "source": [
        "for i in range(10, -1, -2):\n",
        "    print(i)"
      ],
      "execution_count": null,
      "outputs": [
        {
          "output_type": "stream",
          "text": [
            "10\n",
            "8\n",
            "6\n",
            "4\n",
            "2\n",
            "0\n"
          ],
          "name": "stdout"
        }
      ]
    },
    {
      "cell_type": "code",
      "metadata": {
        "id": "MIxL3gEX7OYJ",
        "outputId": "ba588f45-48b9-4a5c-a079-6a2054ca0c68"
      },
      "source": [
        "for i in range(0, 3):\n",
        "    for j in range(0, 3):\n",
        "        continue\n",
        "    print(i+j)"
      ],
      "execution_count": null,
      "outputs": [
        {
          "output_type": "stream",
          "text": [
            "2\n",
            "3\n",
            "4\n"
          ],
          "name": "stdout"
        }
      ]
    },
    {
      "cell_type": "code",
      "metadata": {
        "id": "e7xFZH6h7OYM",
        "outputId": "a89e005d-2576-4c8d-ee5d-c635f1591fa5"
      },
      "source": [
        "name = 'Bert'\n",
        "if name[0] == 'B':\n",
        "    print('B')\n",
        "elif name[1] == ' ':\n",
        "    pass\n",
        "else:\n",
        "    print('Unknown')"
      ],
      "execution_count": null,
      "outputs": [
        {
          "output_type": "stream",
          "text": [
            "B\n"
          ],
          "name": "stdout"
        }
      ]
    },
    {
      "cell_type": "code",
      "metadata": {
        "id": "R5pcQDEA7OYU",
        "outputId": "60bb1440-a9a5-4b1a-bcad-66d9572f41b1"
      },
      "source": [
        "int(5.999) + float(6.001)"
      ],
      "execution_count": null,
      "outputs": [
        {
          "output_type": "execute_result",
          "data": {
            "text/plain": [
              "11.001000000000001"
            ]
          },
          "metadata": {
            "tags": []
          },
          "execution_count": 18
        }
      ]
    },
    {
      "cell_type": "code",
      "metadata": {
        "id": "uPTUJM-b7OYc"
      },
      "source": [
        ""
      ],
      "execution_count": null,
      "outputs": []
    }
  ]
}