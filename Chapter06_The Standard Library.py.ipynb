{
 "cells": [
  {
   "cell_type": "markdown",
   "metadata": {},
   "source": [
    "# Chapter 6: The Standard Library"
   ]
  },
  {
   "cell_type": "markdown",
   "metadata": {},
   "source": [
    "## The Importance of the Standard Library"
   ]
  },
  {
   "cell_type": "markdown",
   "metadata": {},
   "source": [
    "### High-Level Modules"
   ]
  },
  {
   "cell_type": "markdown",
   "metadata": {},
   "source": [
    "Here is a detailed explanation of the turtle module code snippet:\n",
    "\n",
    "    It creates a turtle in the middle of the screen.\n",
    "    It then rotates it 180 degrees to the right.\n",
    "    It moves forward 100 pixels, painting as it walks.\n",
    "    It then rotates to the right once again, this time by 90 degrees.\n",
    "    It then moves forward 50 pixels once again.\n",
    "    It ends the program using done()."
   ]
  },
  {
   "cell_type": "markdown",
   "metadata": {},
   "source": [
    "Other examples of high-level modules include:\n",
    "\n",
    "    Difflib: To check the differences line by line across two blocks of text.\n",
    "    Re: For regular expressions, which will be covered in Chapter 7, Being Pythonic.\n",
    "    Sqlite3: To create and interact with SQLite databases.\n",
    "    Multiple data compressing and archiving modules, such as gzip, zipfile, and tarfile.\n",
    "    XML, JSON, CSV, and config parser: For working with multiple file formats.\n",
    "    Sched: To schedule events in the standard library.\n",
    "    Argparse: For the straightforward creation of command-line interfaces."
   ]
  },
  {
   "cell_type": "markdown",
   "metadata": {},
   "source": [
    "### Lower-Level Modules"
   ]
  },
  {
   "cell_type": "markdown",
   "metadata": {},
   "source": [
    "The standard library also contains multiple lower-level modules that users rarely interact with. These lower-level modules are outside that of the standard library. Good examples are the different internet protocol modules, text formatting and templating, interacting with C code, testing, serving HTTP sites, and so on. "
   ]
  },
  {
   "cell_type": "markdown",
   "metadata": {},
   "source": [
    "Finally, there is another type of low-level module, which extends or simplifies the language. Notable examples of these are the following:\n",
    "\n",
    "    Asyncio: To write asynchronous code\n",
    "    Typing: To type hinting\n",
    "    Contextvar: To save state based on the context\n",
    "    Contextlib: To help with the creation of context managers\n",
    "    Doctest: To verify code examples in documentation and docstrings\n",
    "    Pdb and bdb: To access debugging tools"
   ]
  },
  {
   "cell_type": "markdown",
   "metadata": {},
   "source": [
    "## Exercise 85: Using the dataclass Module\n"
   ]
  },
  {
   "cell_type": "markdown",
   "metadata": {},
   "source": [
    "This exercise can be performed in the Jupyter notebook:\n",
    "\n",
    "    1. Import the dataclass module:"
   ]
  },
  {
   "cell_type": "code",
   "execution_count": 7,
   "metadata": {},
   "outputs": [],
   "source": [
    "import dataclasses"
   ]
  },
  {
   "cell_type": "markdown",
   "metadata": {},
   "source": [
    "This line brings the dataclasses module to the local namespace, allowing us to use it.\n",
    "\n",
    "2. Define a dataclass:"
   ]
  },
  {
   "cell_type": "code",
   "execution_count": 8,
   "metadata": {},
   "outputs": [],
   "source": [
    "@dataclasses.dataclass\n",
    "class Point:\n",
    "    x: int\n",
    "    y: int"
   ]
  },
  {
   "cell_type": "markdown",
   "metadata": {},
   "source": [
    "With these four lines, you have defined a dataclass by its most common methods. You can now see how it behaves differently from a standard class.\n",
    "3. Create an instance, which is the data for a geographical point:"
   ]
  },
  {
   "cell_type": "code",
   "execution_count": 9,
   "metadata": {},
   "outputs": [
    {
     "name": "stdout",
     "output_type": "stream",
     "text": [
      "Point(x=10, y=20)\n"
     ]
    }
   ],
   "source": [
    "p = Point(x=10, y=20)\n",
    "print(p)"
   ]
  },
  {
   "cell_type": "markdown",
   "metadata": {},
   "source": [
    "4. Now, compare the data points with another Point object:"
   ]
  },
  {
   "cell_type": "code",
   "execution_count": 10,
   "metadata": {},
   "outputs": [
    {
     "data": {
      "text/plain": [
       "True"
      ]
     },
     "execution_count": 10,
     "metadata": {},
     "output_type": "execute_result"
    }
   ],
   "source": [
    "p2 = Point(x=10, y=20)\n",
    "p == p2"
   ]
  },
  {
   "cell_type": "markdown",
   "metadata": {},
   "source": [
    "5. Serialize the data:"
   ]
  },
  {
   "cell_type": "code",
   "execution_count": 11,
   "metadata": {},
   "outputs": [
    {
     "data": {
      "text/plain": [
       "{'x': 10, 'y': 20}"
      ]
     },
     "execution_count": 11,
     "metadata": {},
     "output_type": "execute_result"
    }
   ],
   "source": [
    "dataclasses.asdict(p)"
   ]
  },
  {
   "cell_type": "markdown",
   "metadata": {},
   "source": [
    "The dataclasses module is part of the standard library, so most experienced users will understand how a class decorated with a dataclass decorator will behave compared to a custom implementation of those methods. This would require either further documentation to be written, or for users to fully understand all the code in all classes that are manually crafting those methods"
   ]
  },
  {
   "cell_type": "markdown",
   "metadata": {},
   "source": [
    "## Exercise 86: Extending the echo.py Example"
   ]
  },
  {
   "cell_type": "code",
   "execution_count": 12,
   "metadata": {},
   "outputs": [
    {
     "name": "stdout",
     "output_type": "stream",
     "text": [
      "usage: echo.py [-h] [-c] [--repeat REPEAT] message [message ...]\n",
      "\n",
      "Prints out the words passed in, capitalizes them if required and repeats them in as many lines as requested.\n",
      "\n",
      "positional arguments:\n",
      "  message           Messages to be echoed\n",
      "\n",
      "optional arguments:\n",
      "  -h, --help        show this help message and exit\n",
      "  -c, --capitalize\n",
      "  --repeat REPEAT\n"
     ]
    }
   ],
   "source": [
    "%run echo -h"
   ]
  },
  {
   "cell_type": "code",
   "execution_count": 13,
   "metadata": {},
   "outputs": [
    {
     "name": "stdout",
     "output_type": "stream",
     "text": [
      "Hello Packt Reader\n",
      "Hello Packt Reader\n",
      "Hello Packt Reader\n"
     ]
    }
   ],
   "source": [
    "%run echo.py hello packt reader --repeat=3 -c"
   ]
  },
  {
   "cell_type": "markdown",
   "metadata": {},
   "source": [
    "## Dates and Times"
   ]
  },
  {
   "cell_type": "code",
   "execution_count": 14,
   "metadata": {},
   "outputs": [
    {
     "data": {
      "text/plain": [
       "datetime.date(2020, 11, 9)"
      ]
     },
     "execution_count": 14,
     "metadata": {},
     "output_type": "execute_result"
    }
   ],
   "source": [
    "import datetime\n",
    "datetime.date.today()"
   ]
  },
  {
   "cell_type": "code",
   "execution_count": 15,
   "metadata": {},
   "outputs": [
    {
     "data": {
      "text/plain": [
       "datetime.datetime(1989, 4, 24, 10, 11, tzinfo=tzfile('Europe/Madrid'))"
      ]
     },
     "execution_count": 15,
     "metadata": {},
     "output_type": "execute_result"
    }
   ],
   "source": [
    "import datetime\n",
    "from dateutil import tz\n",
    "datetime.datetime(1989, 4, 24, 10, 11, \n",
    "                      tzinfo=tz.gettz(\"Europe/Madrid\"))"
   ]
  },
  {
   "cell_type": "markdown",
   "metadata": {},
   "source": [
    "## Exercise 87: Comparing datetime across Time Zones"
   ]
  },
  {
   "cell_type": "markdown",
   "metadata": {},
   "source": [
    "1. Import the **datetime** and **tz** modules from **dateutil**:"
   ]
  },
  {
   "cell_type": "code",
   "execution_count": 16,
   "metadata": {},
   "outputs": [],
   "source": [
    "import datetime\n",
    "from dateutil import tz\n",
    "# Dateutil is not a module from the standard library, though it is the one recommended by the standard library."
   ]
  },
  {
   "cell_type": "markdown",
   "metadata": {},
   "source": [
    "2. Create the first **datetime** for **Madrid**:"
   ]
  },
  {
   "cell_type": "code",
   "execution_count": 17,
   "metadata": {},
   "outputs": [],
   "source": [
    "d1 = datetime.datetime(1989, 4, 24, hour=11,\n",
    "                         tzinfo=tz.gettz(\"Europe/Madrid\"))"
   ]
  },
  {
   "cell_type": "markdown",
   "metadata": {},
   "source": [
    "3. Create the second **datetime** for **Los_Angeles**:"
   ]
  },
  {
   "cell_type": "code",
   "execution_count": 18,
   "metadata": {},
   "outputs": [],
   "source": [
    "d2 = datetime.datetime(1989, 4, 24, hour=8,\n",
    "                         tzinfo=tz.gettz(\"America/Los_Angeles\"))"
   ]
  },
  {
   "cell_type": "markdown",
   "metadata": {},
   "source": [
    "4. Now, compare them:"
   ]
  },
  {
   "cell_type": "code",
   "execution_count": 19,
   "metadata": {},
   "outputs": [
    {
     "name": "stdout",
     "output_type": "stream",
     "text": [
      "True\n"
     ]
    }
   ],
   "source": [
    "print(d1.hour > d2.hour)"
   ]
  },
  {
   "cell_type": "code",
   "execution_count": 20,
   "metadata": {},
   "outputs": [
    {
     "name": "stdout",
     "output_type": "stream",
     "text": [
      "False\n"
     ]
    }
   ],
   "source": [
    "print(d1 > d2)"
   ]
  },
  {
   "cell_type": "markdown",
   "metadata": {},
   "source": [
    "5. Now, convert the datetime object to a different time zone. You can convert a datetime from one time zone to another. You should do that to see what time the second datetime would show if it was in Madrid:"
   ]
  },
  {
   "cell_type": "code",
   "execution_count": 21,
   "metadata": {},
   "outputs": [
    {
     "name": "stdout",
     "output_type": "stream",
     "text": [
      "17\n"
     ]
    }
   ],
   "source": [
    "d2_madrid = d2.astimezone(tz.gettz(\"Europe/Madrid\"))\n",
    "print(d2_madrid.hour)"
   ]
  },
  {
   "cell_type": "markdown",
   "metadata": {},
   "source": [
    "## Exercise 88: Calculating the Time Delta between Two datetime Objects"
   ]
  },
  {
   "cell_type": "markdown",
   "metadata": {},
   "source": [
    "1. Import the **datetime** module:"
   ]
  },
  {
   "cell_type": "code",
   "execution_count": 22,
   "metadata": {},
   "outputs": [],
   "source": [
    "import datetime as dt"
   ]
  },
  {
   "cell_type": "markdown",
   "metadata": {},
   "source": [
    "2. Create two **datetime** objects. You now create two dates:"
   ]
  },
  {
   "cell_type": "code",
   "execution_count": 23,
   "metadata": {},
   "outputs": [],
   "source": [
    "d1 = dt.datetime(2019, 2, 25, 10, 50,\n",
    "                 tzinfo=dt.timezone.utc)\n",
    "d2 = dt.datetime(2019, 2, 26, 11, 20,\n",
    "                 tzinfo=dt.timezone.utc)"
   ]
  },
  {
   "cell_type": "markdown",
   "metadata": {},
   "source": [
    "3. Subtract **d1** from **d2**. You can subtract two **datetime** to get a time delta back or add a time delta to a **datetime**. Adding two **datetime** makes no sense, and the operation will, therefore, output an error with an exception. Hence, you subtract the two **datetime** to get the delta:"
   ]
  },
  {
   "cell_type": "code",
   "execution_count": 25,
   "metadata": {},
   "outputs": [
    {
     "ename": "SyntaxError",
     "evalue": "invalid character in identifier (<ipython-input-25-915216ad6909>, line 1)",
     "output_type": "error",
     "traceback": [
      "\u001b[1;36m  File \u001b[1;32m\"<ipython-input-25-915216ad6909>\"\u001b[1;36m, line \u001b[1;32m1\u001b[0m\n\u001b[1;33m    d2–d1\u001b[0m\n\u001b[1;37m        ^\u001b[0m\n\u001b[1;31mSyntaxError\u001b[0m\u001b[1;31m:\u001b[0m invalid character in identifier\n"
     ]
    }
   ],
   "source": [
    "d2–d1"
   ]
  },
  {
   "cell_type": "markdown",
   "metadata": {},
   "source": [
    "4. You can see that the delta between the two datetime is 1 day and 1,800 seconds, which can be translated to the total number of seconds by calling total_seconds in the time delta object that the subtraction returns:"
   ]
  },
  {
   "cell_type": "code",
   "execution_count": 26,
   "metadata": {},
   "outputs": [
    {
     "data": {
      "text/plain": [
       "88200.0"
      ]
     },
     "execution_count": 26,
     "metadata": {},
     "output_type": "execute_result"
    }
   ],
   "source": [
    "td = d2 - d1\n",
    "td.total_seconds()"
   ]
  },
  {
   "cell_type": "markdown",
   "metadata": {},
   "source": [
    "5. It happens quite often that you need to send datetime objects in formats such as JSON or others that do not support native datetimes. A common way to serialize datetime is by encoding them in a string using the ISO 8601 standard. This can be done by using isoformat, which will output a string, and parsing them with the fromisoformat method, which takes a datetime serialized to a string with isoformat and transforms it back to a datetime:"
   ]
  },
  {
   "cell_type": "code",
   "execution_count": 27,
   "metadata": {},
   "outputs": [
    {
     "data": {
      "text/plain": [
       "'2020-11-09T18:57:16.550318+00:00'"
      ]
     },
     "execution_count": 27,
     "metadata": {},
     "output_type": "execute_result"
    }
   ],
   "source": [
    "d1 = dt.datetime.now(dt.timezone.utc)\n",
    "d1.isoformat()"
   ]
  },
  {
   "cell_type": "code",
   "execution_count": 28,
   "metadata": {},
   "outputs": [
    {
     "ename": "NameError",
     "evalue": "name 'iso_date' is not defined",
     "output_type": "error",
     "traceback": [
      "\u001b[1;31m---------------------------------------------------------------------------\u001b[0m",
      "\u001b[1;31mNameError\u001b[0m                                 Traceback (most recent call last)",
      "\u001b[1;32m<ipython-input-28-61024b6e8a4b>\u001b[0m in \u001b[0;36m<module>\u001b[1;34m\u001b[0m\n\u001b[1;32m----> 1\u001b[1;33m \u001b[0md1_new\u001b[0m \u001b[1;33m=\u001b[0m \u001b[0mdt\u001b[0m\u001b[1;33m.\u001b[0m\u001b[0mdatetime\u001b[0m\u001b[1;33m.\u001b[0m\u001b[0mfromisoformat\u001b[0m\u001b[1;33m(\u001b[0m\u001b[0miso_date\u001b[0m\u001b[1;33m)\u001b[0m\u001b[1;33m\u001b[0m\u001b[1;33m\u001b[0m\u001b[0m\n\u001b[0m\u001b[0;32m      2\u001b[0m \u001b[0md1_new\u001b[0m\u001b[1;33m\u001b[0m\u001b[1;33m\u001b[0m\u001b[0m\n",
      "\u001b[1;31mNameError\u001b[0m: name 'iso_date' is not defined"
     ]
    }
   ],
   "source": [
    "d1_new = dt.datetime.fromisoformat(iso_date)\n",
    "d1_new"
   ]
  },
  {
   "cell_type": "markdown",
   "metadata": {},
   "source": [
    "## Exercise 89: Calculating the Unix Epoch Time"
   ]
  },
  {
   "cell_type": "markdown",
   "metadata": {},
   "source": [
    "1. Import the time and datetime modules and get them to the current namespace:"
   ]
  },
  {
   "cell_type": "code",
   "execution_count": 29,
   "metadata": {},
   "outputs": [],
   "source": [
    "import datetime as dt\n",
    "import time"
   ]
  },
  {
   "cell_type": "markdown",
   "metadata": {},
   "source": [
    "2. Get the current time. You use both datetime and time to do this:"
   ]
  },
  {
   "cell_type": "code",
   "execution_count": 30,
   "metadata": {},
   "outputs": [],
   "source": [
    "time_now = time.time()\n",
    "datetime_now = dt.datetime.now(dt.timezone.utc)"
   ]
  },
  {
   "cell_type": "markdown",
   "metadata": {},
   "source": [
    "3. You can now calculate the epoch by subtracting datetime and a time delta, which you get from the current time since you said that these are the number of seconds since the epoch:"
   ]
  },
  {
   "cell_type": "code",
   "execution_count": 31,
   "metadata": {},
   "outputs": [
    {
     "name": "stdout",
     "output_type": "stream",
     "text": [
      "1969-12-31 23:59:59.999999+00:00\n"
     ]
    }
   ],
   "source": [
    "epoch = datetime_now - dt.timedelta(seconds=time_now)\n",
    "print(epoch)"
   ]
  },
  {
   "cell_type": "code",
   "execution_count": 17,
   "metadata": {},
   "outputs": [
    {
     "data": {
      "text/plain": [
       "[datetime.date(2019, 1, 28),\n",
       " datetime.date(2019, 1, 29),\n",
       " datetime.date(2019, 1, 30),\n",
       " datetime.date(2019, 1, 31),\n",
       " datetime.date(2019, 2, 1),\n",
       " datetime.date(2019, 2, 2),\n",
       " datetime.date(2019, 2, 3),\n",
       " datetime.date(2019, 2, 4),\n",
       " datetime.date(2019, 2, 5),\n",
       " datetime.date(2019, 2, 6),\n",
       " datetime.date(2019, 2, 7),\n",
       " datetime.date(2019, 2, 8),\n",
       " datetime.date(2019, 2, 9),\n",
       " datetime.date(2019, 2, 10),\n",
       " datetime.date(2019, 2, 11),\n",
       " datetime.date(2019, 2, 12),\n",
       " datetime.date(2019, 2, 13),\n",
       " datetime.date(2019, 2, 14),\n",
       " datetime.date(2019, 2, 15),\n",
       " datetime.date(2019, 2, 16),\n",
       " datetime.date(2019, 2, 17),\n",
       " datetime.date(2019, 2, 18),\n",
       " datetime.date(2019, 2, 19),\n",
       " datetime.date(2019, 2, 20),\n",
       " datetime.date(2019, 2, 21),\n",
       " datetime.date(2019, 2, 22),\n",
       " datetime.date(2019, 2, 23),\n",
       " datetime.date(2019, 2, 24),\n",
       " datetime.date(2019, 2, 25),\n",
       " datetime.date(2019, 2, 26),\n",
       " datetime.date(2019, 2, 27),\n",
       " datetime.date(2019, 2, 28),\n",
       " datetime.date(2019, 3, 1),\n",
       " datetime.date(2019, 3, 2),\n",
       " datetime.date(2019, 3, 3)]"
      ]
     },
     "execution_count": 17,
     "metadata": {},
     "output_type": "execute_result"
    }
   ],
   "source": [
    "import calendar\n",
    "c = calendar.Calendar()\n",
    "list(c.itermonthdates(2019, 2))"
   ]
  },
  {
   "cell_type": "code",
   "execution_count": 33,
   "metadata": {},
   "outputs": [
    {
     "ename": "NameError",
     "evalue": "name 'c' is not defined",
     "output_type": "error",
     "traceback": [
      "\u001b[1;31m---------------------------------------------------------------------------\u001b[0m",
      "\u001b[1;31mNameError\u001b[0m                                 Traceback (most recent call last)",
      "\u001b[1;32m<ipython-input-33-c6a08538a204>\u001b[0m in \u001b[0;36m<module>\u001b[1;34m\u001b[0m\n\u001b[1;32m----> 1\u001b[1;33m list(d for d in c.itermonthdates(2019, 2)\n\u001b[0m\u001b[0;32m      2\u001b[0m         if d.month == 2)\n",
      "\u001b[1;31mNameError\u001b[0m: name 'c' is not defined"
     ]
    }
   ],
   "source": [
    "list(d for d in c.itermonthdates(2019, 2)\n",
    "        if d.month == 2)"
   ]
  },
  {
   "cell_type": "markdown",
   "metadata": {},
   "source": [
    "## Activity 15: Calculating the Time Elapsed to Run a Loop"
   ]
  },
  {
   "cell_type": "code",
   "execution_count": 34,
   "metadata": {},
   "outputs": [],
   "source": [
    "import random\n",
    "import time"
   ]
  },
  {
   "cell_type": "code",
   "execution_count": 35,
   "metadata": {},
   "outputs": [
    {
     "name": "stdout",
     "output_type": "stream",
     "text": [
      "0.05600380897521973\n"
     ]
    }
   ],
   "source": [
    "start = time.time()\n",
    "l = [random.randint(1, 999) for _ in range(10 * 3)]\n",
    "end = time.time()\n",
    "print(end - start)"
   ]
  },
  {
   "cell_type": "code",
   "execution_count": 29,
   "metadata": {},
   "outputs": [
    {
     "name": "stdout",
     "output_type": "stream",
     "text": [
      "1002000\n"
     ]
    }
   ],
   "source": [
    "start = time.time_ns()\n",
    "l = [random.randint(1, 999) for _ in range(10 * 3)]\n",
    "end = time.time_ns()\n",
    "print(end - start)"
   ]
  },
  {
   "cell_type": "markdown",
   "metadata": {},
   "source": [
    "## Interacting with the OS"
   ]
  },
  {
   "cell_type": "markdown",
   "metadata": {},
   "source": [
    "## Exercise 90: Inspecting the Current Process Information"
   ]
  },
  {
   "cell_type": "markdown",
   "metadata": {},
   "source": [
    "The goal of this exercise is to use the standard library to report information about the running process and the platform on your system:"
   ]
  },
  {
   "cell_type": "markdown",
   "metadata": {},
   "source": [
    "1. Import the **os, platform, and sys** modules:"
   ]
  },
  {
   "cell_type": "code",
   "execution_count": 36,
   "metadata": {},
   "outputs": [],
   "source": [
    "import platform\n",
    "import os\n",
    "import sys"
   ]
  },
  {
   "cell_type": "markdown",
   "metadata": {},
   "source": [
    "2. Get basic process information: To obtain information such as the **Process id**, **Parent id** you can use the **os** module:"
   ]
  },
  {
   "cell_type": "code",
   "execution_count": 37,
   "metadata": {},
   "outputs": [
    {
     "name": "stdout",
     "output_type": "stream",
     "text": [
      "Process id: 10480\n",
      "Parent process id: 8468\n"
     ]
    }
   ],
   "source": [
    "print(\"Process id:\", os.getpid())\n",
    "print(\"Parent process id:\", os.getppid())"
   ]
  },
  {
   "cell_type": "markdown",
   "metadata": {},
   "source": [
    "3. Now, get the **platform** and Python interpreter information:"
   ]
  },
  {
   "cell_type": "code",
   "execution_count": 38,
   "metadata": {},
   "outputs": [
    {
     "name": "stdout",
     "output_type": "stream",
     "text": [
      "Machine network name: DESKTOP-NIJ54KC\n",
      "Python version: 3.8.3\n",
      "System: Windows\n"
     ]
    }
   ],
   "source": [
    "print(\"Machine network name:\", platform.node())\n",
    "print(\"Python version:\", platform.python_version())\n",
    "print(\"System:\", platform.system())"
   ]
  },
  {
   "cell_type": "markdown",
   "metadata": {},
   "source": [
    "4. Get the Python path and the arguments passed to the interpreter:"
   ]
  },
  {
   "cell_type": "code",
   "execution_count": 39,
   "metadata": {},
   "outputs": [
    {
     "name": "stdout",
     "output_type": "stream",
     "text": [
      "Python module lookup path: ['C:\\\\Users\\\\YCHZSH\\\\Python', 'C:\\\\Users\\\\YCHZSH\\\\anaconda3\\\\python38.zip', 'C:\\\\Users\\\\YCHZSH\\\\anaconda3\\\\DLLs', 'C:\\\\Users\\\\YCHZSH\\\\anaconda3\\\\lib', 'C:\\\\Users\\\\YCHZSH\\\\anaconda3', '', 'C:\\\\Users\\\\YCHZSH\\\\anaconda3\\\\lib\\\\site-packages', 'C:\\\\Users\\\\YCHZSH\\\\anaconda3\\\\lib\\\\site-packages\\\\win32', 'C:\\\\Users\\\\YCHZSH\\\\anaconda3\\\\lib\\\\site-packages\\\\win32\\\\lib', 'C:\\\\Users\\\\YCHZSH\\\\anaconda3\\\\lib\\\\site-packages\\\\Pythonwin', 'C:\\\\Users\\\\YCHZSH\\\\anaconda3\\\\lib\\\\site-packages\\\\IPython\\\\extensions', 'C:\\\\Users\\\\YCHZSH\\\\.ipython']\n",
      "Command to run Python: ['C:\\\\Users\\\\YCHZSH\\\\anaconda3\\\\lib\\\\site-packages\\\\ipykernel_launcher.py', '-f', 'C:\\\\Users\\\\YCHZSH\\\\AppData\\\\Roaming\\\\jupyter\\\\runtime\\\\kernel-61f2f0ee-8cb5-4b2e-acbd-312aca632478.json']\n"
     ]
    }
   ],
   "source": [
    "print(\"Python module lookup path:\", sys.path)\n",
    "print(\"Command to run Python:\", sys.argv)"
   ]
  },
  {
   "cell_type": "markdown",
   "metadata": {},
   "source": [
    "5. Get the username through an environment variable"
   ]
  },
  {
   "cell_type": "code",
   "execution_count": 40,
   "metadata": {},
   "outputs": [
    {
     "name": "stdout",
     "output_type": "stream",
     "text": [
      "USERNAME environment variable: YCHZSH\n"
     ]
    }
   ],
   "source": [
    "print(\"USERNAME environment variable:\", os.environ[\"USERNAME\"])"
   ]
  },
  {
   "cell_type": "markdown",
   "metadata": {},
   "source": [
    "## Exercise 91: Using the glob Pattern to List Files within a Directory"
   ]
  },
  {
   "cell_type": "markdown",
   "metadata": {},
   "source": [
    "1. Create a path object for the current path:"
   ]
  },
  {
   "cell_type": "code",
   "execution_count": 41,
   "metadata": {},
   "outputs": [],
   "source": [
    "import pathlib\n",
    "p = pathlib.Path(\"F:\\Zeinab 2016- 2019\")"
   ]
  },
  {
   "cell_type": "markdown",
   "metadata": {},
   "source": [
    "2. Find all files in the directory with the txt extension. You can start by listing all files with the txt extension by using the following glob:"
   ]
  },
  {
   "cell_type": "code",
   "execution_count": 42,
   "metadata": {},
   "outputs": [
    {
     "name": "stdout",
     "output_type": "stream",
     "text": [
      "*.txt: [WindowsPath('F:/Zeinab 2016- 2019/tel.txt')]\n"
     ]
    }
   ],
   "source": [
    "txt_files = p.glob(\"*.txt\")\n",
    "print(\"*.txt:\", list(txt_files))"
   ]
  },
  {
   "cell_type": "markdown",
   "metadata": {},
   "source": [
    "List all files one level deep that are within the subdirectory. If you wanted to list all files one level deep within a subdirectory only, you could use the following glob pattern:"
   ]
  },
  {
   "cell_type": "code",
   "execution_count": 43,
   "metadata": {},
   "outputs": [
    {
     "name": "stdout",
     "output_type": "stream",
     "text": [
      "**/*.txt: [WindowsPath('F:/Zeinab 2016- 2019/tel.txt'), WindowsPath('F:/Zeinab 2016- 2019/Amoozesho Parvaresh/1-AP-Majmoe{@Yenipc2}/نمونه سوالات آموزش وپروش.txt'), WindowsPath('F:/Zeinab 2016- 2019/Elearning Courses/links.txt'), WindowsPath('F:/Zeinab 2016- 2019/Elearning Courses/AI Course/Learn to Program_The_Fundamentals/_9b843cf8f88dfd5332f16e78be773ba4_lists_transcript.txt'), WindowsPath('F:/Zeinab 2016- 2019/Elearning Courses/Python for Data Science_Udemy/Section 4/P4-BasketBall-Dataset.txt'), WindowsPath('F:/Zeinab 2016- 2019/Elearning Courses/SW/JetBrains.PyCharm.2019.3.4/JetBrains.PyCharm.2019.3.4/Crack/Offline/ACTIVATION_CODE.txt'), WindowsPath('F:/Zeinab 2016- 2019/Elearning Courses/SW/JetBrains.PyCharm.2019.3.4/JetBrains.PyCharm.2019.3.4/Crack/Offline/readme.txt'), WindowsPath('F:/Zeinab 2016- 2019/Elearning Courses/SW/JetBrains.PyCharm.2019.3.4/JetBrains.PyCharm.2019.3.4/Crack/Online/Readme.txt'), WindowsPath('F:/Zeinab 2016- 2019/Elearning Courses/SW/Navicat_Premium_15.0.17_x64_Downloadly.ir/Navicat Premium 15.0.17 x64/Crack/Readme.txt'), WindowsPath('F:/Zeinab 2016- 2019/Elearning Courses/SW/xampp/perl/vendor/lib/auto/share/dist/File-ShareDir/sample.txt'), WindowsPath('F:/Zeinab 2016- 2019/Elearning Courses/SW/xampp/perl/vendor/lib/auto/share/dist/File-ShareDir/subdir/sample.txt'), WindowsPath('F:/Zeinab 2016- 2019/Elearning Courses/SW/xampp/perl/vendor/lib/auto/share/module/File-ShareDir/test_file.txt'), WindowsPath('F:/Zeinab 2016- 2019/Elearning Courses/SW/xampp/phpMyAdmin/libraries/advisory_rules_generic.txt'), WindowsPath('F:/Zeinab 2016- 2019/Elearning Courses/SW/xampp/phpMyAdmin/libraries/advisory_rules_mysql_before80003.txt'), WindowsPath('F:/Zeinab 2016- 2019/Elearning Courses/SW/xampp/phpMyAdmin/vendor/paragonie/constant_time_encoding/LICENSE.txt'), WindowsPath('F:/Zeinab 2016- 2019/Elearning Courses/SW/xampp/phpMyAdmin/vendor/phpmyadmin/sql-parser/LICENSE.txt'), WindowsPath('F:/Zeinab 2016- 2019/Elearning Courses/SW/xampp/phpMyAdmin/vendor/psr/cache/LICENSE.txt'), WindowsPath('F:/Zeinab 2016- 2019/Elearning Courses/SW/xampp/phpMyAdmin/vendor/tecnickcom/tcpdf/CHANGELOG.TXT'), WindowsPath('F:/Zeinab 2016- 2019/Elearning Courses/SW/xampp/phpMyAdmin/vendor/tecnickcom/tcpdf/LICENSE.TXT'), WindowsPath('F:/Zeinab 2016- 2019/Elearning Courses/SW/xampp/sendmail/ChangeLog.txt'), WindowsPath('F:/Zeinab 2016- 2019/Elearning Courses/SW/xampp/sendmail/license.txt'), WindowsPath('F:/Zeinab 2016- 2019/Elearning Courses/SW/xampp/sendmail/OpenSSL License.txt'), WindowsPath('F:/Zeinab 2016- 2019/Net/SW/Microsoft.SQL.Server.2005.Enterprise_p30download.com/Servers/license.txt'), WindowsPath('F:/Zeinab 2016- 2019/Net/SW/Microsoft.SQL.Server.2005.Enterprise_p30download.com/Tools/license.txt')]\n"
     ]
    }
   ],
   "source": [
    "print(\"**/*.txt:\", list(p.glob(\"**/*.txt\")))"
   ]
  },
  {
   "cell_type": "markdown",
   "metadata": {},
   "source": [
    "This will list both files within folder_1 and the folder \"folder_2/folder_3, which is also a path. If you wanted to get only files, you could filter each of the paths by checking the is_file method, as mentioned previously:"
   ]
  },
  {
   "cell_type": "code",
   "execution_count": 44,
   "metadata": {},
   "outputs": [
    {
     "name": "stdout",
     "output_type": "stream",
     "text": [
      "Files in */*: [WindowsPath('F:/Zeinab 2016- 2019/Amoozesho Parvaresh/eteducationalfiles_EToolsFile_9a10f155-78a7-4842-a2cf-69230f1607b7network1.pdf'), WindowsPath('F:/Zeinab 2016- 2019/Amoozesho Parvaresh/faragir-2-esfand-94_www.shenasname.ir_.pdf'), WindowsPath('F:/Zeinab 2016- 2019/Amoozesho Parvaresh/soalat-azmoon1.pdf'), WindowsPath('F:/Zeinab 2016- 2019/Amoozesho Parvaresh/آدرس مناطقه شهر تهران.png'), WindowsPath('F:/Zeinab 2016- 2019/Application/Application.docx'), WindowsPath('F:/Zeinab 2016- 2019/Application/letter.docx'), WindowsPath('F:/Zeinab 2016- 2019/Book/9780735626690.pdf'), WindowsPath('F:/Zeinab 2016- 2019/Book/Android App Development for Dummies (3rd ed.) [Burton 2015-03-09].pdf'), WindowsPath('F:/Zeinab 2016- 2019/Book/C All-in-One Desk Reference For Dummies ( PDFDrive ).pdf'), WindowsPath('F:/Zeinab 2016- 2019/Book/C.pdf'), WindowsPath('F:/Zeinab 2016- 2019/Book/C.Sharp.Learn_p30download.com.pdf'), WindowsPath('F:/Zeinab 2016- 2019/Book/C.Sharp.Learn_p30download.com.zip'), WindowsPath('F:/Zeinab 2016- 2019/Book/Cooking Basics For Dummies (For Dummies (Cooking)) ( PDFDrive ).pdf'), WindowsPath('F:/Zeinab 2016- 2019/Book/excel-2013-core-pt-1.pdf'), WindowsPath('F:/Zeinab 2016- 2019/Book/Laptops All-in-One Desk Reference For Dummies (For Dummies (Computer Tech)) ( PDFDrive ).pdf'), WindowsPath('F:/Zeinab 2016- 2019/Book/Linux All In One For Dummies ( PDFDrive ).pdf'), WindowsPath('F:/Zeinab 2016- 2019/Book/Managing Your Money All-In-One For Dummies (For Dummies (Lifestyles Paperback)) ( PDFDrive ).pdf'), WindowsPath('F:/Zeinab 2016- 2019/Book/Office 2019 All-in-One For Dummies ( PDFDrive ).pdf'), WindowsPath('F:/Zeinab 2016- 2019/Book/Simple_CSharp_Ebrahimi farsi  (Www.SourceBaran.Com).pdf'), WindowsPath('F:/Zeinab 2016- 2019/Book/Simple_CSharp_Ebrahimi farsi  (Www.SourceBaran.Com).rar'), WindowsPath('F:/Zeinab 2016- 2019/Book/The Internet for Dummies.pdf'), WindowsPath('F:/Zeinab 2016- 2019/Book/Visual Basic For Dummies.pdf'), WindowsPath('F:/Zeinab 2016- 2019/Computer Journal/2018-09-26_Computeractive.pdf'), WindowsPath('F:/Zeinab 2016- 2019/Computer Journal/Maximum_PC-August_2018.pdf'), WindowsPath('F:/Zeinab 2016- 2019/Computer Journal/WebUser-11.July.2018.pdf'), WindowsPath('F:/Zeinab 2016- 2019/Computer Journal/Webuser_448_2_May_2018.pdf'), WindowsPath('F:/Zeinab 2016- 2019/dakhl_kharj/Film_Help1.rar'), WindowsPath('F:/Zeinab 2016- 2019/dakhl_kharj/Help2.rar'), WindowsPath('F:/Zeinab 2016- 2019/dakhl_kharj/Home_Hesab 97.xlsm'), WindowsPath('F:/Zeinab 2016- 2019/Danesh Bonyan/002.jpg'), WindowsPath('F:/Zeinab 2016- 2019/Danesh Bonyan/512811_XL1JNR4.pdf'), WindowsPath('F:/Zeinab 2016- 2019/Danesh Bonyan/514211_CCI0TWF.pdf'), WindowsPath('F:/Zeinab 2016- 2019/Danesh Bonyan/Computer10_DaneshFani.pdf'), WindowsPath('F:/Zeinab 2016- 2019/Danesh Bonyan/Computer10_Nasb.pdf'), WindowsPath('F:/Zeinab 2016- 2019/Danesh Bonyan/Computer3_barnamesazi.pdf'), WindowsPath('F:/Zeinab 2016- 2019/Danesh Bonyan/Computer3_Basteha1.pdf'), WindowsPath('F:/Zeinab 2016- 2019/Danesh Bonyan/Computer3_Basteha2.pdf'), WindowsPath('F:/Zeinab 2016- 2019/Danesh Bonyan/Computer3_Zaban.pdf'), WindowsPath('F:/Zeinab 2016- 2019/Danesh Bonyan/Craig Grannell, Victor Sumner, Dionysios Synodinos (auth.)-The Essential Guide to HTML5 and CSS3 Web Design-Apress (2012).pdf'), WindowsPath('F:/Zeinab 2016- 2019/Danesh Bonyan/db-depth.pdf'), WindowsPath('F:/Zeinab 2016- 2019/Danesh Bonyan/php-7.1.9.tar.bz2'), WindowsPath('F:/Zeinab 2016- 2019/Danesh Bonyan/PHP-Mohammad-Bashiri.pdf'), WindowsPath('F:/Zeinab 2016- 2019/Danesh Bonyan/آزمون_استخدام_شرکتهای_خصوصی_و_دانش_بنیان.pdf'), WindowsPath('F:/Zeinab 2016- 2019/Document/.NET Course.pdf'), WindowsPath('F:/Zeinab 2016- 2019/Document/Application Letter 07 (Job).docx'), WindowsPath('F:/Zeinab 2016- 2019/Document/Application Letter 07 (Job).pdf'), WindowsPath('F:/Zeinab 2016- 2019/Document/Bachelore Translate P.jpg'), WindowsPath('F:/Zeinab 2016- 2019/Document/Bachelore Translate R.jpg'), WindowsPath('F:/Zeinab 2016- 2019/Document/Bachelore-Translate-R-kam.jpg'), WindowsPath('F:/Zeinab 2016- 2019/Document/Bachlore Degree.pdf'), WindowsPath('F:/Zeinab 2016- 2019/Document/Bachlore Degree_BT.jpg'), WindowsPath('F:/Zeinab 2016- 2019/Document/Bachlore Degree_FT.jpg'), WindowsPath('F:/Zeinab 2016- 2019/Document/Bachlore-Degree_FT2.jpg'), WindowsPath('F:/Zeinab 2016- 2019/Document/Carte-Meli---Kam.jpg'), WindowsPath('F:/Zeinab 2016- 2019/Document/Cover Letter 03.pdf'), WindowsPath('F:/Zeinab 2016- 2019/Document/Cover letter 06.docx'), WindowsPath('F:/Zeinab 2016- 2019/Document/Cover letter 06.edited.docx'), WindowsPath('F:/Zeinab 2016- 2019/Document/Cover letter 06.pdf'), WindowsPath('F:/Zeinab 2016- 2019/Document/Cover letter 07.docx'), WindowsPath('F:/Zeinab 2016- 2019/Document/Cover letter 07.pdf'), WindowsPath('F:/Zeinab 2016- 2019/Document/Cover Letter 10.docx'), WindowsPath('F:/Zeinab 2016- 2019/Document/Cover Letter 10.pdf'), WindowsPath('F:/Zeinab 2016- 2019/Document/Cover Letter 12.docx'), WindowsPath('F:/Zeinab 2016- 2019/Document/Cover Letter 12.pdf'), WindowsPath('F:/Zeinab 2016- 2019/Document/Curriculum Vitae.docx'), WindowsPath('F:/Zeinab 2016- 2019/Document/Curriculum Vitae.pdf'), WindowsPath('F:/Zeinab 2016- 2019/Document/Curriculum Vitae2.pdf'), WindowsPath('F:/Zeinab 2016- 2019/Document/CV Eng + Children.docx'), WindowsPath('F:/Zeinab 2016- 2019/Document/CV Eng + Children.pdf'), WindowsPath('F:/Zeinab 2016- 2019/Document/CV Eng.pdf'), WindowsPath('F:/Zeinab 2016- 2019/Document/CV Eng1.pdf'), WindowsPath('F:/Zeinab 2016- 2019/Document/CV Engnew.pdf'), WindowsPath('F:/Zeinab 2016- 2019/Document/CV.docx'), WindowsPath('F:/Zeinab 2016- 2019/Document/CV_En 2020.docx'), WindowsPath('F:/Zeinab 2016- 2019/Document/CV_En 2020.pdf'), WindowsPath('F:/Zeinab 2016- 2019/Document/Degree Certificate (MSC and BCA).pdf'), WindowsPath('F:/Zeinab 2016- 2019/Document/documents.pdf'), WindowsPath('F:/Zeinab 2016- 2019/Document/Documents_Research Data Mnagement.pdf'), WindowsPath('F:/Zeinab 2016- 2019/Document/form.pdf'), WindowsPath('F:/Zeinab 2016- 2019/Document/Full Degree Documents.pdf'), WindowsPath('F:/Zeinab 2016- 2019/Document/Full Marksheet MSc 1.pdf'), WindowsPath('F:/Zeinab 2016- 2019/Document/Full Marksheet MSc.pdf'), WindowsPath('F:/Zeinab 2016- 2019/Document/Full Marksheet MSc2.pdf'), WindowsPath('F:/Zeinab 2016- 2019/Document/Full page photo.pdf'), WindowsPath('F:/Zeinab 2016- 2019/Document/Full page photo2.pdf'), WindowsPath('F:/Zeinab 2016- 2019/Document/IMG (2).jpg'), WindowsPath('F:/Zeinab 2016- 2019/Document/IMG (4).jpg'), WindowsPath('F:/Zeinab 2016- 2019/Document/IMG (7).jpg'), WindowsPath('F:/Zeinab 2016- 2019/Document/IMG-(2).jpg'), WindowsPath('F:/Zeinab 2016- 2019/Document/IMG_0001 (2).jpg'), WindowsPath('F:/Zeinab 2016- 2019/Document/IMG_0002 (2).jpg'), WindowsPath('F:/Zeinab 2016- 2019/Document/IMG_0007.jpg'), WindowsPath('F:/Zeinab 2016- 2019/Document/IMG_0008.jpg'), WindowsPath('F:/Zeinab 2016- 2019/Document/IMG_00102.jpg'), WindowsPath('F:/Zeinab 2016- 2019/Document/IMG_00102kam.jpg'), WindowsPath('F:/Zeinab 2016- 2019/Document/JobVision MBTI_Zeinab Shayanrad_13970906 220923.pdf'), WindowsPath('F:/Zeinab 2016- 2019/Document/Letter of Apllication 14.docx'), WindowsPath('F:/Zeinab 2016- 2019/Document/Letter of Apllication 14.pdf'), WindowsPath('F:/Zeinab 2016- 2019/Document/Letter of Apllication 15.docx'), WindowsPath('F:/Zeinab 2016- 2019/Document/Letter of Apllication 15.pdf'), WindowsPath('F:/Zeinab 2016- 2019/Document/Letter of Apllication 16.docx'), WindowsPath('F:/Zeinab 2016- 2019/Document/Letter of Apllication 16.pdf'), WindowsPath('F:/Zeinab 2016- 2019/Document/Letter of Apllication 17.docx'), WindowsPath('F:/Zeinab 2016- 2019/Document/Letter of Apllication 17.pdf'), WindowsPath('F:/Zeinab 2016- 2019/Document/letter of interest 13.docx'), WindowsPath('F:/Zeinab 2016- 2019/Document/letter of interest 13.pdf'), WindowsPath('F:/Zeinab 2016- 2019/Document/letter.docx'), WindowsPath('F:/Zeinab 2016- 2019/Document/Machine Learning course.jpg'), WindowsPath('F:/Zeinab 2016- 2019/Document/Machine Learning Course.pdf'), WindowsPath('F:/Zeinab 2016- 2019/Document/Master Degree + Transcript.pdf'), WindowsPath('F:/Zeinab 2016- 2019/Document/Master Degree.pdf'), WindowsPath('F:/Zeinab 2016- 2019/Document/Master Translate P.jpg'), WindowsPath('F:/Zeinab 2016- 2019/Document/Master Translate R.jpg'), WindowsPath('F:/Zeinab 2016- 2019/Document/Master-Translate-R--kam.jpg'), WindowsPath('F:/Zeinab 2016- 2019/Document/Motivation Letter 01.docx'), WindowsPath('F:/Zeinab 2016- 2019/Document/Motivation Letter 01.pdf'), WindowsPath('F:/Zeinab 2016- 2019/Document/Motivation Letter 02.docx'), WindowsPath('F:/Zeinab 2016- 2019/Document/Motivation Letter 03.docx'), WindowsPath('F:/Zeinab 2016- 2019/Document/Motivation Letter 04.docx'), WindowsPath('F:/Zeinab 2016- 2019/Document/Motivation Letter 04.pdf'), WindowsPath('F:/Zeinab 2016- 2019/Document/Motivation Letter 05.docx'), WindowsPath('F:/Zeinab 2016- 2019/Document/Motivation Letter 05.pdf'), WindowsPath('F:/Zeinab 2016- 2019/Document/Motivation Letter 08.docx'), WindowsPath('F:/Zeinab 2016- 2019/Document/Motivation Letter 08.pdf'), WindowsPath('F:/Zeinab 2016- 2019/Document/Motivation Letter 11.docx'), WindowsPath('F:/Zeinab 2016- 2019/Document/Motivation Letter 11.pdf'), WindowsPath('F:/Zeinab 2016- 2019/Document/Motivation Letter 18.docx'), WindowsPath('F:/Zeinab 2016- 2019/Document/Motivation Letter 18.pdf'), WindowsPath('F:/Zeinab 2016- 2019/Document/Motivation Letter 19.docx'), WindowsPath('F:/Zeinab 2016- 2019/Document/Motivation Letter 19.pdf'), WindowsPath('F:/Zeinab 2016- 2019/Document/Motivation Letter 20.docx'), WindowsPath('F:/Zeinab 2016- 2019/Document/Motivation Letter 20.pdf'), WindowsPath('F:/Zeinab 2016- 2019/Document/Motivation Letter 21.docx'), WindowsPath('F:/Zeinab 2016- 2019/Document/Motivation Letter 21.pdf'), WindowsPath('F:/Zeinab 2016- 2019/Document/Motivation Letter 22.docx'), WindowsPath('F:/Zeinab 2016- 2019/Document/Motivation Letter 22.pdf'), WindowsPath('F:/Zeinab 2016- 2019/Document/MSc Abstract.doc'), WindowsPath('F:/Zeinab 2016- 2019/Document/MSc Abstract.edited.doc'), WindowsPath('F:/Zeinab 2016- 2019/Document/MSc Abstract.pdf'), WindowsPath('F:/Zeinab 2016- 2019/Document/MSc Marksheet - MSc thesis Abstract - References.pdf'), WindowsPath('F:/Zeinab 2016- 2019/Document/Mster Degree Confirm_B.jpg'), WindowsPath('F:/Zeinab 2016- 2019/Document/Mster Degree Confirm_F.jpg'), WindowsPath('F:/Zeinab 2016- 2019/Document/Mster-Degree-Confirm_F.jpg'), WindowsPath('F:/Zeinab 2016- 2019/Document/My Passport.pdf'), WindowsPath('F:/Zeinab 2016- 2019/Document/New Passport.jpg'), WindowsPath('F:/Zeinab 2016- 2019/Document/Recommendation Letter.pdf'), WindowsPath('F:/Zeinab 2016- 2019/Document/Recommendation Letters.pdf'), WindowsPath('F:/Zeinab 2016- 2019/Document/REFERENCES.docx'), WindowsPath('F:/Zeinab 2016- 2019/Document/REFERENCES.pdf'), WindowsPath('F:/Zeinab 2016- 2019/Document/REFERENCES2.pdf'), WindowsPath('F:/Zeinab 2016- 2019/Document/Resume - ZSh (2).doc'), WindowsPath('F:/Zeinab 2016- 2019/Document/Resume - ZSh - 99.doc'), WindowsPath('F:/Zeinab 2016- 2019/Document/Resume - ZSh - 99.pdf'), WindowsPath('F:/Zeinab 2016- 2019/Document/Resume - ZSh 98.pdf'), WindowsPath('F:/Zeinab 2016- 2019/Document/Resume - ZSh.doc'), WindowsPath('F:/Zeinab 2016- 2019/Document/Resume - ZSh.pdf'), WindowsPath('F:/Zeinab 2016- 2019/Document/Resume - ZSh01.pdf'), WindowsPath('F:/Zeinab 2016- 2019/Document/Resume - ZSh2.pdf'), WindowsPath('F:/Zeinab 2016- 2019/Document/Resume - ZSh3.pdf'), WindowsPath('F:/Zeinab 2016- 2019/Document/Resume - ZSh_1.pdf'), WindowsPath('F:/Zeinab 2016- 2019/Document/Resume - ZSh_2.doc'), WindowsPath('F:/Zeinab 2016- 2019/Document/Resume - ZSh_2.pdf'), WindowsPath('F:/Zeinab 2016- 2019/Document/Resume - ZSh_2_2.pdf'), WindowsPath('F:/Zeinab 2016- 2019/Document/statement of research interests 09.docx'), WindowsPath('F:/Zeinab 2016- 2019/Document/statement of research interests 09.pdf'), WindowsPath('F:/Zeinab 2016- 2019/Document/Zeinab 01.pdf'), WindowsPath('F:/Zeinab 2016- 2019/Document/Zeinab 02.pdf'), WindowsPath('F:/Zeinab 2016- 2019/Document/~$sume - ZSh - 99.doc'), WindowsPath('F:/Zeinab 2016- 2019/Document/~$tivation Letter 11.docx'), WindowsPath('F:/Zeinab 2016- 2019/Document/~$tter of Apllication 17.docx'), WindowsPath('F:/Zeinab 2016- 2019/Document/~$tter of Apllication 18.docx'), WindowsPath('F:/Zeinab 2016- 2019/Document/~WRL0373.tmp'), WindowsPath('F:/Zeinab 2016- 2019/Document/~WRL1195.tmp'), WindowsPath('F:/Zeinab 2016- 2019/Document/باسمه تعالی.docx'), WindowsPath('F:/Zeinab 2016- 2019/Elearning Courses/6a5667c369c498cbfab23960624c0c4c6190423-720p.mp4'), WindowsPath('F:/Zeinab 2016- 2019/Elearning Courses/Basic HTML and HTML5.docx'), WindowsPath('F:/Zeinab 2016- 2019/Elearning Courses/fg764p.exe'), WindowsPath('F:/Zeinab 2016- 2019/Elearning Courses/links.txt'), WindowsPath('F:/Zeinab 2016- 2019/Elearning Courses/Lynda Installing Apache MySQL and PHP_git.ir.rar'), WindowsPath('F:/Zeinab 2016- 2019/Elearning Courses/Packtpub Learn Database Design with MySQL [Video]_git.ir.rar'), WindowsPath('F:/Zeinab 2016- 2019/Elearning Courses/PHP MySQL Tutorial.mp4'), WindowsPath('F:/Zeinab 2016- 2019/Elearning Courses/Python Tutorial For Beginners - Python Full Course From Scratch - Python Programming - Edureka.mp4'), WindowsPath('F:/Zeinab 2016- 2019/Elearning Courses/Statistics And Probability Tutorial - Statistics And Probability for Data Science - Edureka.mp4'), WindowsPath('F:/Zeinab 2016- 2019/Elearning Courses/Udemy Create a Dynamic User Registration Form from scratch_git.ir.rar'), WindowsPath('F:/Zeinab 2016- 2019/Elearning Courses/Udemy Login and Registration System in PHP and MYSQL step by step_git.ir.rar'), WindowsPath('F:/Zeinab 2016- 2019/Elearning Courses/[www.VDyoutube.com]-Python Full Course - Learn Python in 12 Hours - Python Tutorial For Beginners - Edureka.mp4'), WindowsPath('F:/Zeinab 2016- 2019/Elmi Karbordi/37-darse sanjesh.pdf'), WindowsPath('F:/Zeinab 2016- 2019/Elmi Karbordi/498-1.pdf'), WindowsPath('F:/Zeinab 2016- 2019/Elmi Karbordi/94-95-2_SoPa_1211007.pdf'), WindowsPath('F:/Zeinab 2016- 2019/Elmi Karbordi/95-96-1_SoalJTest_1211007.pdf'), WindowsPath('F:/Zeinab 2016- 2019/Elmi Karbordi/خلاصه روش ها و فنون تدریس .docx'), WindowsPath('F:/Zeinab 2016- 2019/Elmi Karbordi/خلاصه روش ها و فنون تدریس .pdf'), WindowsPath('F:/Zeinab 2016- 2019/English Note/Vocabulary.docx'), WindowsPath('F:/Zeinab 2016- 2019/Foods/Pancake.PNG'), WindowsPath('F:/Zeinab 2016- 2019/Hossein/جنگ نرم.docx'), WindowsPath('F:/Zeinab 2016- 2019/Hossein/جنگ نرم.pdf'), WindowsPath('F:/Zeinab 2016- 2019/Hossein/عنوان تحقیق.docx'), WindowsPath('F:/Zeinab 2016- 2019/Hossein/عنوان تحقیق.pdf'), WindowsPath('F:/Zeinab 2016- 2019/Hossein/گام ملایم.docx'), WindowsPath('F:/Zeinab 2016- 2019/IELTS Course/Academic_Word_List.pdf'), WindowsPath('F:/Zeinab 2016- 2019/IELTS Course/Academic_Word_List_-_Sublist_1.pdf'), WindowsPath('F:/Zeinab 2016- 2019/IELTS Course/Academic_Word_List_-_Sublist_2.pdf'), WindowsPath('F:/Zeinab 2016- 2019/IELTS Course/Academic_Word_List_-_Sublist_3.pdf'), WindowsPath('F:/Zeinab 2016- 2019/IELTS Course/asset-v1-UQx+IELTSx+2T2017+type@asset+block@IELTSx_-_Syllabus_v4.pdf'), WindowsPath('F:/Zeinab 2016- 2019/IELTS Course/asset-v1_UQx+IELTSx+2T2017+type@asset+block@FAQs_v5.pdf'), WindowsPath('F:/Zeinab 2016- 2019/JD Sharif/fwdvpnjahad.zip'), WindowsPath('F:/Zeinab 2016- 2019/JD Sharif/information security -4.0-980927.docx'), WindowsPath('F:/Zeinab 2016- 2019/JD Sharif/information security -4.0-980927.pdf'), WindowsPath('F:/Zeinab 2016- 2019/JD Sharif/Proposal 01.pdf'), WindowsPath('F:/Zeinab 2016- 2019/JD Sharif/Proposal 02.pdf'), WindowsPath('F:/Zeinab 2016- 2019/JD Sharif/Proposal 03.pdf'), WindowsPath('F:/Zeinab 2016- 2019/JD Sharif/Proposal 04.pdf'), WindowsPath('F:/Zeinab 2016- 2019/JD Sharif/Proposal 05.pdf'), WindowsPath('F:/Zeinab 2016- 2019/JD Sharif/Proposal 06.pdf'), WindowsPath('F:/Zeinab 2016- 2019/JD Sharif/Proposal 07.pdf'), WindowsPath('F:/Zeinab 2016- 2019/JD Sharif/Proposal 08.pdf'), WindowsPath('F:/Zeinab 2016- 2019/JD Sharif/Proposal 09.pdf'), WindowsPath('F:/Zeinab 2016- 2019/JD Sharif/Proposal 10.pdf'), WindowsPath('F:/Zeinab 2016- 2019/JD Sharif/Proposal 11.pdf'), WindowsPath('F:/Zeinab 2016- 2019/JD Sharif/vpn Connection.pbk'), WindowsPath('F:/Zeinab 2016- 2019/Karodanesh Books/C310183.pdf'), WindowsPath('F:/Zeinab 2016- 2019/Karodanesh Books/C310183_2.pdf'), WindowsPath('F:/Zeinab 2016- 2019/Karodanesh Books/C310188.pdf'), WindowsPath('F:/Zeinab 2016- 2019/Karodanesh Books/C610-4.pdf'), WindowsPath('F:/Zeinab 2016- 2019/Karodanesh Books/C611-7.pdf'), WindowsPath('F:/Zeinab 2016- 2019/Karodanesh Books/C611-7_2.pdf'), WindowsPath('F:/Zeinab 2016- 2019/Karodanesh Books/C612-19.pdf'), WindowsPath('F:/Zeinab 2016- 2019/Karodanesh Books/C612-2.pdf'), WindowsPath('F:/Zeinab 2016- 2019/Leila/photo_2018-01-15_10-58-35.jpg'), WindowsPath('F:/Zeinab 2016- 2019/Leila/photo_2018-01-18_18-38-48.jpg'), WindowsPath('F:/Zeinab 2016- 2019/Leila/فصل 2.docx'), WindowsPath('F:/Zeinab 2016- 2019/Leila/فصل 4.docx'), WindowsPath('F:/Zeinab 2016- 2019/Leila/نمودار.docx'), WindowsPath('F:/Zeinab 2016- 2019/Machine Learning/8-easy-steps-to-become-a-data-scientist.jpg'), WindowsPath('F:/Zeinab 2016- 2019/Machine Learning/imm6814.pdf'), WindowsPath('F:/Zeinab 2016- 2019/Machine Learning/lecture-5-python.pdf'), WindowsPath('F:/Zeinab 2016- 2019/Machine Learning/Machine learning as a technology helps analyze large chunks of data.docx'), WindowsPath('F:/Zeinab 2016- 2019/Machine Learning/ML-advice.pdf'), WindowsPath('F:/Zeinab 2016- 2019/Machine Learning/photo_2018-08-27_11-30-46.jpg'), WindowsPath('F:/Zeinab 2016- 2019/Machine Learning/Programmers regard Python as a clear and simple language with a high readability.docx'), WindowsPath('F:/Zeinab 2016- 2019/Machine Learning/Python Workshop-Kochi-May2-3 2016.pdf'), WindowsPath('F:/Zeinab 2016- 2019/Machine Learning/Rahnamaye Negaresh.rar'), WindowsPath('F:/Zeinab 2016- 2019/Machine Learning/SQL For Dummies, 8th Edition.pdf'), WindowsPath('F:/Zeinab 2016- 2019/Machine Learning/Teach Yourself Programming in Ten Years.pdf'), WindowsPath('F:/Zeinab 2016- 2019/Machine Learning/مرکز تحقیقات امنیت سایبری.pdf'), WindowsPath('F:/Zeinab 2016- 2019/Machine Learning/نمایش فرم ارسالی.pdf'), WindowsPath('F:/Zeinab 2016- 2019/Net/9781509301157.pdf'), WindowsPath('F:/Zeinab 2016- 2019/Net/Programming in C# and Algorithesm.docx'), WindowsPath('F:/Zeinab 2016- 2019/Net/Tips of C# programming.docx'), WindowsPath('F:/Zeinab 2016- 2019/Net/toc.pdf'), WindowsPath('F:/Zeinab 2016- 2019/New Folder/help_tadris_jameh.pdf'), WindowsPath('F:/Zeinab 2016- 2019/New Folder/Print Form2.pdf'), WindowsPath('F:/Zeinab 2016- 2019/New Folder/Vanessa.docx'), WindowsPath('F:/Zeinab 2016- 2019/New Folder/Vanessa.pdf'), WindowsPath('F:/Zeinab 2016- 2019/New Folder/wwww.sanjesh.org.pdf'), WindowsPath('F:/Zeinab 2016- 2019/New Folder/سامانه خرید اینترنتی کارت اعتباری سازمان سنجش آموزش کشور2.pdf'), WindowsPath('F:/Zeinab 2016- 2019/PHD/291-d.pdf'), WindowsPath('F:/Zeinab 2016- 2019/PHD/DS-nasir-moghadem-www.filmoketab.ir.rar'), WindowsPath('F:/Zeinab 2016- 2019/PHD/PHD 1397.pdf'), WindowsPath('F:/Zeinab 2016- 2019/Site/avc_Starbucks green tea latte - Matcha latte (easy) Sub.mp4'), WindowsPath('F:/Zeinab 2016- 2019/Site/avc_Starbucks green tea latte - Matcha latte (easy) Sub_(new).mp4'), WindowsPath('F:/Zeinab 2016- 2019/Site/Doc1.docx'), WindowsPath('F:/Zeinab 2016- 2019/Site/Healthy habits don.docx'), WindowsPath('F:/Zeinab 2016- 2019/Site/Healthy habits don.pdf'), WindowsPath('F:/Zeinab 2016- 2019/Site/Matcha-White-Hot-Chocolate.jpg'), WindowsPath('F:/Zeinab 2016- 2019/Site/matchano-logo.png'), WindowsPath('F:/Zeinab 2016- 2019/Site/Starbucks green tea latte - Matcha latte (easy) Sub.mkv'), WindowsPath('F:/Zeinab 2016- 2019/Site/Starbucks green tea latte - Matcha latte (easy).mp4'), WindowsPath('F:/Zeinab 2016- 2019/Site/Starbucks green tea latte - Matcha latte (easy).srt'), WindowsPath('F:/Zeinab 2016- 2019/Site/Starbucks_green_tea_latte_Matcha_latte_easy_.3gp'), WindowsPath('F:/Zeinab 2016- 2019/Site/داغ.jpg'), WindowsPath('F:/Zeinab 2016- 2019/Sticker/001.jpg'), WindowsPath('F:/Zeinab 2016- 2019/Sticker/001.png'), WindowsPath('F:/Zeinab 2016- 2019/Sticker/002.jpg'), WindowsPath('F:/Zeinab 2016- 2019/Sticker/002.png'), WindowsPath('F:/Zeinab 2016- 2019/Sticker/003.png'), WindowsPath('F:/Zeinab 2016- 2019/Sticker/004.png'), WindowsPath('F:/Zeinab 2016- 2019/Sticker/005.png'), WindowsPath('F:/Zeinab 2016- 2019/Sticker/006.png'), WindowsPath('F:/Zeinab 2016- 2019/Sticker/photo_2018-03-07_13-34-09.jpg'), WindowsPath('F:/Zeinab 2016- 2019/Sticker/photo_2018-03-07_13-34-19.jpg'), WindowsPath('F:/Zeinab 2016- 2019/Sticker/photo_2018-03-07_13-34-28.jpg'), WindowsPath('F:/Zeinab 2016- 2019/Sticker/photo_2018-03-07_13-34-35 (2).jpg'), WindowsPath('F:/Zeinab 2016- 2019/Sticker/photo_2018-03-07_13-34-35.jpg'), WindowsPath('F:/Zeinab 2016- 2019/Sticker/photo_2018-03-07_13-34-37.jpg'), WindowsPath('F:/Zeinab 2016- 2019/Sticker/photo_2018-03-07_13-34-38 (2).jpg'), WindowsPath('F:/Zeinab 2016- 2019/Sticker/photo_2018-03-07_13-34-38.jpg'), WindowsPath('F:/Zeinab 2016- 2019/Sticker/photo_2018-03-07_13-34-39.jpg'), WindowsPath('F:/Zeinab 2016- 2019/Sticker/photo_2018-03-07_13-34-40 (2).jpg'), WindowsPath('F:/Zeinab 2016- 2019/Sticker/photo_2018-03-07_13-34-40.jpg'), WindowsPath('F:/Zeinab 2016- 2019/Sticker/photo_2018-03-07_13-34-41 (2).jpg'), WindowsPath('F:/Zeinab 2016- 2019/Sticker/photo_2018-03-07_13-34-41 (3).jpg'), WindowsPath('F:/Zeinab 2016- 2019/Sticker/photo_2018-03-07_13-34-41.jpg'), WindowsPath('F:/Zeinab 2016- 2019/Sticker/photo_2018-03-07_13-34-42.jpg'), WindowsPath('F:/Zeinab 2016- 2019/Sticker/photo_2018-03-07_13-34-43 (2).jpg'), WindowsPath('F:/Zeinab 2016- 2019/Sticker/photo_2018-03-07_13-34-43 (3).jpg'), WindowsPath('F:/Zeinab 2016- 2019/Sticker/photo_2018-03-07_13-34-43 (4).jpg'), WindowsPath('F:/Zeinab 2016- 2019/Sticker/photo_2018-03-07_13-34-43.jpg'), WindowsPath('F:/Zeinab 2016- 2019/Sticker/photo_2018-03-07_13-34-44.jpg'), WindowsPath('F:/Zeinab 2016- 2019/Sticker/photo_2018-03-07_13-34-45 (2).jpg'), WindowsPath('F:/Zeinab 2016- 2019/Sticker/photo_2018-03-07_13-34-45 (3).jpg'), WindowsPath('F:/Zeinab 2016- 2019/Sticker/photo_2018-03-07_13-34-45 (4).jpg'), WindowsPath('F:/Zeinab 2016- 2019/Sticker/photo_2018-03-07_13-34-45.jpg'), WindowsPath('F:/Zeinab 2016- 2019/Sticker/photo_2018-03-07_13-34-46.jpg'), WindowsPath('F:/Zeinab 2016- 2019/Sticker/photo_2018-03-07_13-34-47.jpg'), WindowsPath('F:/Zeinab 2016- 2019/Sticker/photo_2018-03-07_13-34-48 (2).jpg'), WindowsPath('F:/Zeinab 2016- 2019/Sticker/photo_2018-03-07_13-34-48 (3).jpg'), WindowsPath('F:/Zeinab 2016- 2019/Sticker/photo_2018-03-07_13-34-48.jpg'), WindowsPath('F:/Zeinab 2016- 2019/Sticker/photo_2018-03-07_13-34-49 (2).jpg'), WindowsPath('F:/Zeinab 2016- 2019/Sticker/photo_2018-03-07_13-34-49 (3).jpg'), WindowsPath('F:/Zeinab 2016- 2019/Sticker/photo_2018-03-07_13-34-49.jpg'), WindowsPath('F:/Zeinab 2016- 2019/Sticker/photo_2018-03-07_13-34-51.jpg'), WindowsPath('F:/Zeinab 2016- 2019/Sticker/photo_2018-03-07_13-34-54.jpg'), WindowsPath('F:/Zeinab 2016- 2019/Sticker/photo_2018-03-07_13-37-06.jpg'), WindowsPath('F:/Zeinab 2016- 2019/Sticker/photo_2018-03-07_13-37-09.jpg'), WindowsPath('F:/Zeinab 2016- 2019/Sticker/photo_2018-03-07_13-37-12.jpg'), WindowsPath('F:/Zeinab 2016- 2019/Sticker/photo_2018-03-07_13-37-14.jpg'), WindowsPath('F:/Zeinab 2016- 2019/Sticker/photo_2018-03-07_13-37-15.jpg'), WindowsPath('F:/Zeinab 2016- 2019/Sticker/photo_2018-03-07_13-37-17.jpg'), WindowsPath('F:/Zeinab 2016- 2019/Sticker/photo_2018-03-07_13-37-19.jpg'), WindowsPath('F:/Zeinab 2016- 2019/Sticker/photo_2018-03-07_13-37-27.jpg'), WindowsPath('F:/Zeinab 2016- 2019/Sticker/photo_2018-03-07_13-37-29.jpg'), WindowsPath('F:/Zeinab 2016- 2019/Type/بسمه تعالی.docx'), WindowsPath('F:/Zeinab 2016- 2019/Type/بسمه تعالی.pdf'), WindowsPath('F:/Zeinab 2016- 2019/Type/بسمه تعالی2.docx'), WindowsPath('F:/Zeinab 2016- 2019/Type/بسمه تعالی2.pdf'), WindowsPath('F:/Zeinab 2016- 2019/Varzesh/0abfafcc900aa50b262b69bb2a5f2c57.jpg'), WindowsPath('F:/Zeinab 2016- 2019/Varzesh/2a2b2890d76389c540262eb240c6887d3942712-360p__90544.mp4'), WindowsPath('F:/Zeinab 2016- 2019/Varzesh/625cb4fb56e2d89ee99f16f040e00a2c.jpg'), WindowsPath('F:/Zeinab 2016- 2019/Varzesh/652101a91dfe52be325b2576099be2f7.jpg'), WindowsPath('F:/Zeinab 2016- 2019/Varzesh/779e7c869fe222cf11575885e38f2031.jpg'), WindowsPath('F:/Zeinab 2016- 2019/Varzesh/82452a46a6fc01c0cb071ab7f82def54.jpg'), WindowsPath('F:/Zeinab 2016- 2019/Varzesh/a53ab9e069f27a166aece987cacb21aa.jpg'), WindowsPath('F:/Zeinab 2016- 2019/Varzesh/ae580f5822a53008695339503042b0cb.jpg'), WindowsPath('F:/Zeinab 2016- 2019/Varzesh/c751e94598adedd85a3286fa1d4d44ba.jpg'), WindowsPath('F:/Zeinab 2016- 2019/Varzesh/e0500fda6d0368010723912a28227912.jpg'), WindowsPath('F:/Zeinab 2016- 2019/Varzesh/VID_20170807_173718.mp4'), WindowsPath('F:/Zeinab 2016- 2019/Varzesh/VID_20170807_174119.mp4'), WindowsPath('F:/Zeinab 2016- 2019/Varzesh/VID_20170807_174630.mp4'), WindowsPath('F:/Zeinab 2016- 2019/Varzesh/VID_20170807_175006.mp4'), WindowsPath('F:/Zeinab 2016- 2019/Varzesh/VID_20170807_175609.mp4'), WindowsPath('F:/Zeinab 2016- 2019/Varzesh/VID_20170807_175713.mp4'), WindowsPath('F:/Zeinab 2016- 2019/Varzesh/VID_20170807_180224.mp4'), WindowsPath('F:/Zeinab 2016- 2019/Varzesh/VID_20170808_114535.mp4'), WindowsPath('F:/Zeinab 2016- 2019/Varzesh/۸ دقیقه نرمش در خانه.mp4'), WindowsPath('F:/Zeinab 2016- 2019/Zeinab Ch/000-104-C79.pdf'), WindowsPath('F:/Zeinab 2016- 2019/Zeinab Ch/C85.pdf'), WindowsPath('F:/Zeinab 2016- 2019/Zeinab Ch/Cf228wRVIAIKmk4-1.jpg'), WindowsPath('F:/Zeinab 2016- 2019/Zeinab Ch/entry_contest_thumbnail.jpg'), WindowsPath('F:/Zeinab 2016- 2019/Zeinab Ch/Exam 10.docx'), WindowsPath('F:/Zeinab 2016- 2019/Zeinab Ch/Exam.docx'), WindowsPath('F:/Zeinab 2016- 2019/Zeinab Ch/Exam.pdf'), WindowsPath('F:/Zeinab 2016- 2019/Zeinab Ch/Lesson1.pdf'), WindowsPath('F:/Zeinab 2016- 2019/Zeinab Ch/not-a-paper-cup-roundup.jpg'), WindowsPath('F:/Zeinab 2016- 2019/Zeinab Ch/Parsa.ppt'), WindowsPath('F:/Zeinab 2016- 2019/Zeinab Ch/Parsa.pptx'), WindowsPath('F:/Zeinab 2016- 2019/Zeinab Ch/Recycling-Sign.gif'), WindowsPath('F:/Zeinab 2016- 2019/Zeinab Ch/reusable-bag.jpg'), WindowsPath('F:/Zeinab 2016- 2019/Zeinab Ch/reusable-bags.jpg'), WindowsPath('F:/Zeinab 2016- 2019/Zeinab Ch/Saving Nature and Environment.doc'), WindowsPath('F:/Zeinab 2016- 2019/Zeinab Ch/Saving Nature and Environment.docx'), WindowsPath('F:/Zeinab 2016- 2019/Zeinab Ch/stockfresh_343673_altogether-saving-the-planet_sizeS.jpg'), WindowsPath('F:/Zeinab 2016- 2019/Zeinab Ch/switch-it-off.jpg'), WindowsPath('F:/Zeinab 2016- 2019/Zeinab Ch/کتاب راهنمای تدریس زبان انگلیسی پایه نهم.pdf'), WindowsPath('F:/Zeinab 2016- 2019/Zeinab_book/Defa-Moghadas.1_{jamedadi.ir}.rar'), WindowsPath('F:/Zeinab 2016- 2019/Zeinab_book/Defa-Moghadas.2_{jamedadi.ir}.rar'), WindowsPath('F:/Zeinab 2016- 2019/Zeinab_book/Defa-Moghadas.3_{jamedadi.ir}.rar'), WindowsPath('F:/Zeinab 2016- 2019/Zeinab_book/Defa-Moghadas.4_{jamedadi.ir}.rar'), WindowsPath('F:/Zeinab 2016- 2019/Zeinab_book/empap95.zip'), WindowsPath('F:/Zeinab 2016- 2019/Zeinab_book/frxreport.pdf'), WindowsPath('F:/Zeinab 2016- 2019/Zeinab_book/Full page photo.pdf'), WindowsPath('F:/Zeinab 2016- 2019/Zeinab_book/Resume - ZSh.pdf'), WindowsPath('F:/Zeinab 2016- 2019/Zeinab_book/Revision.pdf'), WindowsPath('F:/Zeinab 2016- 2019/Zeinab_book/safirrail.ir_etrain_viewTick.php_ResNum=238674893.pdf')]\n"
     ]
    }
   ],
   "source": [
    "print(\"Files in */*:\", [f for f in p.glob(\"*/*\") if f.is_file()])"
   ]
  },
  {
   "cell_type": "markdown",
   "metadata": {},
   "source": [
    "## Listing All Hidden Files in Your Home Directory"
   ]
  },
  {
   "cell_type": "markdown",
   "metadata": {},
   "source": [
    "In Unix, hidden files are those that start with a dot. Usually, those files are not listed when you list files with tools such as ls unless you explicitly ask for them. You will now use the pathlib module to list all hidden files in your home directory. The code snippet indicated here will show exactly how to list these hidden files:"
   ]
  },
  {
   "cell_type": "code",
   "execution_count": 45,
   "metadata": {},
   "outputs": [
    {
     "name": "stdout",
     "output_type": "stream",
     "text": [
      "[WindowsPath('C:/Users/YCHZSH/.anaconda'), WindowsPath('C:/Users/YCHZSH/.android'), WindowsPath('C:/Users/YCHZSH/.bash_history'), WindowsPath('C:/Users/YCHZSH/.conda'), WindowsPath('C:/Users/YCHZSH/.condarc'), WindowsPath('C:/Users/YCHZSH/.dotnet'), WindowsPath('C:/Users/YCHZSH/.gitconfig'), WindowsPath('C:/Users/YCHZSH/.ipynb_checkpoints'), WindowsPath('C:/Users/YCHZSH/.ipython'), WindowsPath('C:/Users/YCHZSH/.jupyter'), WindowsPath('C:/Users/YCHZSH/.matplotlib'), WindowsPath('C:/Users/YCHZSH/.PhpStorm2019.3'), WindowsPath('C:/Users/YCHZSH/.php_history'), WindowsPath('C:/Users/YCHZSH/.PyCharm2019.3'), WindowsPath('C:/Users/YCHZSH/.viminfo')]\n"
     ]
    }
   ],
   "source": [
    "import pathlib\n",
    "p = pathlib.Path.home()\n",
    "print(list(p.glob(\".*\")))"
   ]
  },
  {
   "cell_type": "markdown",
   "metadata": {},
   "source": [
    "### Using the subprocess Module"
   ]
  },
  {
   "cell_type": "code",
   "execution_count": 46,
   "metadata": {},
   "outputs": [
    {
     "data": {
      "text/plain": [
       "CompletedProcess(args=['ls'], returncode=1, stdout='', stderr=\"'ls' is not recognized as an internal or external command,\\noperable program or batch file.\\n\")"
      ]
     },
     "execution_count": 46,
     "metadata": {},
     "output_type": "execute_result"
    }
   ],
   "source": [
    "import pathlib\n",
    "import subprocess\n",
    "subprocess.run([\"ls\"], capture_output=True,\n",
    "    text=True,\n",
    "    shell = True)"
   ]
  },
  {
   "cell_type": "code",
   "execution_count": 47,
   "metadata": {},
   "outputs": [
    {
     "name": "stdout",
     "output_type": "stream",
     "text": [
      "stdout:  \n",
      "stderr:  'ls' is not recognized as an internal or external command,\n",
      "operable program or batch file.\n",
      "\n"
     ]
    }
   ],
   "source": [
    "import pathlib\n",
    "import subprocess\n",
    "result = subprocess.run(['ls'], capture_output=True, text=True, shell = True)\n",
    "print(\"stdout: \", result.stdout)\n",
    "print(\"stderr: \", result.stderr)"
   ]
  },
  {
   "cell_type": "code",
   "execution_count": 48,
   "metadata": {},
   "outputs": [
    {
     "name": "stdout",
     "output_type": "stream",
     "text": [
      "stdout: \n",
      " \n"
     ]
    }
   ],
   "source": [
    "import subprocess\n",
    "result = subprocess .run([\"ls\", \"-l\"],\n",
    "    capture_output=True,\n",
    "    text=True,\n",
    "    shell = True\n",
    ")\n",
    "print(\"stdout: \\n\", result.stdout)"
   ]
  },
  {
   "cell_type": "code",
   "execution_count": 49,
   "metadata": {},
   "outputs": [
    {
     "name": "stdout",
     "output_type": "stream",
     "text": [
      "rc:  1\n"
     ]
    }
   ],
   "source": [
    "result = subprocess.run([\"ls\", \"non_existing_file\"],\n",
    "   capture_output=True,\n",
    "    text=True,\n",
    "    shell = True\n",
    ")\n",
    "print(\"rc: \", result.returncode)"
   ]
  },
  {
   "cell_type": "markdown",
   "metadata": {},
   "source": [
    "## Exercise 92: Customizing Child Processes with env vars"
   ]
  },
  {
   "cell_type": "markdown",
   "metadata": {},
   "source": [
    "1. Import subprocess. Bring the subprocess module into the current namespace:"
   ]
  },
  {
   "cell_type": "code",
   "execution_count": 50,
   "metadata": {},
   "outputs": [],
   "source": [
    "import subprocess"
   ]
  },
  {
   "cell_type": "markdown",
   "metadata": {},
   "source": [
    "2. Run env to print the environment variables. You can run the env Unix command, which will list the process environment variables in stdout:"
   ]
  },
  {
   "cell_type": "code",
   "execution_count": 51,
   "metadata": {},
   "outputs": [
    {
     "ename": "FileNotFoundError",
     "evalue": "[WinError 2] The system cannot find the file specified",
     "output_type": "error",
     "traceback": [
      "\u001b[1;31m---------------------------------------------------------------------------\u001b[0m",
      "\u001b[1;31mFileNotFoundError\u001b[0m                         Traceback (most recent call last)",
      "\u001b[1;32m<ipython-input-51-bfb046a658f1>\u001b[0m in \u001b[0;36m<module>\u001b[1;34m\u001b[0m\n\u001b[0;32m      1\u001b[0m \u001b[1;31m# For Linux / MAC Users\u001b[0m\u001b[1;33m\u001b[0m\u001b[1;33m\u001b[0m\u001b[1;33m\u001b[0m\u001b[0m\n\u001b[1;32m----> 2\u001b[1;33m result = subprocess.run(\n\u001b[0m\u001b[0;32m      3\u001b[0m     \u001b[1;33m[\u001b[0m\u001b[1;34m\"env\"\u001b[0m\u001b[1;33m]\u001b[0m\u001b[1;33m,\u001b[0m\u001b[1;33m\u001b[0m\u001b[1;33m\u001b[0m\u001b[0m\n\u001b[0;32m      4\u001b[0m     \u001b[0mcapture_output\u001b[0m\u001b[1;33m=\u001b[0m\u001b[1;32mTrue\u001b[0m\u001b[1;33m,\u001b[0m\u001b[1;33m\u001b[0m\u001b[1;33m\u001b[0m\u001b[0m\n\u001b[0;32m      5\u001b[0m     \u001b[0mtext\u001b[0m\u001b[1;33m=\u001b[0m\u001b[1;32mTrue\u001b[0m\u001b[1;33m\u001b[0m\u001b[1;33m\u001b[0m\u001b[0m\n",
      "\u001b[1;32m~\\anaconda3\\lib\\subprocess.py\u001b[0m in \u001b[0;36mrun\u001b[1;34m(input, capture_output, timeout, check, *popenargs, **kwargs)\u001b[0m\n\u001b[0;32m    487\u001b[0m         \u001b[0mkwargs\u001b[0m\u001b[1;33m[\u001b[0m\u001b[1;34m'stderr'\u001b[0m\u001b[1;33m]\u001b[0m \u001b[1;33m=\u001b[0m \u001b[0mPIPE\u001b[0m\u001b[1;33m\u001b[0m\u001b[1;33m\u001b[0m\u001b[0m\n\u001b[0;32m    488\u001b[0m \u001b[1;33m\u001b[0m\u001b[0m\n\u001b[1;32m--> 489\u001b[1;33m     \u001b[1;32mwith\u001b[0m \u001b[0mPopen\u001b[0m\u001b[1;33m(\u001b[0m\u001b[1;33m*\u001b[0m\u001b[0mpopenargs\u001b[0m\u001b[1;33m,\u001b[0m \u001b[1;33m**\u001b[0m\u001b[0mkwargs\u001b[0m\u001b[1;33m)\u001b[0m \u001b[1;32mas\u001b[0m \u001b[0mprocess\u001b[0m\u001b[1;33m:\u001b[0m\u001b[1;33m\u001b[0m\u001b[1;33m\u001b[0m\u001b[0m\n\u001b[0m\u001b[0;32m    490\u001b[0m         \u001b[1;32mtry\u001b[0m\u001b[1;33m:\u001b[0m\u001b[1;33m\u001b[0m\u001b[1;33m\u001b[0m\u001b[0m\n\u001b[0;32m    491\u001b[0m             \u001b[0mstdout\u001b[0m\u001b[1;33m,\u001b[0m \u001b[0mstderr\u001b[0m \u001b[1;33m=\u001b[0m \u001b[0mprocess\u001b[0m\u001b[1;33m.\u001b[0m\u001b[0mcommunicate\u001b[0m\u001b[1;33m(\u001b[0m\u001b[0minput\u001b[0m\u001b[1;33m,\u001b[0m \u001b[0mtimeout\u001b[0m\u001b[1;33m=\u001b[0m\u001b[0mtimeout\u001b[0m\u001b[1;33m)\u001b[0m\u001b[1;33m\u001b[0m\u001b[1;33m\u001b[0m\u001b[0m\n",
      "\u001b[1;32m~\\anaconda3\\lib\\subprocess.py\u001b[0m in \u001b[0;36m__init__\u001b[1;34m(self, args, bufsize, executable, stdin, stdout, stderr, preexec_fn, close_fds, shell, cwd, env, universal_newlines, startupinfo, creationflags, restore_signals, start_new_session, pass_fds, encoding, errors, text)\u001b[0m\n\u001b[0;32m    852\u001b[0m                             encoding=encoding, errors=errors)\n\u001b[0;32m    853\u001b[0m \u001b[1;33m\u001b[0m\u001b[0m\n\u001b[1;32m--> 854\u001b[1;33m             self._execute_child(args, executable, preexec_fn, close_fds,\n\u001b[0m\u001b[0;32m    855\u001b[0m                                 \u001b[0mpass_fds\u001b[0m\u001b[1;33m,\u001b[0m \u001b[0mcwd\u001b[0m\u001b[1;33m,\u001b[0m \u001b[0menv\u001b[0m\u001b[1;33m,\u001b[0m\u001b[1;33m\u001b[0m\u001b[1;33m\u001b[0m\u001b[0m\n\u001b[0;32m    856\u001b[0m                                 \u001b[0mstartupinfo\u001b[0m\u001b[1;33m,\u001b[0m \u001b[0mcreationflags\u001b[0m\u001b[1;33m,\u001b[0m \u001b[0mshell\u001b[0m\u001b[1;33m,\u001b[0m\u001b[1;33m\u001b[0m\u001b[1;33m\u001b[0m\u001b[0m\n",
      "\u001b[1;32m~\\anaconda3\\lib\\subprocess.py\u001b[0m in \u001b[0;36m_execute_child\u001b[1;34m(self, args, executable, preexec_fn, close_fds, pass_fds, cwd, env, startupinfo, creationflags, shell, p2cread, p2cwrite, c2pread, c2pwrite, errread, errwrite, unused_restore_signals, unused_start_new_session)\u001b[0m\n\u001b[0;32m   1305\u001b[0m             \u001b[1;31m# Start the process\u001b[0m\u001b[1;33m\u001b[0m\u001b[1;33m\u001b[0m\u001b[1;33m\u001b[0m\u001b[0m\n\u001b[0;32m   1306\u001b[0m             \u001b[1;32mtry\u001b[0m\u001b[1;33m:\u001b[0m\u001b[1;33m\u001b[0m\u001b[1;33m\u001b[0m\u001b[0m\n\u001b[1;32m-> 1307\u001b[1;33m                 hp, ht, pid, tid = _winapi.CreateProcess(executable, args,\n\u001b[0m\u001b[0;32m   1308\u001b[0m                                          \u001b[1;31m# no special security\u001b[0m\u001b[1;33m\u001b[0m\u001b[1;33m\u001b[0m\u001b[1;33m\u001b[0m\u001b[0m\n\u001b[0;32m   1309\u001b[0m                                          \u001b[1;32mNone\u001b[0m\u001b[1;33m,\u001b[0m \u001b[1;32mNone\u001b[0m\u001b[1;33m,\u001b[0m\u001b[1;33m\u001b[0m\u001b[1;33m\u001b[0m\u001b[0m\n",
      "\u001b[1;31mFileNotFoundError\u001b[0m: [WinError 2] The system cannot find the file specified"
     ]
    }
   ],
   "source": [
    "# For Linux / MAC Users\n",
    "result = subprocess.run(\n",
    "    [\"env\"],\n",
    "    capture_output=True,\n",
    "    text=True\n",
    ")\n",
    "print(result.stdout)"
   ]
  },
  {
   "cell_type": "code",
   "execution_count": 32,
   "metadata": {},
   "outputs": [
    {
     "name": "stdout",
     "output_type": "stream",
     "text": [
      "ALLUSERSPROFILE=C:\\ProgramData\n",
      "APPDATA=C:\\Users\\YCHZSH\\AppData\\Roaming\n",
      "CLICOLOR=1\n",
      "COMMONPROGRAMFILES=C:\\Program Files (x86)\\Common Files\n",
      "COMMONPROGRAMFILES(X86)=C:\\Program Files (x86)\\Common Files\n",
      "COMMONPROGRAMW6432=C:\\Program Files\\Common Files\n",
      "COMPUTERNAME=DESKTOP-NIJ54KC\n",
      "COMSPEC=C:\\Windows\\system32\\cmd.exe\n",
      "DRIVERDATA=C:\\Windows\\System32\\Drivers\\DriverData\n",
      "FPS_BROWSER_APP_PROFILE_STRING=Internet Explorer\n",
      "FPS_BROWSER_USER_PROFILE_STRING=Default\n",
      "GIT_PAGER=cat\n",
      "HOMEDRIVE=C:\n",
      "HOMEPATH=\\Users\\YCHZSH\n",
      "LOCALAPPDATA=C:\\Users\\YCHZSH\\AppData\\Local\n",
      "LOGONSERVER=\\\\DESKTOP-NIJ54KC\n",
      "MPLBACKEND=module://ipykernel.pylab.backend_inline\n",
      "NUMBER_OF_PROCESSORS=2\n",
      "ONEDRIVE=C:\\Users\\YCHZSH\\OneDrive\n",
      "ONEDRIVECONSUMER=C:\\Users\\YCHZSH\\OneDrive\n",
      "OS=Windows_NT\n",
      "PAGER=cat\n",
      "PATH=C:\\Users\\YCHZSH\\Anaconda3;C:\\Users\\YCHZSH\\Anaconda3\\Library\\mingw-w64\\bin;C:\\Users\\YCHZSH\\Anaconda3\\Library\\usr\\bin;C:\\Users\\YCHZSH\\Anaconda3\\Library\\bin;C:\\Users\\YCHZSH\\Anaconda3\\Scripts;C:\\Windows\\system32;C:\\Windows;C:\\Windows\\System32\\Wbem;C:\\Windows\\System32\\WindowsPowerShell\\v1.0\\;C:\\Windows\\System32\\OpenSSH\\;C:\\Python34\\Scripts;C:\\Program Files\\dotnet\\;C:\\Program Files\\Microsoft SQL Server\\130\\Tools\\Binn\\;C:\\ProgramData\\ComposerSetup\\bin;C:\\Program Files\\Git\\cmd;C:\\Windows\\system32;C:\\Windows;C:\\Windows\\System32\\Wbem;C:\\Windows\\System32\\WindowsPowerShell\\v1.0\\;C:\\Windows\\System32\\OpenSSH\\;C:\\Python34\\Scripts;C:\\Users\\YCHZSH\\AppData\\Local\\Microsoft\\WindowsApps;C:\\Program Files\\JetBrains\\PyCharm 2019.3.4\\bin;C:\\Python37\\Scripts;C:\\xampp\\php;C:\\Users\\YCHZSH\\AppData\\Roaming\\Composer\\vendor\\bin;\n",
      "PATHEXT=.COM;.EXE;.BAT;.CMD;.VBS;.VBE;.JS;.JSE;.WSF;.WSH;.MSC\n",
      "PROCESSOR_ARCHITECTURE=x86\n",
      "PROCESSOR_ARCHITEW6432=AMD64\n",
      "PROCESSOR_IDENTIFIER=Intel64 Family 6 Model 23 Stepping 10, GenuineIntel\n",
      "PROCESSOR_LEVEL=6\n",
      "PROCESSOR_REVISION=170a\n",
      "PROGRAMDATA=C:\\ProgramData\n",
      "PROGRAMFILES=C:\\Program Files (x86)\n",
      "PROGRAMFILES(X86)=C:\\Program Files (x86)\n",
      "PROGRAMW6432=C:\\Program Files\n",
      "PROMPT=$P$G\n",
      "PSMODULEPATH=C:\\Program Files\\WindowsPowerShell\\Modules;C:\\Windows\\system32\\WindowsPowerShell\\v1.0\\Modules\n",
      "PUBLIC=C:\\Users\\Public\n",
      "PYCHARM=C:\\Program Files\\JetBrains\\PyCharm 2019.3.4\\bin;\n",
      "SESSIONNAME=Console\n",
      "SYSTEMDRIVE=C:\n",
      "SYSTEMROOT=C:\\Windows\n",
      "TEMP=C:\\Users\\YCHZSH\\AppData\\Local\\Temp\n",
      "TERM=xterm-color\n",
      "TMP=C:\\Users\\YCHZSH\\AppData\\Local\\Temp\n",
      "USERDOMAIN=DESKTOP-NIJ54KC\n",
      "USERDOMAIN_ROAMINGPROFILE=DESKTOP-NIJ54KC\n",
      "USERNAME=YCHZSH\n",
      "USERPROFILE=C:\\Users\\YCHZSH\n",
      "VS150ENTCOMNTOOLS=C:\\Program Files (x86)\\Microsoft Visual Studio\\2017\\Enterprise\\Common7\\Tools\\\n",
      "WINDIR=C:\\Windows\n",
      "CONDA_PREFIX=C:\\Users\\YCHZSH\\Anaconda3\n",
      "KERNEL_LAUNCH_TIMEOUT=40\n",
      "JPY_INTERRUPT_EVENT=2188\n",
      "IPY_INTERRUPT_EVENT=2188\n",
      "JPY_PARENT_PID=2368\n",
      "\n"
     ]
    }
   ],
   "source": [
    "# For windows Users\n",
    "result = subprocess.run(\n",
    "    [\"set\"],\n",
    "    capture_output=True,\n",
    "    text=True,\n",
    "    shell = True\n",
    ")\n",
    "print(result.stdout)"
   ]
  },
  {
   "cell_type": "markdown",
   "metadata": {},
   "source": [
    "3. Use a different set of environment variables. If you wanted to customize the environment variables that our subprocess has, you could use the env keyword of the subprocess.run method:"
   ]
  },
  {
   "cell_type": "code",
   "execution_count": null,
   "metadata": {},
   "outputs": [],
   "source": [
    "# For Linux / Mac Users\n",
    "result = subprocess.run(\n",
    "    [\"env\"],\n",
    "    capture_output=True,\n",
    "    text=True,\n",
    "    env={\"SERVER\": \"OTHER_SERVER\"}\n",
    ")\n",
    "print(result.stdout)"
   ]
  },
  {
   "cell_type": "code",
   "execution_count": 52,
   "metadata": {},
   "outputs": [
    {
     "name": "stdout",
     "output_type": "stream",
     "text": [
      "COMSPEC=C:\\Windows\\system32\\cmd.exe\n",
      "PATHEXT=.COM;.EXE;.BAT;.CMD;.VBS;.JS;.WS;.MSC\n",
      "PROMPT=$P$G\n",
      "SERVER=OTHER_SERVER\n",
      "\n"
     ]
    }
   ],
   "source": [
    "# For Windows Users\n",
    "result = subprocess.run(\n",
    "    [\"set\"],\n",
    "    capture_output=True,\n",
    "    text=True,\n",
    "    shell = True,\n",
    "    env={\"SERVER\": \"OTHER_SERVER\"}\n",
    ")\n",
    "print(result.stdout)"
   ]
  },
  {
   "cell_type": "markdown",
   "metadata": {},
   "source": [
    "4. Now, modify the default set of variables. Most of the time, you just want to modify or add one variable, not just replace them all. Therefore, what we did in the previous step is too radical, as tools might require environment variables that are always present in the OS. To do so, you will have to take the current process environment and modify it to match the expected result. We can access the current process environment variables via os.environ and copy it via the copy module. Though you can also use the dict expansion syntax with the keys that you want to change to modify it, as shown in the following example:"
   ]
  },
  {
   "cell_type": "code",
   "execution_count": null,
   "metadata": {},
   "outputs": [],
   "source": [
    "# For Linux / MAC Users \n",
    "import os\n",
    "result = subprocess.run(\n",
    "    [\"env\"],\n",
    "    capture_output=True,\n",
    "    text=True,\n",
    "    env={**os.environ, \"SERVER\": \"OTHER_SERVER\"}\n",
    ")\n",
    "print(result.stdout)"
   ]
  },
  {
   "cell_type": "code",
   "execution_count": 53,
   "metadata": {},
   "outputs": [
    {
     "name": "stdout",
     "output_type": "stream",
     "text": [
      "ALLUSERSPROFILE=C:\\ProgramData\n",
      "APPDATA=C:\\Users\\YCHZSH\\AppData\\Roaming\n",
      "COMMONPROGRAMFILES=C:\\Program Files\\Common Files\n",
      "COMMONPROGRAMFILES(X86)=C:\\Program Files (x86)\\Common Files\n",
      "COMMONPROGRAMW6432=C:\\Program Files\\Common Files\n",
      "COMPUTERNAME=DESKTOP-NIJ54KC\n",
      "COMSPEC=C:\\Windows\\system32\\cmd.exe\n",
      "DRIVERDATA=C:\\Windows\\System32\\Drivers\\DriverData\n",
      "FPS_BROWSER_APP_PROFILE_STRING=Internet Explorer\n",
      "FPS_BROWSER_USER_PROFILE_STRING=Default\n",
      "HOMEDRIVE=C:\n",
      "HOMEPATH=\\Users\\YCHZSH\n",
      "LOCALAPPDATA=C:\\Users\\YCHZSH\\AppData\\Local\n",
      "LOGONSERVER=\\\\DESKTOP-NIJ54KC\n",
      "NUMBER_OF_PROCESSORS=2\n",
      "ONEDRIVE=C:\\Users\\YCHZSH\\OneDrive\n",
      "ONEDRIVECONSUMER=C:\\Users\\YCHZSH\\OneDrive\n",
      "OS=Windows_NT\n",
      "PATH=C:\\Users\\YCHZSH\\Anaconda3;C:\\Users\\YCHZSH\\Anaconda3\\Library\\mingw-w64\\bin;C:\\Users\\YCHZSH\\Anaconda3\\Library\\usr\\bin;C:\\Users\\YCHZSH\\Anaconda3\\Library\\bin;C:\\Users\\YCHZSH\\Anaconda3\\Scripts;C:\\Windows\\system32;C:\\Windows;C:\\Windows\\System32\\Wbem;C:\\Windows\\System32\\WindowsPowerShell\\v1.0\\;C:\\Windows\\System32\\OpenSSH\\;C:\\Python34\\Scripts;C:\\Program Files\\dotnet\\;C:\\Program Files\\Microsoft SQL Server\\130\\Tools\\Binn\\;C:\\ProgramData\\ComposerSetup\\bin;C:\\Program Files\\Git\\cmd;C:\\Windows\\system32;C:\\Windows;C:\\Windows\\System32\\Wbem;C:\\Windows\\System32\\WindowsPowerShell\\v1.0\\;C:\\Windows\\System32\\OpenSSH\\;C:\\Python34\\Scripts;C:\\Users\\YCHZSH\\AppData\\Local\\Microsoft\\WindowsApps;C:\\Program Files\\JetBrains\\PyCharm 2019.3.4\\bin;C:\\Python37\\Scripts;C:\\xampp\\php;C:\\Users\\YCHZSH\\AppData\\Roaming\\Composer\\vendor\\bin;\n",
      "PATHEXT=.COM;.EXE;.BAT;.CMD;.VBS;.VBE;.JS;.JSE;.WSF;.WSH;.MSC\n",
      "PROCESSOR_ARCHITECTURE=AMD64\n",
      "PROCESSOR_IDENTIFIER=Intel64 Family 6 Model 23 Stepping 10, GenuineIntel\n",
      "PROCESSOR_LEVEL=6\n",
      "PROCESSOR_REVISION=170a\n",
      "PROGRAMDATA=C:\\ProgramData\n",
      "PROGRAMFILES=C:\\Program Files\n",
      "PROGRAMFILES(X86)=C:\\Program Files (x86)\n",
      "PROGRAMW6432=C:\\Program Files\n",
      "PROMPT=$P$G\n",
      "PSMODULEPATH=C:\\Program Files\\WindowsPowerShell\\Modules;C:\\Windows\\system32\\WindowsPowerShell\\v1.0\\Modules\n",
      "PUBLIC=C:\\Users\\Public\n",
      "PYCHARM=C:\\Program Files\\JetBrains\\PyCharm 2019.3.4\\bin;\n",
      "SESSIONNAME=Console\n",
      "SYSTEMDRIVE=C:\n",
      "SYSTEMROOT=C:\\Windows\n",
      "TEMP=C:\\Users\\YCHZSH\\AppData\\Local\\Temp\n",
      "TMP=C:\\Users\\YCHZSH\\AppData\\Local\\Temp\n",
      "USERDOMAIN=DESKTOP-NIJ54KC\n",
      "USERDOMAIN_ROAMINGPROFILE=DESKTOP-NIJ54KC\n",
      "USERNAME=YCHZSH\n",
      "USERPROFILE=C:\\Users\\YCHZSH\n",
      "VS150ENTCOMNTOOLS=C:\\Program Files (x86)\\Microsoft Visual Studio\\2017\\Enterprise\\Common7\\Tools\\\n",
      "WINDIR=C:\\Windows\n",
      "CONDA_PREFIX=C:\\Users\\YCHZSH\\Anaconda3\n",
      "KERNEL_LAUNCH_TIMEOUT=40\n",
      "JPY_INTERRUPT_EVENT=2588\n",
      "IPY_INTERRUPT_EVENT=2588\n",
      "JPY_PARENT_PID=1340\n",
      "TERM=xterm-color\n",
      "CLICOLOR=1\n",
      "PAGER=cat\n",
      "GIT_PAGER=cat\n",
      "MPLBACKEND=module://ipykernel.pylab.backend_inline\n",
      "SERVER=OTHER_SERVER\n",
      "\n"
     ]
    }
   ],
   "source": [
    "# For windows users\n",
    "import os\n",
    "result = subprocess.run(\n",
    "    [\"set\"],\n",
    "    capture_output=True,\n",
    "    text=True,\n",
    "    shell = True,\n",
    "    env={**os.environ, \"SERVER\": \"OTHER_SERVER\"}\n",
    ")\n",
    "print(result.stdout)"
   ]
  },
  {
   "cell_type": "markdown",
   "metadata": {},
   "source": [
    "## Activity 16: Testing Python Code"
   ]
  },
  {
   "cell_type": "markdown",
   "metadata": {},
   "source": [
    "The line, compile(\"1\" + \"+1\" * 10 ** 6, \"string\", \"exec\"), will crash the interpreter; we will need to run it with the following code:\n",
    "\n",
    "1. First, import the sys and subprocess modules as we are going to use them in the following steps:"
   ]
  },
  {
   "cell_type": "code",
   "execution_count": 54,
   "metadata": {},
   "outputs": [],
   "source": [
    "import sys\n",
    "import subprocess"
   ]
  },
  {
   "cell_type": "markdown",
   "metadata": {},
   "source": [
    "2. We save the code that we were given in the code variable:"
   ]
  },
  {
   "cell_type": "code",
   "execution_count": 55,
   "metadata": {},
   "outputs": [],
   "source": [
    "code = 'compile(\"1\" + \"+1\" * 10 ** 6, \"string\", \"exec\")'"
   ]
  },
  {
   "cell_type": "markdown",
   "metadata": {},
   "source": [
    "3. Run the code by calling subprocess.run and sys.executable to get the Python interpreter we are using:"
   ]
  },
  {
   "cell_type": "code",
   "execution_count": 56,
   "metadata": {},
   "outputs": [],
   "source": [
    "result = subprocess.run([\n",
    "    sys.executable, \n",
    "    \"-c\", code\n",
    "])"
   ]
  },
  {
   "cell_type": "markdown",
   "metadata": {},
   "source": [
    "The preceding code takes a code line, which compiles Python code that will crash and runs it in a subprocess by executing the same interpreter (retrieved via sys.executable) with the -c option to run Python code inline.\n",
    "4. Now, we print the final result using result.resultcode. This will return the value -11, which means the process has crashed:"
   ]
  },
  {
   "cell_type": "code",
   "execution_count": 57,
   "metadata": {},
   "outputs": [
    {
     "name": "stdout",
     "output_type": "stream",
     "text": [
      "3221225725\n"
     ]
    }
   ],
   "source": [
    "print(result.returncode)"
   ]
  },
  {
   "cell_type": "markdown",
   "metadata": {},
   "source": [
    "** In this activity, we have executed a small program that can run the requested code line and checked whether it would crash without breaking the current process. It did end up crashing, hence outputting the value -11, which corresponded to an abort in the program. Note that the returncode value other than 0 indicates that it is crashing. In your case, the returncode can be different than what is presented here, however it will not be 0."
   ]
  },
  {
   "cell_type": "markdown",
   "metadata": {},
   "source": [
    "## Using Logging"
   ]
  },
  {
   "cell_type": "markdown",
   "metadata": {},
   "source": [
    "## Exercise 93: Using a logger Object"
   ]
  },
  {
   "cell_type": "markdown",
   "metadata": {},
   "source": [
    "The goal of this exercise is to create a logger object and use four different methods that allow us to log in the categories mentioned in the Logging section:"
   ]
  },
  {
   "cell_type": "markdown",
   "metadata": {},
   "source": [
    "1. Import the logging module:"
   ]
  },
  {
   "cell_type": "code",
   "execution_count": 58,
   "metadata": {},
   "outputs": [],
   "source": [
    "import logging"
   ]
  },
  {
   "cell_type": "markdown",
   "metadata": {},
   "source": [
    "2. Create a logger.We can now get a logger through the factory method getLogger:"
   ]
  },
  {
   "cell_type": "code",
   "execution_count": 59,
   "metadata": {},
   "outputs": [],
   "source": [
    "logger = logging.getLogger(\"logger_name\")"
   ]
  },
  {
   "cell_type": "markdown",
   "metadata": {},
   "source": [
    "This logger object will be the same everywhere, and you call it with the same name.\n",
    "\n",
    "3.Log with different categories:"
   ]
  },
  {
   "cell_type": "code",
   "execution_count": 60,
   "metadata": {},
   "outputs": [
    {
     "name": "stderr",
     "output_type": "stream",
     "text": [
      "Logging at warning\n",
      "Logging at error\n",
      "Logging at fatal\n"
     ]
    }
   ],
   "source": [
    "logger.debug(\"Logging at debug\")\n",
    "logger.info(\"Logging at info\")\n",
    "logger.warning(\"Logging at warning\")\n",
    "logger.error(\"Logging at error\")\n",
    "logger.fatal(\"Logging at fatal\")"
   ]
  },
  {
   "cell_type": "markdown",
   "metadata": {},
   "source": [
    "By default, the logging stack will be configured to log warnings and above, which explains why you only see those levels being printed to the console. You will see later how to configure the logging stack to include other levels, such as info. Use files or a different format to include further information.\n",
    "\n",
    "4. Include information when logging:"
   ]
  },
  {
   "cell_type": "code",
   "execution_count": 61,
   "metadata": {},
   "outputs": [
    {
     "name": "stderr",
     "output_type": "stream",
     "text": [
      "0 errors reported in moon\n",
      "1 errors reported in moon\n",
      "2 errors reported in moon\n"
     ]
    }
   ],
   "source": [
    "system = \"moon\"\n",
    "for number in range(3):\n",
    "    logger.warning(\"%d errors reported in %s\", number, system)"
   ]
  },
  {
   "cell_type": "markdown",
   "metadata": {},
   "source": [
    "### Logging in warning, error, and fatal Categories"
   ]
  },
  {
   "cell_type": "markdown",
   "metadata": {},
   "source": [
    "You should be mindful when you log in warning, error, and fatal. If there is something worse than an error, it is two errors. Logging an error is a way of informing the system of a situation that needs to be handled, and if you decide to log an error and raise an exception, you are basically duplicating the information. As a rule of thumb, following these two pieces of advice is key to an application or library that logs errors effectively:"
   ]
  },
  {
   "cell_type": "markdown",
   "metadata": {},
   "source": [
    "- Never ignore an exception that transmits an error silently. If you handle an exception that notifies you of an error, log that error.\n",
    "- Never raise and log an error. If you are raising an exception, the caller has the ability to decide whether it is truly an error situation, or whether they were expecting the issue to occur. They can then decide whether to log it following the previous rule, to handle it, or to re-raise it."
   ]
  },
  {
   "cell_type": "markdown",
   "metadata": {},
   "source": [
    "A good example of where the user might be tempted to log an error or warning is in the library of a database when a constraint is violated. From the library perspective, this might look like an error situation, but the user might be trying to insert it without checking whether the key was already in the table. The user can therefore just try to insert and ignore the exception, but if the library code logs a warning when such a situation happens, the warning or error will just spew the log files without a valid reason. Usually, a library will rarely log an error unless it has no way of transmitting the error through an exception."
   ]
  },
  {
   "cell_type": "markdown",
   "metadata": {},
   "source": [
    "When you are handling exceptions, it is quite common to log them and the information they come with. If you want to include the exception and trace back the full information, you can use the exc_info argument in any of the methods that we saw before:"
   ]
  },
  {
   "cell_type": "code",
   "execution_count": 62,
   "metadata": {},
   "outputs": [
    {
     "name": "stderr",
     "output_type": "stream",
     "text": [
      "ERROR:root:Something bad happened\n",
      "Traceback (most recent call last):\n",
      "  File \"<ipython-input-62-7f9c7873bb5a>\", line 2, in <module>\n",
      "    int(\"nope\")\n",
      "ValueError: invalid literal for int() with base 10: 'nope'\n"
     ]
    }
   ],
   "source": [
    "try:\n",
    "    int(\"nope\")\n",
    "except Exception:\n",
    "    logging.error(\"Something bad happened\", exc_info=True)\n",
    "    "
   ]
  },
  {
   "cell_type": "markdown",
   "metadata": {},
   "source": [
    "The error information now includes the message you passed in, but also the exception that was being handled with the traceback. This is so useful and common that there is a shortcut for it. You can call the exception method to achieve the same as using error with exc_info:"
   ]
  },
  {
   "cell_type": "code",
   "execution_count": 63,
   "metadata": {},
   "outputs": [
    {
     "name": "stderr",
     "output_type": "stream",
     "text": [
      "ERROR:root:Something bad happened\n",
      "Traceback (most recent call last):\n",
      "  File \"<ipython-input-63-39a74a45c693>\", line 2, in <module>\n",
      "    int(\"nope\")\n",
      "ValueError: invalid literal for int() with base 10: 'nope'\n"
     ]
    }
   ],
   "source": [
    "try:\n",
    "    int(\"nope\")\n",
    "except Exception:\n",
    "    logging.exception(\"Something bad happened\")"
   ]
  },
  {
   "cell_type": "markdown",
   "metadata": {},
   "source": [
    "Now, you will review two common bad practices with the logging module.\n",
    "\n",
    "The first one is a greedy string formatting. You might see some linters complain about formatting a string by the user, rather than relying on the logging module's string interpolation. This means that logging.info(\"string template %s\", variable) is preferred over logging.info(\"string template {}\".format(variable)). This is the case since, if you perform the string interpolation with the format, you will be doing it no matter how we configure the logging stack. If the user who configures the application decides that they don't need to print out the logs in the information level, you will have to perform interpolation, when it wasn't necessary:"
   ]
  },
  {
   "cell_type": "markdown",
   "metadata": {},
   "source": [
    "#### prefer\n",
    "logging.info(\"string template %s\", variable)\n",
    "#### to\n",
    "logging.info(\"string template {}\".format(variable))"
   ]
  },
  {
   "cell_type": "markdown",
   "metadata": {},
   "source": [
    "The other, more important, bad practice is capturing and formatting exceptions when it's not really needed. Often, you see developers capturing broad exceptions and formatting them as part of a log message. This is not only boilerplate but also less explicit. Compare the following two approaches:"
   ]
  },
  {
   "cell_type": "code",
   "execution_count": 7,
   "metadata": {},
   "outputs": [
    {
     "name": "stderr",
     "output_type": "stream",
     "text": [
      "ERROR:root:Something bad happened\n",
      "Traceback (most recent call last):\n",
      "  File \"<ipython-input-7-b2af7cb7c0c5>\", line 4, in <module>\n",
      "    d[\"missing_key\"] += 1\n",
      "KeyError: 'missing_key'\n",
      "ERROR:root:Something bad happened: 'missing_key'\n"
     ]
    }
   ],
   "source": [
    "d = dict()\n",
    "# Prefer\n",
    "try:\n",
    "    d[\"missing_key\"] += 1\n",
    "except Exception:\n",
    "    logging.error(\"Something bad happened\", exc_info=True)\n",
    "# to\n",
    "try:\n",
    "    d[\"missing_key\"] += 1\n",
    "except Exception as e:\n",
    "    logging.error(\"Something bad happened: %s\", e)"
   ]
  },
  {
   "cell_type": "markdown",
   "metadata": {},
   "source": [
    "We don't know if it was a key error, nor where the issue appeared. If the exception was raised without a message, we would just get an empty message. Additionally, if logging an error, use an exception, and you won't need to pass exc_info."
   ]
  },
  {
   "cell_type": "markdown",
   "metadata": {},
   "source": [
    "### Configuring the Logging Stack"
   ]
  },
  {
   "cell_type": "markdown",
   "metadata": {},
   "source": [
    "Another part of the logging library is the functions to configure it, but before diving into how to configure the logging stack, you should understand its different parts and the role they play."
   ]
  },
  {
   "cell_type": "markdown",
   "metadata": {},
   "source": [
    "You've already seen logger objects, which are used to define the logging messages that need to be generated. There are also the following classes, which take care of the process of processing and emitting a log:"
   ]
  },
  {
   "cell_type": "markdown",
   "metadata": {},
   "source": [
    "- Log Records: This is the object that is generated by the logger and contains all the information about the log, including the line where it was logged, the level, the template, and arguments, among others.\n",
    "- Formatters: These take log records and transform them into strings that can be used by handlers that output to streams.\n",
    "- Handlers: These are the ones that actually emit the records. They frequently use a formatter to transform records into strings. The standard library comes with multiple handlers to emit log records into stdout, stderr, files, sockets, and so on.\n",
    "- Filters: Tools to fine-tune log record mechanisms. They can be added to both handlers and loggers."
   ]
  },
  {
   "cell_type": "markdown",
   "metadata": {},
   "source": [
    "If the functionality that is already provided by the standard library is not enough, you can always create our own kind of classes that customize how the logging process is performed."
   ]
  },
  {
   "cell_type": "markdown",
   "metadata": {},
   "source": [
    "Armed with this knowledge, there are multiple ways to configure all of the elements of the logging stack. You can do so by plugging together all the classes manually with code, passing a dict via logging.config.dictConfig, or through an ini file with logging.config.iniConfig."
   ]
  },
  {
   "cell_type": "markdown",
   "metadata": {},
   "source": [
    "### Exercise 94: Configuring the Logging Stack"
   ]
  },
  {
   "cell_type": "markdown",
   "metadata": {},
   "source": [
    "Start with configuring the code. The first way to configure the stack is by manually creating all the objects and plugging them together:"
   ]
  },
  {
   "cell_type": "markdown",
   "metadata": {},
   "source": [
    "### Configure through code.\n",
    "Restart the kernel here."
   ]
  },
  {
   "cell_type": "code",
   "execution_count": 2,
   "metadata": {},
   "outputs": [
    {
     "name": "stdout",
     "output_type": "stream",
     "text": [
      "INFO: Hello logging world\n"
     ]
    }
   ],
   "source": [
    "import logging\n",
    "import sys\n",
    "root_logger = logging.getLogger()\n",
    "handler = logging.StreamHandler(sys.stdout)\n",
    "formatter = logging.Formatter(\"%(levelname)s: %(message)s\")\n",
    "handler.setFormatter(formatter)\n",
    "root_logger.addHandler(handler)\n",
    "root_logger.setLevel(\"INFO\")\n",
    "logging.info(\"Hello logging world\")"
   ]
  },
  {
   "cell_type": "markdown",
   "metadata": {},
   "source": [
    "In this code, you get a handle of the root logger in the third line by calling getLogger without any arguments. You then create a stream handler, which will output to sys.stdout (the console) and a formatter to configure how we want the logs to look. Finally, you just need to bind them together by setting the formatter in the handler and the handler in the logger. You set the level in the logger, though you could also configure it in the handler."
   ]
  },
  {
   "cell_type": "markdown",
   "metadata": {},
   "source": [
    "### Configure with dictConfig.\n",
    "Restart the kernel here."
   ]
  },
  {
   "cell_type": "code",
   "execution_count": 2,
   "metadata": {},
   "outputs": [
    {
     "name": "stdout",
     "output_type": "stream",
     "text": [
      "INFO: Hello logging world\n"
     ]
    }
   ],
   "source": [
    "import logging\n",
    "from logging.config import dictConfig\n",
    "\n",
    "dictConfig({\n",
    "    \"version\": 1,\n",
    "    \"formatters\": {\n",
    "        \"short\":{\n",
    "            \"format\": \"%(levelname)s: %(message)s\",\n",
    "        }\n",
    "    },\n",
    "    \"handlers\": {\n",
    "        \"console\": {\n",
    "            \"class\": \"logging.StreamHandler\",\n",
    "            \"formatter\": \"short\",\n",
    "            \"stream\": \"ext://sys.stdout\",\n",
    "            \"level\": \"DEBUG\",\n",
    "        }\n",
    "    },\n",
    "    \"loggers\": {\n",
    "        \"\": {\n",
    "            \"handlers\": [\"console\"],\n",
    "            \"level\": \"INFO\"\n",
    "        }   \n",
    "    }\n",
    "})\n",
    "logging.info(\"Hello logging world\")"
   ]
  },
  {
   "cell_type": "markdown",
   "metadata": {},
   "source": [
    "The dictionary configuring the logging stack is identical to the code in Step 1. Many of the configuration parameters that are passed in as strings can also be passed as Python objects. For example, you can use sys.stdout instead of the string passed to the stream option or logging.INFO rather than INFO."
   ]
  },
  {
   "cell_type": "markdown",
   "metadata": {},
   "source": [
    "### Configure with basicConfig.\n",
    "Restart the kernel here."
   ]
  },
  {
   "cell_type": "code",
   "execution_count": 1,
   "metadata": {},
   "outputs": [
    {
     "name": "stdout",
     "output_type": "stream",
     "text": [
      "INFO: Hello there!\n"
     ]
    }
   ],
   "source": [
    "import sys\n",
    "import logging\n",
    "logging.basicConfig(\n",
    "    level=\"INFO\",\n",
    "    format=\"%(levelname)s: %(message)s\",\n",
    "    stream=sys.stdout\n",
    ")\n",
    "logging.info(\"Hello there!\")"
   ]
  },
  {
   "cell_type": "markdown",
   "metadata": {},
   "source": [
    "### Configure with fileconfig.\n",
    "Restart the kernel here."
   ]
  },
  {
   "cell_type": "code",
   "execution_count": 1,
   "metadata": {},
   "outputs": [
    {
     "name": "stdout",
     "output_type": "stream",
     "text": [
      "INFO: Hello there!\n"
     ]
    }
   ],
   "source": [
    "import logging\n",
    "from logging.config import fileConfig\n",
    "fileConfig(\"logging-config.ini\")\n",
    "logging.info(\"Hello there!\")"
   ]
  },
  {
   "cell_type": "markdown",
   "metadata": {},
   "source": [
    "### Exercise 95: Counting Words in a Text Document"
   ]
  },
  {
   "cell_type": "markdown",
   "metadata": {},
   "source": [
    "1. Get the list of words from this link, which is our source data:"
   ]
  },
  {
   "cell_type": "code",
   "execution_count": 2,
   "metadata": {},
   "outputs": [
    {
     "data": {
      "text/plain": [
       "858"
      ]
     },
     "execution_count": 2,
     "metadata": {},
     "output_type": "execute_result"
    }
   ],
   "source": [
    "import urllib.request\n",
    "url = 'https://www.w3.org/TR/PNG/iso_8859-1.txt'\n",
    "response = urllib.request.urlopen(url)\n",
    "words = response.read().decode().split()\n",
    "len(words)# 858"
   ]
  },
  {
   "cell_type": "markdown",
   "metadata": {},
   "source": [
    "Here, you are using urllib, another module within the standard library, to get the contents of the URL of this link. You can then read the content and split it based on spaces and break lines. You will be using words to play with the counter."
   ]
  },
  {
   "cell_type": "code",
   "execution_count": 3,
   "metadata": {},
   "outputs": [],
   "source": [
    "import collections\n",
    "word_counter = collections.Counter(words)"
   ]
  },
  {
   "cell_type": "markdown",
   "metadata": {},
   "source": [
    "This creates a counter with the list of words passed in through the words list. You can now perform the operations you want on the counter."
   ]
  },
  {
   "cell_type": "code",
   "execution_count": 4,
   "metadata": {},
   "outputs": [
    {
     "name": "stdout",
     "output_type": "stream",
     "text": [
      "LETTER - 114\n",
      "SMALL - 58\n",
      "CAPITAL - 56\n",
      "WITH - 55\n",
      "SIGN - 21\n"
     ]
    }
   ],
   "source": [
    "for word, count in word_counter.most_common(5):\n",
    "    print(word, \"-\", count)"
   ]
  },
  {
   "cell_type": "markdown",
   "metadata": {},
   "source": [
    "You can use the most_common method on the counter tmo get a list of tuples with all the words and the number of occurrences. You can also pass a limit as an argument that limits the number of results:\n"
   ]
  },
  {
   "cell_type": "markdown",
   "metadata": {},
   "source": [
    "4. Now, explore occurrences of some words, as shown in the following code snippet:"
   ]
  },
  {
   "cell_type": "code",
   "execution_count": 5,
   "metadata": {},
   "outputs": [
    {
     "name": "stdout",
     "output_type": "stream",
     "text": [
      "QUESTION - 2\n",
      "CIRCUMFLEX - 11\n",
      "DIGIT - 10\n",
      "PYTHON - 0\n"
     ]
    }
   ],
   "source": [
    "print(\"QUESTION\", \"-\", word_counter[\"QUESTION\"])\n",
    "print(\"CIRCUMFLEX\", \"-\", word_counter[\"CIRCUMFLEX\"])\n",
    "print(\"DIGIT\", \"-\", word_counter[\"DIGIT\"])\n",
    "print(\"PYTHON\", \"-\", word_counter[\"PYTHON\"])"
   ]
  },
  {
   "cell_type": "markdown",
   "metadata": {},
   "source": [
    "You can use the counter to explore the occurrences of specific words by just checking them with a key. Now check for QUESTION, CIRCUMFLEX, DIGIT, and PYTHON:\n"
   ]
  },
  {
   "cell_type": "markdown",
   "metadata": {},
   "source": [
    "Note how you can just query the counter with a key to get the number of occurrences. Something else interesting to note is that when you query for a word that does not exist, you get 0. Some users might have expected a KeyError.\n",
    "\n",
    "In this exercise, you just learned how to get a text file from the internet and perform some basic processing operations, such as counting the number of words."
   ]
  },
  {
   "cell_type": "markdown",
   "metadata": {},
   "source": [
    "### Exercise 96: Refactoring Code with defaultdict"
   ]
  },
  {
   "cell_type": "markdown",
   "metadata": {},
   "source": [
    "In this exercise, you will learn how to refactor code and simplify it by using defaultdict:"
   ]
  },
  {
   "cell_type": "code",
   "execution_count": 8,
   "metadata": {},
   "outputs": [],
   "source": [
    "_audit = {}\n",
    "\n",
    "def add_audit(area, action):\n",
    "    if area in _audit:\n",
    "        _audit[area].append(action)\n",
    "    else:\n",
    "        _audit[area] = [action]\n",
    "        \n",
    "def report_audit():\n",
    "    for area, actions in _audit.items():\n",
    "        print(f\"{area} audit:\")\n",
    "        for action in actions:\n",
    "            print(f\"- {action}\")\n",
    "        print()"
   ]
  },
  {
   "cell_type": "markdown",
   "metadata": {},
   "source": [
    "The code template mentioned earlier in this exercise keeps an audit of all the actions that are performed in a company. They are split by area and the dictionary that was used. You can clearly see in the add_audit function the pattern we spoke about before. You will see how you can transform that into simpler code by using defaultdict and how it could be later extended in a simpler way:\n",
    "\n",
    "1. Run the code that keeps an audit of all the actions, as mentioned previously. First, run the code to see how it behaves. Before doing any refactoring, you should understand what you are trying to change, and ideally, have tests for it"
   ]
  },
  {
   "cell_type": "code",
   "execution_count": 10,
   "metadata": {},
   "outputs": [
    {
     "name": "stdout",
     "output_type": "stream",
     "text": [
      "HR audit:\n",
      "- Hired Sam\n",
      "- Hired Tom\n",
      "- Hired Sam\n",
      "- Hired Tom\n",
      "\n",
      "Finance audit:\n",
      "- Used 1000£\n",
      "- Used 1000£\n",
      "\n"
     ]
    }
   ],
   "source": [
    "add_audit(\"HR\", \"Hired Sam\")\n",
    "add_audit(\"Finance\", \"Used 1000£\")\n",
    "add_audit(\"HR\", \"Hired Tom\")\n",
    "report_audit()"
   ]
  },
  {
   "cell_type": "markdown",
   "metadata": {},
   "source": [
    "You can see that this works as expected, and you can add items to the audit and report them.\n",
    "\n",
    "2. Introduce a defaultdict. You can change dict for defaultdict and just create a list whenever you try to access a key that does not exist. This will need to be done only in the add_audit function. As report_audit uses the object as a dictionary and defaultdict is a dictionary, you don't need to change anything in that function. You will see how it will look in the following code snippet:"
   ]
  },
  {
   "cell_type": "code",
   "execution_count": 12,
   "metadata": {},
   "outputs": [],
   "source": [
    "import collections\n",
    "_audit = collections.defaultdict(list)\n",
    "def add_audit(area, action):\n",
    "    _audit[area].append(action)\n",
    "        \n",
    "def report_audit():\n",
    "    for area, actions in _audit.items():\n",
    "        print(f\"{area} audit:\")\n",
    "        for action in actions:\n",
    "            print(f\"- {action}\")\n",
    "        print()"
   ]
  },
  {
   "cell_type": "code",
   "execution_count": 16,
   "metadata": {},
   "outputs": [
    {
     "name": "stdout",
     "output_type": "stream",
     "text": [
      "HR audit:\n",
      "- Area created\n",
      "- Hired Sam\n",
      "- Hired Tom\n",
      "Finance audit:\n",
      "- Area created\n",
      "- Used 1000£\n"
     ]
    }
   ],
   "source": [
    "add_audit(\"HR\", \"Hired Sam\")\n",
    "add_audit(\"Finance\", \"Used 1000£\")\n",
    "add_audit(\"HR\", \"Hired Tom\")\n",
    "report_audit()"
   ]
  },
  {
   "cell_type": "markdown",
   "metadata": {},
   "source": [
    "When a key is not found in the _audit object, our defaultdict just calls the list method, which returns an empty list. The code could not be any simpler. What about if you are asked to log the creation of an area in the audit? Basically, whenever a new area is created in our audit object, it should have an element present called \"Area Created\". The developer that initially wrote the code claims that it was easier to change with the old layout, without using defaultdict."
   ]
  },
  {
   "cell_type": "markdown",
   "metadata": {},
   "source": [
    "3. Use the add_audit function to create the first element. The code without defaultdict for add_audit will be as follows:"
   ]
  },
  {
   "cell_type": "code",
   "execution_count": 14,
   "metadata": {},
   "outputs": [],
   "source": [
    "def add_audit(area, action):\n",
    "    if area not in _audit:\n",
    "        _audit[area] = [\"Area created\"]\n",
    "    _audit[area].append(action)"
   ]
  },
  {
   "cell_type": "markdown",
   "metadata": {},
   "source": [
    "The code change performed in add_audit is much more complex than the one you will have to perform in your function with defaultdict. With defaultdict, you just need to change the factory method from being a list to being a list with the initial string:"
   ]
  },
  {
   "cell_type": "code",
   "execution_count": 15,
   "metadata": {},
   "outputs": [],
   "source": [
    "import collections\n",
    "_audit = collections.defaultdict(lambda: [\"Area created\"])\n",
    "def add_audit(area, action):\n",
    "    _audit[area].append(action)\n",
    "        \n",
    "def report_audit():\n",
    "    for area, actions in _audit.items():\n",
    "        print(f\"{area} audit:\")\n",
    "        for action in actions:\n",
    "            print(f\"- {action}\")"
   ]
  },
  {
   "cell_type": "code",
   "execution_count": 17,
   "metadata": {
    "scrolled": true
   },
   "outputs": [
    {
     "name": "stdout",
     "output_type": "stream",
     "text": [
      "HR audit:\n",
      "- Area created\n",
      "- Hired Sam\n",
      "- Hired Tom\n",
      "- Hired Sam\n",
      "- Hired Tom\n",
      "Finance audit:\n",
      "- Area created\n",
      "- Used 1000£\n",
      "- Used 1000£\n"
     ]
    }
   ],
   "source": [
    "add_audit(\"HR\", \"Hired Sam\")\n",
    "add_audit(\"Finance\", \"Used 1000£\")\n",
    "add_audit(\"HR\", \"Hired Tom\")\n",
    "report_audit()"
   ]
  },
  {
   "cell_type": "markdown",
   "metadata": {},
   "source": [
    "### Exercise 97: Using lru_cache to Speed Up Our Code"
   ]
  },
  {
   "cell_type": "markdown",
   "metadata": {},
   "source": [
    "In this exercise, you will see how to configure a function to use cache with functools and to reuse the results from previous calls to speed up the overall process.\n",
    "\n",
    "You use the lru cache function of the functools module to reuse values that a function has already returned without having to execute them again.\n",
    "\n",
    "We will start with a function that is mentioned in the following code snippet, which simulates taking a long time to compute, and we will see how we can improve this:"
   ]
  },
  {
   "cell_type": "code",
   "execution_count": 18,
   "metadata": {},
   "outputs": [],
   "source": [
    "import time\n",
    "def func(x):\n",
    "    time.sleep(1)\n",
    "    print(f\"Heavy operation for {x}\")\n",
    "    return x * 10"
   ]
  },
  {
   "cell_type": "markdown",
   "metadata": {},
   "source": [
    "If we call this function twice with the same arguments, we will be executing the code twice to get the same result:"
   ]
  },
  {
   "cell_type": "code",
   "execution_count": 19,
   "metadata": {},
   "outputs": [
    {
     "name": "stdout",
     "output_type": "stream",
     "text": [
      "Heavy operation for 1\n",
      "Func returned: 10\n",
      "Heavy operation for 1\n",
      "Func returned: 10\n"
     ]
    }
   ],
   "source": [
    "print(\"Func returned:\", func(1))\n",
    "print(\"Func returned:\", func(1))"
   ]
  },
  {
   "cell_type": "markdown",
   "metadata": {},
   "source": [
    "We can see this in the output and the print within the function, which happens twice. This is a clear improvement in performance as, once the function is executed, future executions are practically free. Now, we will improve the performance in the steps that follow:\n"
   ]
  },
  {
   "cell_type": "markdown",
   "metadata": {},
   "source": [
    "1. Add the lru cache decorator to the func function: The first step is to use the decorator on our function:"
   ]
  },
  {
   "cell_type": "code",
   "execution_count": 25,
   "metadata": {},
   "outputs": [],
   "source": [
    "import functools\n",
    "import time\n",
    "@functools.lru_cache()\n",
    "def func(x):\n",
    "    time.sleep(1)\n",
    "    print(f\"Heavy operation for {x}\")\n",
    "    return x * 10"
   ]
  },
  {
   "cell_type": "code",
   "execution_count": 27,
   "metadata": {},
   "outputs": [
    {
     "name": "stdout",
     "output_type": "stream",
     "text": [
      "Func returned: 10\n",
      "Func returned: 10\n",
      "Heavy operation for 2\n",
      "Func returned: 20\n"
     ]
    }
   ],
   "source": [
    "print(\"Func returned:\", func(1))\n",
    "print(\"Func returned:\", func(1))\n",
    "print(\"Func returned:\", func(2))"
   ]
  },
  {
   "cell_type": "markdown",
   "metadata": {},
   "source": [
    "Note: The Heavy operation only happens once for 1. We are also calling 2 here to show that the value is different based on its input, and, since 2 was not cached before, it has to execute the code for it."
   ]
  },
  {
   "cell_type": "markdown",
   "metadata": {},
   "source": [
    "This is extremely useful; with just one line of code, we have at hand a fully working implementation of an LRU cache."
   ]
  },
  {
   "cell_type": "markdown",
   "metadata": {},
   "source": [
    "2. Change the cache size using the maxsize argument. The cache comes with a default size of 128 elements, but this can be changed if needed, through the maxsize argument:"
   ]
  },
  {
   "cell_type": "code",
   "execution_count": 1,
   "metadata": {},
   "outputs": [],
   "source": [
    "import functools\n",
    "import time\n",
    "@functools.lru_cache(maxsize=2)\n",
    "def func(x):\n",
    "    time.sleep(1)\n",
    "    print(f\"Heavy operation for {x}\")\n",
    "    return x * 10"
   ]
  },
  {
   "cell_type": "markdown",
   "metadata": {},
   "source": [
    "By setting it to 2, we are sure that only two different inputs will be saved. We can see this by using three different inputs and calling them in reverse order later:"
   ]
  },
  {
   "cell_type": "code",
   "execution_count": 2,
   "metadata": {},
   "outputs": [
    {
     "name": "stdout",
     "output_type": "stream",
     "text": [
      "Heavy operation for 1\n",
      "Func returned: 10\n",
      "Heavy operation for 2\n",
      "Func returned: 20\n",
      "Heavy operation for 3\n",
      "Func returned: 30\n",
      "Func returned: 30\n",
      "Func returned: 20\n",
      "Heavy operation for 1\n",
      "Func returned: 10\n"
     ]
    }
   ],
   "source": [
    "print(\"Func returned:\", func(1))\n",
    "print(\"Func returned:\", func(2))\n",
    "print(\"Func returned:\", func(3))\n",
    "print(\"Func returned:\", func(3))\n",
    "print(\"Func returned:\", func(2))\n",
    "print(\"Func returned:\", func(1))"
   ]
  },
  {
   "cell_type": "markdown",
   "metadata": {},
   "source": [
    "The cache successfully returned the previous values for the second call of 2 and 3, but the result for 1 was destroyed once 3 arrived, since we limited the size to two elements only."
   ]
  },
  {
   "cell_type": "markdown",
   "metadata": {},
   "source": [
    "3. Now, use it in other functions. Sometimes, the functions you want to cache are not in our control to change. If you want to keep both versions, that is, a cached and an uncached one, we can achieve this by using the lru_cache function just as a function and not as a decorator, as decorators are just functions that take another function as an argument:"
   ]
  },
  {
   "cell_type": "code",
   "execution_count": 3,
   "metadata": {},
   "outputs": [],
   "source": [
    "import functools\n",
    "import time\n",
    "def func(x):\n",
    "    time.sleep(1)\n",
    "    print(f\"Heavy operation for {x}\")\n",
    "    return x * 10\n",
    "cached_func = functools.lru_cache()(func)"
   ]
  },
  {
   "cell_type": "markdown",
   "metadata": {},
   "source": [
    "Now, we can use either func or its cached version, cached_func:"
   ]
  },
  {
   "cell_type": "code",
   "execution_count": 4,
   "metadata": {},
   "outputs": [
    {
     "name": "stdout",
     "output_type": "stream",
     "text": [
      "Heavy operation for 1\n",
      "Cached func returned: 10\n",
      "Cached func returned: 10\n",
      "Heavy operation for 1\n",
      "Func returned: 10\n",
      "Heavy operation for 1\n",
      "Func returned: 10\n"
     ]
    }
   ],
   "source": [
    "print(\"Cached func returned:\", cached_func(1))\n",
    "print(\"Cached func returned:\", cached_func(1))\n",
    "print(\"Func returned:\", func(1))\n",
    "print(\"Func returned:\", func(1))"
   ]
  },
  {
   "cell_type": "markdown",
   "metadata": {},
   "source": [
    "We can see how the cached version of the function did not execute the code in the second call, but the uncached version did.\n",
    "\n",
    "You just learned how to use functools to cache the values of a function. This is a really quick way to improve the performance of your application when applicable."
   ]
  },
  {
   "cell_type": "markdown",
   "metadata": {},
   "source": [
    "### Partial"
   ]
  },
  {
   "cell_type": "markdown",
   "metadata": {},
   "source": [
    "Another often used function in functools is partial. partial allows us to adapt existing functions by providing values for some of their arguments. It is like binding arguments in other languages, such as C++ or JavaScript, but this is what you would expect from a Python function. partial can be used to remove the need for specifying positional or keyword arguments, which makes it useful when we need to pass a function that takes arguments as a function that does not take them. Have look at some examples:"
   ]
  },
  {
   "cell_type": "code",
   "execution_count": 6,
   "metadata": {},
   "outputs": [
    {
     "name": "stdout",
     "output_type": "stream",
     "text": [
      "x: 1\n",
      "y: 2\n",
      "z: 3\n"
     ]
    }
   ],
   "source": [
    "def func(x, y, z):\n",
    "    print(\"x:\", x)\n",
    "    print(\"y:\", y)\n",
    "    print(\"z:\", z)\n",
    "func(1, 2, 3)"
   ]
  },
  {
   "cell_type": "code",
   "execution_count": 7,
   "metadata": {},
   "outputs": [
    {
     "name": "stdout",
     "output_type": "stream",
     "text": [
      "x: 1\n",
      "y: 2\n",
      "z: Wops\n"
     ]
    }
   ],
   "source": [
    "import functools\n",
    "new_func = functools.partial(func, z='Wops')\n",
    "new_func(1, 2)"
   ]
  },
  {
   "cell_type": "code",
   "execution_count": 8,
   "metadata": {},
   "outputs": [
    {
     "name": "stdout",
     "output_type": "stream",
     "text": [
      "x: Wops\n",
      "y: 1\n",
      "z: 2\n"
     ]
    }
   ],
   "source": [
    "import functools\n",
    "new_func = functools.partial(func, 'Wops')\n",
    "new_func(1, 2)"
   ]
  },
  {
   "cell_type": "markdown",
   "metadata": {},
   "source": [
    "### Exercise 98: Creating a print Function That Writes to stderr"
   ]
  },
  {
   "cell_type": "markdown",
   "metadata": {},
   "source": [
    "By using partial, you can also rebind the optional arguments to a different default, allowing us to change the default value that the function has. You will see how you can repurpose the print function to create a print_stderr function that just writes to stderr.\n",
    "\n",
    "In this exercise, you will create a function that acts like print, but the output is stderr rather than stdout:\n",
    "\n"
   ]
  },
  {
   "cell_type": "markdown",
   "metadata": {},
   "source": [
    "1. Explore the print argument. To start, you need to explore the arguments that print takes are. You will call help on print to see what the documentation offers:"
   ]
  },
  {
   "cell_type": "code",
   "execution_count": 9,
   "metadata": {},
   "outputs": [
    {
     "name": "stdout",
     "output_type": "stream",
     "text": [
      "Help on built-in function print in module builtins:\n",
      "\n",
      "print(...)\n",
      "    print(value, ..., sep=' ', end='\\n', file=sys.stdout, flush=False)\n",
      "    \n",
      "    Prints the values to a stream, or to sys.stdout by default.\n",
      "    Optional keyword arguments:\n",
      "    file:  a file-like object (stream); defaults to the current sys.stdout.\n",
      "    sep:   string inserted between values, default a space.\n",
      "    end:   string appended after the last value, default a newline.\n",
      "    flush: whether to forcibly flush the stream.\n",
      "\n"
     ]
    }
   ],
   "source": [
    "help(print)"
   ]
  },
  {
   "cell_type": "markdown",
   "metadata": {},
   "source": [
    "The argument that you are interested in is the file, which allows us to specify the stream you want to write to.\n",
    "\n",
    "2.Print to stderr. Now, print the default value for the optional argument file, which is sys.stdout, but you can pass sys.stderr to get the behavior you are looking for:"
   ]
  },
  {
   "cell_type": "code",
   "execution_count": 10,
   "metadata": {},
   "outputs": [
    {
     "name": "stderr",
     "output_type": "stream",
     "text": [
      "Hello stderr\n"
     ]
    }
   ],
   "source": [
    "import sys\n",
    "print(\"Hello stderr\", file=sys.stderr)"
   ]
  },
  {
   "cell_type": "markdown",
   "metadata": {},
   "source": [
    "As you are printing to stderr, the output appears in red as expected.\n",
    "\n",
    "3. Use partial to change the default. You can use partial to specify arguments to be passed and create a new function. You will bind file to stderr and see the output:"
   ]
  },
  {
   "cell_type": "code",
   "execution_count": 13,
   "metadata": {},
   "outputs": [
    {
     "name": "stderr",
     "output_type": "stream",
     "text": [
      "Hello stderr\n"
     ]
    }
   ],
   "source": [
    "import functools\n",
    "print_stderr = functools.partial(print, file=sys.stderr)\n",
    "print_stderr(\"Hello stderr\")"
   ]
  },
  {
   "cell_type": "markdown",
   "metadata": {},
   "source": [
    "Great – this works as expected; we now have a function that has changed the default value for the optional file argument."
   ]
  },
  {
   "cell_type": "markdown",
   "metadata": {},
   "source": [
    "## Activity 17: Using partial on class Methods"
   ]
  },
  {
   "cell_type": "code",
   "execution_count": 15,
   "metadata": {},
   "outputs": [],
   "source": [
    "import functools\n",
    "class Hero:\n",
    "    DEFAULT_NAME = \"Superman\"\n",
    "    def __init__(self):\n",
    "        self.name = Hero.DEFAULT_NAME\n",
    "   \n",
    "    def rename(self, new_name):\n",
    "        self.name = new_name\n",
    "   \n",
    "    reset_name = functools.partial(rename, DEFAULT_NAME)\n",
    "   \n",
    "    def __repr__(self):\n",
    "        return f\"Hero({self.name!r})\""
   ]
  },
  {
   "cell_type": "code",
   "execution_count": 16,
   "metadata": {},
   "outputs": [
    {
     "ename": "TypeError",
     "evalue": "rename() missing 1 required positional argument: 'new_name'",
     "output_type": "error",
     "traceback": [
      "\u001b[1;31m---------------------------------------------------------------------------\u001b[0m",
      "\u001b[1;31mTypeError\u001b[0m                                 Traceback (most recent call last)",
      "\u001b[1;32m<ipython-input-16-ce861c486c33>\u001b[0m in \u001b[0;36m<module>\u001b[1;34m\u001b[0m\n\u001b[0;32m      4\u001b[0m     \u001b[0mhero\u001b[0m\u001b[1;33m.\u001b[0m\u001b[0mrename\u001b[0m\u001b[1;33m(\u001b[0m\u001b[1;34m\"Batman\"\u001b[0m\u001b[1;33m)\u001b[0m\u001b[1;33m\u001b[0m\u001b[1;33m\u001b[0m\u001b[0m\n\u001b[0;32m      5\u001b[0m     \u001b[1;32massert\u001b[0m \u001b[0mhero\u001b[0m\u001b[1;33m.\u001b[0m\u001b[0mname\u001b[0m \u001b[1;33m==\u001b[0m \u001b[1;34m\"Batman\"\u001b[0m\u001b[1;33m\u001b[0m\u001b[1;33m\u001b[0m\u001b[0m\n\u001b[1;32m----> 6\u001b[1;33m     \u001b[0mhero\u001b[0m\u001b[1;33m.\u001b[0m\u001b[0mreset_name\u001b[0m\u001b[1;33m(\u001b[0m\u001b[1;33m)\u001b[0m\u001b[1;33m\u001b[0m\u001b[1;33m\u001b[0m\u001b[0m\n\u001b[0m\u001b[0;32m      7\u001b[0m     \u001b[1;32massert\u001b[0m \u001b[0mhero\u001b[0m\u001b[1;33m.\u001b[0m\u001b[0mname\u001b[0m \u001b[1;33m==\u001b[0m \u001b[1;34m\"Superman\"\u001b[0m\u001b[1;33m\u001b[0m\u001b[1;33m\u001b[0m\u001b[0m\n",
      "\u001b[1;31mTypeError\u001b[0m: rename() missing 1 required positional argument: 'new_name'"
     ]
    }
   ],
   "source": [
    "if __name__ == \"__main__\":\n",
    "    hero = Hero()\n",
    "    assert hero.name == \"Superman\"\n",
    "    hero.rename(\"Batman\")\n",
    "    assert hero.name == \"Batman\"\n",
    "    hero.reset_name()\n",
    "    assert hero.name == \"Superman\""
   ]
  },
  {
   "cell_type": "code",
   "execution_count": 17,
   "metadata": {},
   "outputs": [
    {
     "name": "stdout",
     "output_type": "stream",
     "text": [
      "Help on module functools:\n",
      "\n",
      "NAME\n",
      "    functools - functools.py - Tools for working with functions and callable objects\n",
      "\n",
      "MODULE REFERENCE\n",
      "    https://docs.python.org/3.8/library/functools\n",
      "    \n",
      "    The following documentation is automatically generated from the Python\n",
      "    source files.  It may be incomplete, incorrect or include features that\n",
      "    are considered implementation detail and may vary between Python\n",
      "    implementations.  When in doubt, consult the module reference at the\n",
      "    location listed above.\n",
      "\n",
      "CLASSES\n",
      "    builtins.object\n",
      "        cached_property\n",
      "        partial\n",
      "        partialmethod\n",
      "        singledispatchmethod\n",
      "    \n",
      "    class cached_property(builtins.object)\n",
      "     |  cached_property(func)\n",
      "     |  \n",
      "     |  Methods defined here:\n",
      "     |  \n",
      "     |  __get__(self, instance, owner=None)\n",
      "     |  \n",
      "     |  __init__(self, func)\n",
      "     |      Initialize self.  See help(type(self)) for accurate signature.\n",
      "     |  \n",
      "     |  __set_name__(self, owner, name)\n",
      "     |  \n",
      "     |  ----------------------------------------------------------------------\n",
      "     |  Data descriptors defined here:\n",
      "     |  \n",
      "     |  __dict__\n",
      "     |      dictionary for instance variables (if defined)\n",
      "     |  \n",
      "     |  __weakref__\n",
      "     |      list of weak references to the object (if defined)\n",
      "    \n",
      "    class partial(builtins.object)\n",
      "     |  partial(func, *args, **keywords) - new function with partial application\n",
      "     |  of the given arguments and keywords.\n",
      "     |  \n",
      "     |  Methods defined here:\n",
      "     |  \n",
      "     |  __call__(self, /, *args, **kwargs)\n",
      "     |      Call self as a function.\n",
      "     |  \n",
      "     |  __delattr__(self, name, /)\n",
      "     |      Implement delattr(self, name).\n",
      "     |  \n",
      "     |  __getattribute__(self, name, /)\n",
      "     |      Return getattr(self, name).\n",
      "     |  \n",
      "     |  __reduce__(...)\n",
      "     |      Helper for pickle.\n",
      "     |  \n",
      "     |  __repr__(self, /)\n",
      "     |      Return repr(self).\n",
      "     |  \n",
      "     |  __setattr__(self, name, value, /)\n",
      "     |      Implement setattr(self, name, value).\n",
      "     |  \n",
      "     |  __setstate__(...)\n",
      "     |  \n",
      "     |  ----------------------------------------------------------------------\n",
      "     |  Static methods defined here:\n",
      "     |  \n",
      "     |  __new__(*args, **kwargs) from builtins.type\n",
      "     |      Create and return a new object.  See help(type) for accurate signature.\n",
      "     |  \n",
      "     |  ----------------------------------------------------------------------\n",
      "     |  Data descriptors defined here:\n",
      "     |  \n",
      "     |  __dict__\n",
      "     |  \n",
      "     |  args\n",
      "     |      tuple of arguments to future partial calls\n",
      "     |  \n",
      "     |  func\n",
      "     |      function object to use in future partial calls\n",
      "     |  \n",
      "     |  keywords\n",
      "     |      dictionary of keyword arguments to future partial calls\n",
      "    \n",
      "    class partialmethod(builtins.object)\n",
      "     |  partialmethod(func, /, *args, **keywords)\n",
      "     |  \n",
      "     |  Method descriptor with partial application of the given arguments\n",
      "     |  and keywords.\n",
      "     |  \n",
      "     |  Supports wrapping existing descriptors and handles non-descriptor\n",
      "     |  callables as instance methods.\n",
      "     |  \n",
      "     |  Methods defined here:\n",
      "     |  \n",
      "     |  __get__(self, obj, cls=None)\n",
      "     |  \n",
      "     |  __init__(self, func, /, *args, **keywords)\n",
      "     |      Initialize self.  See help(type(self)) for accurate signature.\n",
      "     |  \n",
      "     |  __repr__(self)\n",
      "     |      Return repr(self).\n",
      "     |  \n",
      "     |  ----------------------------------------------------------------------\n",
      "     |  Readonly properties defined here:\n",
      "     |  \n",
      "     |  __isabstractmethod__\n",
      "     |  \n",
      "     |  ----------------------------------------------------------------------\n",
      "     |  Data descriptors defined here:\n",
      "     |  \n",
      "     |  __dict__\n",
      "     |      dictionary for instance variables (if defined)\n",
      "     |  \n",
      "     |  __weakref__\n",
      "     |      list of weak references to the object (if defined)\n",
      "    \n",
      "    class singledispatchmethod(builtins.object)\n",
      "     |  singledispatchmethod(func)\n",
      "     |  \n",
      "     |  Single-dispatch generic method descriptor.\n",
      "     |  \n",
      "     |  Supports wrapping existing descriptors and handles non-descriptor\n",
      "     |  callables as instance methods.\n",
      "     |  \n",
      "     |  Methods defined here:\n",
      "     |  \n",
      "     |  __get__(self, obj, cls=None)\n",
      "     |  \n",
      "     |  __init__(self, func)\n",
      "     |      Initialize self.  See help(type(self)) for accurate signature.\n",
      "     |  \n",
      "     |  register(self, cls, method=None)\n",
      "     |      generic_method.register(cls, func) -> func\n",
      "     |      \n",
      "     |      Registers a new implementation for the given *cls* on a *generic_method*.\n",
      "     |  \n",
      "     |  ----------------------------------------------------------------------\n",
      "     |  Readonly properties defined here:\n",
      "     |  \n",
      "     |  __isabstractmethod__\n",
      "     |  \n",
      "     |  ----------------------------------------------------------------------\n",
      "     |  Data descriptors defined here:\n",
      "     |  \n",
      "     |  __dict__\n",
      "     |      dictionary for instance variables (if defined)\n",
      "     |  \n",
      "     |  __weakref__\n",
      "     |      list of weak references to the object (if defined)\n",
      "\n",
      "FUNCTIONS\n",
      "    cmp_to_key(...)\n",
      "        Convert a cmp= function into a key= function.\n",
      "    \n",
      "    lru_cache(maxsize=128, typed=False)\n",
      "        Least-recently-used cache decorator.\n",
      "        \n",
      "        If *maxsize* is set to None, the LRU features are disabled and the cache\n",
      "        can grow without bound.\n",
      "        \n",
      "        If *typed* is True, arguments of different types will be cached separately.\n",
      "        For example, f(3.0) and f(3) will be treated as distinct calls with\n",
      "        distinct results.\n",
      "        \n",
      "        Arguments to the cached function must be hashable.\n",
      "        \n",
      "        View the cache statistics named tuple (hits, misses, maxsize, currsize)\n",
      "        with f.cache_info().  Clear the cache and statistics with f.cache_clear().\n",
      "        Access the underlying function with f.__wrapped__.\n",
      "        \n",
      "        See:  http://en.wikipedia.org/wiki/Cache_replacement_policies#Least_recently_used_(LRU)\n",
      "    \n",
      "    reduce(...)\n",
      "        reduce(function, sequence[, initial]) -> value\n",
      "        \n",
      "        Apply a function of two arguments cumulatively to the items of a sequence,\n",
      "        from left to right, so as to reduce the sequence to a single value.\n",
      "        For example, reduce(lambda x, y: x+y, [1, 2, 3, 4, 5]) calculates\n",
      "        ((((1+2)+3)+4)+5).  If initial is present, it is placed before the items\n",
      "        of the sequence in the calculation, and serves as a default when the\n",
      "        sequence is empty.\n",
      "    \n",
      "    singledispatch(func)\n",
      "        Single-dispatch generic function decorator.\n",
      "        \n",
      "        Transforms a function into a generic function, which can have different\n",
      "        behaviours depending upon the type of its first argument. The decorated\n",
      "        function acts as the default implementation, and additional\n",
      "        implementations can be registered using the register() attribute of the\n",
      "        generic function.\n",
      "    \n",
      "    total_ordering(cls)\n",
      "        Class decorator that fills in missing ordering methods\n",
      "    \n",
      "    update_wrapper(wrapper, wrapped, assigned=('__module__', '__name__', '__qualname__', '__doc__', '__annotations__'), updated=('__dict__',))\n",
      "        Update a wrapper function to look like the wrapped function\n",
      "        \n",
      "        wrapper is the function to be updated\n",
      "        wrapped is the original function\n",
      "        assigned is a tuple naming the attributes assigned directly\n",
      "        from the wrapped function to the wrapper function (defaults to\n",
      "        functools.WRAPPER_ASSIGNMENTS)\n",
      "        updated is a tuple naming the attributes of the wrapper that\n",
      "        are updated with the corresponding attribute from the wrapped\n",
      "        function (defaults to functools.WRAPPER_UPDATES)\n",
      "    \n",
      "    wraps(wrapped, assigned=('__module__', '__name__', '__qualname__', '__doc__', '__annotations__'), updated=('__dict__',))\n",
      "        Decorator factory to apply update_wrapper() to a wrapper function\n",
      "        \n",
      "        Returns a decorator that invokes update_wrapper() with the decorated\n",
      "        function as the wrapper argument and the arguments to wraps() as the\n",
      "        remaining arguments. Default arguments are as for update_wrapper().\n",
      "        This is a convenience function to simplify applying partial() to\n",
      "        update_wrapper().\n",
      "\n",
      "DATA\n",
      "    WRAPPER_ASSIGNMENTS = ('__module__', '__name__', '__qualname__', '__do...\n",
      "    WRAPPER_UPDATES = ('__dict__',)\n",
      "    __all__ = ['update_wrapper', 'wraps', 'WRAPPER_ASSIGNMENTS', 'WRAPPER_...\n",
      "\n",
      "FILE\n",
      "    c:\\users\\ychzsh\\anaconda3\\lib\\functools.py\n",
      "\n",
      "\n"
     ]
    }
   ],
   "source": [
    "help (functools)"
   ]
  },
  {
   "cell_type": "code",
   "execution_count": 29,
   "metadata": {},
   "outputs": [],
   "source": [
    "import functools\n",
    "\n",
    "class Hero:\n",
    "    DEFAULT_NAME = \"Superman\"\n",
    "    def __init__(self):\n",
    "        self.name = Hero.DEFAULT_NAME\n",
    "   \n",
    "    def rename(self, new_name):\n",
    "        self.name = new_name\n",
    "   \n",
    "    reset_name = functools.partialmethod(rename, DEFAULT_NAME)\n",
    "   \n",
    "    def __repr__(self):\n",
    "        return f\"Hero({self.name!r})\""
   ]
  },
  {
   "cell_type": "code",
   "execution_count": 30,
   "metadata": {},
   "outputs": [],
   "source": [
    "hero = Hero()\n",
    "assert hero.name == \"Superman\"\n",
    "hero.rename(\"Batman\")\n",
    "assert hero.name == \"Batman\"\n",
    "hero.reset_name()\n",
    "assert hero.name == \"Superman\""
   ]
  },
  {
   "cell_type": "code",
   "execution_count": null,
   "metadata": {},
   "outputs": [],
   "source": []
  }
 ],
 "metadata": {
  "kernelspec": {
   "display_name": "Python 3",
   "language": "python",
   "name": "python3"
  },
  "language_info": {
   "codemirror_mode": {
    "name": "ipython",
    "version": 3
   },
   "file_extension": ".py",
   "mimetype": "text/x-python",
   "name": "python",
   "nbconvert_exporter": "python",
   "pygments_lexer": "ipython3",
   "version": "3.8.3"
  }
 },
 "nbformat": 4,
 "nbformat_minor": 2
}
