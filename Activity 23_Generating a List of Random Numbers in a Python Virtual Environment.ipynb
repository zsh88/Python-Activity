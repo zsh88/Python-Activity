{
 "cells": [
  {
   "cell_type": "code",
   "execution_count": 1,
   "metadata": {},
   "outputs": [],
   "source": [
    "import threading\n",
    "import queue\n",
    "import cProfile\n",
    "import itertools\n",
    "import numpy as np\n",
    "np.random.seed(0)"
   ]
  },
  {
   "cell_type": "code",
   "execution_count": 2,
   "metadata": {},
   "outputs": [],
   "source": [
    "in_queue = queue.Queue()\n",
    "out_queue = queue.Queue()\n",
    "def random_number_threading():\n",
    "    while True:\n",
    "        n = in_queue.get()\n",
    "        if n == 'STOP':\n",
    "            return\n",
    "        random_numbers = np.random.rand(n)\n",
    "        out_queue.put(random_numbers)"
   ]
  },
  {
   "cell_type": "code",
   "execution_count": 3,
   "metadata": {},
   "outputs": [],
   "source": [
    "def generate_random_numbers(show_output, up_to):\n",
    "    thread = threading.Thread(target=random_number_threading)\n",
    "    thread.start()\n",
    "    for i in range(up_to):\n",
    "        in_queue.put(i)\n",
    "        random_nums = out_queue.get()\n",
    "        if show_output:\n",
    "            print(random_nums)\n",
    "    in_queue.put('STOP')\n",
    "    thread.join()"
   ]
  },
  {
   "cell_type": "code",
   "execution_count": 4,
   "metadata": {},
   "outputs": [
    {
     "name": "stdout",
     "output_type": "stream",
     "text": [
      "[]\n",
      "[0.5488135]\n",
      "[0.71518937 0.60276338]\n",
      "[0.54488318 0.4236548  0.64589411]\n",
      "[0.43758721 0.891773   0.96366276 0.38344152]\n",
      "[0.79172504 0.52889492 0.56804456 0.92559664 0.07103606]\n",
      "[0.0871293  0.0202184  0.83261985 0.77815675 0.87001215 0.97861834]\n",
      "[0.79915856 0.46147936 0.78052918 0.11827443 0.63992102 0.14335329\n",
      " 0.94466892]\n",
      "[0.52184832 0.41466194 0.26455561 0.77423369 0.45615033 0.56843395\n",
      " 0.0187898  0.6176355 ]\n",
      "[0.61209572 0.616934   0.94374808 0.6818203  0.3595079  0.43703195\n",
      " 0.6976312  0.06022547 0.66676672]\n"
     ]
    }
   ],
   "source": [
    "generate_random_numbers(True, 10)\n"
   ]
  },
  {
   "cell_type": "code",
   "execution_count": 5,
   "metadata": {},
   "outputs": [
    {
     "name": "stdout",
     "output_type": "stream",
     "text": [
      "         740057 function calls in 15.894 seconds\n",
      "\n",
      "   Ordered by: standard name\n",
      "\n",
      "   ncalls  tottime  percall  cumtime  percall filename:lineno(function)\n",
      "        1    0.247    0.247   15.879   15.879 <ipython-input-3-04f1b90debed>:1(generate_random_numbers)\n",
      "        1    0.001    0.001   15.880   15.880 <string>:1(<module>)\n",
      "        1    0.000    0.000    0.000    0.000 _weakrefset.py:38(_remove)\n",
      "        1    0.000    0.000    0.000    0.000 _weakrefset.py:81(add)\n",
      "    20001    0.296    0.000    1.194    0.000 queue.py:121(put)\n",
      "    20000    0.577    0.000   14.382    0.001 queue.py:153(get)\n",
      "    40000    0.157    0.000    0.237    0.000 queue.py:208(_qsize)\n",
      "    20001    0.075    0.000    0.110    0.000 queue.py:212(_put)\n",
      "    20000    0.075    0.000    0.107    0.000 queue.py:216(_get)\n",
      "        1    0.000    0.000    0.000    0.000 threading.py:1017(_wait_for_tstate_lock)\n",
      "        2    0.000    0.000    0.000    0.000 threading.py:1095(daemon)\n",
      "        1    0.000    0.000    0.000    0.000 threading.py:1177(_make_invoke_excepthook)\n",
      "        2    0.000    0.000    0.000    0.000 threading.py:1306(current_thread)\n",
      "        1    0.000    0.000    0.000    0.000 threading.py:222(__init__)\n",
      "    40002    0.166    0.000    0.264    0.000 threading.py:246(__enter__)\n",
      "    40002    0.156    0.000    0.234    0.000 threading.py:249(__exit__)\n",
      "    20001    0.088    0.000    0.123    0.000 threading.py:255(_release_save)\n",
      "    20001    0.092    0.000    0.136    0.000 threading.py:258(_acquire_restore)\n",
      "    60002    0.228    0.000    0.367    0.000 threading.py:261(_is_owned)\n",
      "    20001    0.428    0.000   12.979    0.001 threading.py:270(wait)\n",
      "    40001    0.375    0.000    0.825    0.000 threading.py:341(notify)\n",
      "        1    0.000    0.000    0.000    0.000 threading.py:505(__init__)\n",
      "        2    0.000    0.000    0.000    0.000 threading.py:513(is_set)\n",
      "        1    0.000    0.000    0.055    0.055 threading.py:540(wait)\n",
      "        1    0.000    0.000    0.000    0.000 threading.py:734(_newname)\n",
      "        1    0.000    0.000    0.000    0.000 threading.py:761(__init__)\n",
      "        1    0.000    0.000    0.055    0.055 threading.py:834(start)\n",
      "        1    0.000    0.000    0.000    0.000 threading.py:944(_stop)\n",
      "        1    0.000    0.000    0.000    0.000 threading.py:979(join)\n",
      "    20002    0.154    0.000    0.154    0.000 {built-in method _thread.allocate_lock}\n",
      "        2    0.000    0.000    0.000    0.000 {built-in method _thread.get_ident}\n",
      "        1    0.000    0.000    0.000    0.000 {built-in method _thread.start_new_thread}\n",
      "        1    0.014    0.014   15.894   15.894 {built-in method builtins.exec}\n",
      "    40000    0.080    0.000    0.080    0.000 {built-in method builtins.len}\n",
      "    40002    0.098    0.000    0.098    0.000 {method '__enter__' of '_thread.lock' objects}\n",
      "    40002    0.078    0.000    0.078    0.000 {method '__exit__' of '_thread.lock' objects}\n",
      "   120006   12.165    0.000   12.165    0.000 {method 'acquire' of '_thread.lock' objects}\n",
      "        1    0.000    0.000    0.000    0.000 {method 'add' of 'set' objects}\n",
      "    40002    0.075    0.000    0.075    0.000 {method 'append' of 'collections.deque' objects}\n",
      "        1    0.000    0.000    0.000    0.000 {method 'disable' of '_lsprof.Profiler' objects}\n",
      "        2    0.000    0.000    0.000    0.000 {method 'discard' of 'set' objects}\n",
      "        1    0.000    0.000    0.000    0.000 {method 'locked' of '_thread.lock' objects}\n",
      "    20000    0.033    0.000    0.033    0.000 {method 'popleft' of 'collections.deque' objects}\n",
      "    40002    0.176    0.000    0.176    0.000 {method 'release' of '_thread.lock' objects}\n",
      "    20000    0.058    0.000    0.058    0.000 {method 'remove' of 'collections.deque' objects}\n",
      "\n",
      "\n"
     ]
    }
   ],
   "source": [
    "cProfile.run('generate_random_numbers(False, 20000)')\n"
   ]
  },
  {
   "cell_type": "code",
   "execution_count": null,
   "metadata": {},
   "outputs": [],
   "source": []
  }
 ],
 "metadata": {
  "kernelspec": {
   "display_name": "Python 3",
   "language": "python",
   "name": "python3"
  },
  "language_info": {
   "codemirror_mode": {
    "name": "ipython",
    "version": 3
   },
   "file_extension": ".py",
   "mimetype": "text/x-python",
   "name": "python",
   "nbconvert_exporter": "python",
   "pygments_lexer": "ipython3",
   "version": "3.8.5"
  }
 },
 "nbformat": 4,
 "nbformat_minor": 4
}
